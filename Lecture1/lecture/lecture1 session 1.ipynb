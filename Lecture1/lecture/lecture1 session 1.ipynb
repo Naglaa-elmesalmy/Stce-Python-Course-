{
 "cells": [
  {
   "cell_type": "markdown",
   "id": "8aaa90fe-23e1-4694-be28-37674273eb21",
   "metadata": {},
   "source": [
    "# Python Course"
   ]
  },
  {
   "cell_type": "markdown",
   "id": "20b00409-b18f-4d37-bf6c-fdb25b74287a",
   "metadata": {},
   "source": [
    "## lecture 1 :session 1"
   ]
  },
  {
   "cell_type": "markdown",
   "id": "8ae85fad-1151-4381-95f2-34cdf5b7cb74",
   "metadata": {},
   "source": [
    "### <ins>Introduction to Python</ins>\n",
    "Python is a high-level programming language known for its readability and versatility. It is used in various fields, including web development, data science, AI, and automation.\n"
   ]
  },
  {
   "cell_type": "markdown",
   "id": "3bb4a5cc-3035-4171-8827-15a48eedf1ae",
   "metadata": {},
   "source": [
    "### <ins>Markup for formatting Text in Markdown cell</ins>\n",
    "\n",
    "- bold ==> **bold** or __bold__\n",
    "\n",
    "- italic ==> *italic*\n",
    "\n",
    "- bulleted list:\n",
    "  * item1 \n",
    "  * item2\n",
    "\n",
    "- ordered list :\n",
    "  1. item No.1.\n",
    "  2. item No.2.\n",
    "\n",
    "[for more](https://www.dataquest.io/blog/jupyter-notebook-tutorial/) .."
   ]
  },
  {
   "cell_type": "markdown",
   "id": "967a07fc-dd56-4872-b1ab-56256df6c6e7",
   "metadata": {},
   "source": [
    "### <ins>Output</ins>"
   ]
  },
  {
   "cell_type": "code",
   "execution_count": null,
   "id": "b1aea81f-2b9a-4adb-9936-b4915db3b547",
   "metadata": {},
   "outputs": [],
   "source": [
    "print(\"hello in python Course\")"
   ]
  },
  {
   "cell_type": "markdown",
   "id": "53bf535d-cbe6-466e-9a17-afe50aac4d03",
   "metadata": {},
   "source": [
    "**- Draw Triangle**"
   ]
  },
  {
   "cell_type": "code",
   "execution_count": null,
   "id": "902961ce-dc85-43cb-842c-449c701e8362",
   "metadata": {},
   "outputs": [],
   "source": [
    "print(\"   /|\")\n",
    "print(\"  / |\")\n",
    "print(\" /  |\")\n",
    "print(\"/___|\")\n"
   ]
  },
  {
   "cell_type": "code",
   "execution_count": null,
   "id": "0e2c7348-7fbb-4260-b341-8ffc1a60d0fb",
   "metadata": {},
   "outputs": [],
   "source": [
    "#another  method\n"
   ]
  },
  {
   "cell_type": "markdown",
   "id": "d89581a9-0e6c-4dea-895c-882913096807",
   "metadata": {},
   "source": [
    "**Note:** the backslash \"\\\\\" is a special character, also called the \"escape\" character. It is used in representing certain whitespace characters: \"\\t\" is a tab, \"\\n\" is a newline, and \"\\r\" is used to move the cursor to the beginning of the current line  "
   ]
  },
  {
   "cell_type": "code",
   "execution_count": null,
   "id": "32688c09-087b-4320-a943-38c9cc3260c1",
   "metadata": {},
   "outputs": [],
   "source": [
    "print(\"Today\", \"is\", \"Monday\")"
   ]
  },
  {
   "cell_type": "code",
   "execution_count": null,
   "id": "a75b9cc1-ad81-4dfb-8efb-ea8667ea6431",
   "metadata": {},
   "outputs": [],
   "source": [
    "print(\"Today\", \"is\", \"Monday\", sep=\"? \",end=\"!!\")\n"
   ]
  },
  {
   "cell_type": "code",
   "execution_count": null,
   "id": "1abe7f9d-7a87-4ec7-91e9-c726a39c1b8b",
   "metadata": {},
   "outputs": [],
   "source": [
    "'Insert another string with curly brackets: {}'.format('hi')"
   ]
  },
  {
   "cell_type": "code",
   "execution_count": null,
   "id": "ec7ebdad-e967-41e6-9c39-9f859f39945c",
   "metadata": {},
   "outputs": [],
   "source": [
    "\"For only {price:.2f} dollars!\".format(price = 49)"
   ]
  },
  {
   "cell_type": "code",
   "execution_count": null,
   "id": "1062a776-5556-4bf2-98b0-fb64d1091c28",
   "metadata": {},
   "outputs": [],
   "source": [
    "txt1 = \"My name is {fname}, I'm {age}\".format(fname = \"John\", age = 36)\n",
    "txt2 = \"My name is {0}, I'm {1}\".format(\"John\",36)\n",
    "txt3 = \"My name is {}, I'm {}\".format(\"John\",36)\n",
    "print(txt1,\"\\n\",txt2,\"\\n\",txt3)"
   ]
  },
  {
   "cell_type": "markdown",
   "id": "c067c2e1-1686-43d2-954c-a22b5adb6dd8",
   "metadata": {},
   "source": [
    "### <u>Variables</u>"
   ]
  },
  {
   "cell_type": "markdown",
   "id": "dd19d1c6-9f45-4e20-aa7c-86ce90f2468a",
   "metadata": {},
   "source": [
    "**Rules for variable names**\r\n",
    "* names can not start with a number\r\n",
    "* names can not contain spaces, use _ intead\r\n",
    "* names can not contain any of these symb ==>      :'\",<>/?|\\!@#%^&*~-+       \r\n",
    "* it's considered best practice that names are lowercase with underscores\r\n",
    "* avoid using Python built-in "
   ]
  },
  {
   "cell_type": "markdown",
   "id": "1fc900b9-2a15-4eee-a78c-819eeb396f93",
   "metadata": {},
   "source": [
    "**Assignment statement**"
   ]
  },
  {
   "cell_type": "code",
   "execution_count": null,
   "id": "fea1eda0-7f1d-4558-b526-34077ba79e6d",
   "metadata": {},
   "outputs": [],
   "source": [
    "var1=5\n",
    "print(var1) \n",
    "var1=\"Ahmed\"\n",
    "print(var1)"
   ]
  },
  {
   "cell_type": "markdown",
   "id": "f685c9ce-b345-4ebb-abb2-8d6043b9bd90",
   "metadata": {},
   "source": [
    "**Types**"
   ]
  },
  {
   "cell_type": "markdown",
   "id": "55a279ab-cdbb-41dd-957e-18e72b85dc09",
   "metadata": {},
   "source": [
    "**1-Number**\n",
    "- Basic Arithmetic\n",
    "  \n",
    "| Arithmetic | Example | Result|\n",
    "| --- | --- | --- |\n",
    "| Addition | 2 + 20 | 22 |\n",
    "| Subtraction | 2-1 | 1 |\n",
    "| Multiplication | 2*2 | 4 |\n",
    "| Division | 7/4 | 1.75 |\n",
    "| Floor Division | 7//4 | 1 |\n",
    "| Modulo | 7%4 | 3 |\n",
    "| Power | 2**3 | 8 |\n",
    "| Roots | 4**0.5 | 2 |\n",
    "|add, subtract, multiply and divide numbers with reassignment | +=, -=, *=, /= | |\n",
    "| Order of Operations | (..) => *,/ => +,- | | |"
   ]
  },
  {
   "cell_type": "code",
   "execution_count": null,
   "id": "bbc35e10-c3d9-4bfa-9e06-2554a14531ae",
   "metadata": {},
   "outputs": [],
   "source": [
    "x=10\n",
    "((3*(x**2))+(2*x)+1)/(5+x)"
   ]
  },
  {
   "cell_type": "code",
   "execution_count": null,
   "id": "2629592b-43c6-4734-b32c-9b4967dbb774",
   "metadata": {},
   "outputs": [],
   "source": [
    "(4+5)*(3+7)"
   ]
  },
  {
   "cell_type": "markdown",
   "id": "ff108a07-540b-42e3-9e83-2925a69fc09a",
   "metadata": {},
   "source": [
    "**2-Boolean:**"
   ]
  },
  {
   "cell_type": "code",
   "execution_count": null,
   "id": "c12075c6-bcd3-4160-a3d0-9e5104f48d8e",
   "metadata": {},
   "outputs": [],
   "source": [
    "number1 = 5\n",
    "number2 = 5\n",
    "result = number1 > number2\n",
    "print(result)\n",
    "result = number1 >= number2\n",
    "print(result)\n",
    "result = number1 != number2\n",
    "print(result)\n",
    "result = number1 == number2\n",
    "print(result)"
   ]
  },
  {
   "cell_type": "code",
   "execution_count": null,
   "id": "21c91ab1-f8e1-419d-8c72-b051cfabdfcc",
   "metadata": {},
   "outputs": [],
   "source": [
    "1<3 and 3>2"
   ]
  },
  {
   "cell_type": "code",
   "execution_count": null,
   "id": "e20d9307-1e83-4cde-bf8e-802b45746697",
   "metadata": {},
   "outputs": [],
   "source": [
    "1==1 or 100==1"
   ]
  },
  {
   "cell_type": "markdown",
   "id": "50a5e7b1-fd60-41ca-a455-6be2e3e5161b",
   "metadata": {},
   "source": [
    "**3-Strings**\n",
    "\n",
    "To create a string in Python you need to use either single quotes or double quotes"
   ]
  },
  {
   "cell_type": "code",
   "execution_count": null,
   "id": "c2a73cba-71b0-4f4d-a80c-78e45cc4c07e",
   "metadata": {},
   "outputs": [],
   "source": [
    "print('This is also a string')\n",
    "print(\"String built with double quotes\")"
   ]
  },
  {
   "cell_type": "code",
   "execution_count": null,
   "id": "9a2f8422-a37c-4f13-b5f3-e26b25d044f5",
   "metadata": {},
   "outputs": [],
   "source": [
    "# error\n",
    "' I'm using single quotes, but this will create an error'"
   ]
  },
  {
   "cell_type": "markdown",
   "id": "9b749628-3d98-4a06-9f2e-d76065de71c3",
   "metadata": {},
   "source": [
    "**-String Indexing**"
   ]
  },
  {
   "cell_type": "code",
   "execution_count": null,
   "id": "c4fbb23d-fef2-456e-b670-4c25e85abdc6",
   "metadata": {},
   "outputs": [],
   "source": [
    "s = 'HelloWorld'"
   ]
  },
  {
   "cell_type": "code",
   "execution_count": null,
   "id": "e26cc8a0-73a8-425c-a7cd-ba6a15b1a4c7",
   "metadata": {},
   "outputs": [],
   "source": [
    "# begin with 0 \n",
    "s[0]"
   ]
  },
  {
   "cell_type": "markdown",
   "id": "ec94c028-5925-42ab-9765-f6906143e07b",
   "metadata": {},
   "source": [
    "**-Python slice string:**\n",
    "\n",
    "**<font color='blue'>str_object[start_pos:end_pos:step]</font>**"
   ]
  },
  {
   "cell_type": "code",
   "execution_count": null,
   "id": "df3e8ccc-058d-4c3d-992e-25f15493af60",
   "metadata": {},
   "outputs": [],
   "source": [
    "#  Grab everything after the first digit\n",
    "s[1:]"
   ]
  },
  {
   "cell_type": "code",
   "execution_count": null,
   "id": "af631c26-fffb-4afe-aa0e-a681f7d620c4",
   "metadata": {},
   "outputs": [],
   "source": [
    "s[2:]"
   ]
  },
  {
   "cell_type": "code",
   "execution_count": null,
   "id": "a4d846a0-1d38-44ca-988a-bb8e1a6efa8c",
   "metadata": {},
   "outputs": [],
   "source": [
    "#  Grab everything before the fourth digit\n",
    "s[:3]"
   ]
  },
  {
   "cell_type": "code",
   "execution_count": null,
   "id": "4610c8a4-38c4-4371-9e72-26c2b79e0cb7",
   "metadata": {},
   "outputs": [],
   "source": [
    "#Everything   #  s[:]  ===  s === s[0:]\n",
    "# Note that since none of the slicing parameters were provided, the substring is equal to the original string\n",
    "s[:]"
   ]
  },
  {
   "cell_type": "code",
   "execution_count": null,
   "id": "44237e03-67c2-4ff4-a9f5-9a54fd52e583",
   "metadata": {},
   "outputs": [],
   "source": [
    "# Question :\n",
    "s[::1]"
   ]
  },
  {
   "cell_type": "code",
   "execution_count": null,
   "id": "2b6ceef7-c493-4549-af79-397dcdd0cb5e",
   "metadata": {},
   "outputs": [],
   "source": [
    "s[::2]"
   ]
  },
  {
   "cell_type": "code",
   "execution_count": null,
   "id": "7c25fedd-74a8-4dc7-b038-c6b1cd18396b",
   "metadata": {},
   "outputs": [],
   "source": [
    "s[::3]"
   ]
  },
  {
   "cell_type": "markdown",
   "id": "983ef43d-0144-4abd-9da7-72c9d7c78511",
   "metadata": {},
   "source": [
    "**-Reverse a String using Slicing**"
   ]
  },
  {
   "cell_type": "code",
   "execution_count": null,
   "id": "ea916451-5a22-43f1-b31e-a91dc8264580",
   "metadata": {},
   "outputs": [],
   "source": [
    "# Last letter (one index behind 0 so it loops back around) رجعلي اخر حرف \n",
    "s[-1]"
   ]
  },
  {
   "cell_type": "code",
   "execution_count": null,
   "id": "34eeca98-ff1b-443e-bed2-2ce6c4f2afbb",
   "metadata": {},
   "outputs": [],
   "source": [
    "# Grab everything but the last letter    رجعلي كله ماعدا اخر حرف \n",
    "s[:-1]"
   ]
  },
  {
   "cell_type": "code",
   "execution_count": null,
   "id": "25655960-887b-4249-a08c-5b63f5cb1a39",
   "metadata": {},
   "outputs": [],
   "source": [
    "s[::-1]"
   ]
  },
  {
   "cell_type": "code",
   "execution_count": null,
   "id": "9cccabd0-c87a-476e-8f0d-eb071d6c9bfd",
   "metadata": {},
   "outputs": [],
   "source": [
    "s[8:1:-1]"
   ]
  },
  {
   "attachments": {
    "ce208f32-5a6f-4f96-a25c-9ac3009c5a0b.png": {
     "image/png": "[encoded data removed]"
    }
   },
   "cell_type": "markdown",
   "id": "f9db1f29-a3cd-4652-854b-84c26b5caca8",
   "metadata": {},
   "source": [
    "![image.png](attachment:ce208f32-5a6f-4f96-a25c-9ac3009c5a0b.png)"
   ]
  },
  {
   "cell_type": "code",
   "execution_count": null,
   "id": "35d88bac-807b-486e-a9e6-0da9c3977ce7",
   "metadata": {},
   "outputs": [],
   "source": [
    "s[8:1:-2]"
   ]
  },
  {
   "attachments": {
    "18d54c5c-fed5-49ac-83ca-570f80a97bc8.png": {
     "image/png": "[encoded data removed]"
    }
   },
   "cell_type": "markdown",
   "id": "d2b3be4a-e50d-4e32-b4ef-d0b2067de7d6",
   "metadata": {},
   "source": [
    "![image.png](attachment:18d54c5c-fed5-49ac-83ca-570f80a97bc8.png)\n"
   ]
  },
  {
   "cell_type": "code",
   "execution_count": null,
   "id": "981d6c1b-65b9-4091-8fa5-b2d0504d543d",
   "metadata": {},
   "outputs": [],
   "source": [
    "s[-4:-2]"
   ]
  },
  {
   "attachments": {
    "60c03215-ceec-47f4-b1be-5fa9b5580e3a.png": {
     "image/png": "[encoded data removed]"
    }
   },
   "cell_type": "markdown",
   "id": "da2b14c2-8575-446a-b05d-d52534715cff",
   "metadata": {},
   "source": [
    "![image.png](attachment:60c03215-ceec-47f4-b1be-5fa9b5580e3a.png)"
   ]
  },
  {
   "cell_type": "markdown",
   "id": "6e39cfde-c9ad-4127-ae85-d5bec97cdd45",
   "metadata": {},
   "source": [
    "**-String Properties And Functions**"
   ]
  },
  {
   "cell_type": "code",
   "execution_count": null,
   "id": "7584d0ed-6797-4527-93e8-1a587c992092",
   "metadata": {},
   "outputs": [],
   "source": [
    "s[0] = 'x'"
   ]
  },
  {
   "cell_type": "code",
   "execution_count": null,
   "id": "154e19b9-cf4f-45ee-9853-1bf7b23a5a16",
   "metadata": {},
   "outputs": [],
   "source": [
    "s.replace('H', 'x')"
   ]
  },
  {
   "cell_type": "code",
   "execution_count": null,
   "id": "cff3ebba-e4ea-4a9d-bf5c-bd28e613a3fc",
   "metadata": {},
   "outputs": [],
   "source": [
    "s + ' concatenate with string !'"
   ]
  },
  {
   "cell_type": "code",
   "execution_count": null,
   "id": "10436121-fb79-4696-8b51-1b18e95a5d14",
   "metadata": {},
   "outputs": [],
   "source": [
    "s=s + ' concatenate with string !'\n",
    "print(s)"
   ]
  },
  {
   "cell_type": "code",
   "execution_count": null,
   "id": "7001084f-8d90-4dce-8e1f-652cf0976ed4",
   "metadata": {},
   "outputs": [],
   "source": [
    "#s+=' concatenate with string !'\n",
    "print(s)"
   ]
  },
  {
   "cell_type": "code",
   "execution_count": null,
   "id": "10927aa6-c610-4bb3-8a02-b8b3d4ef007c",
   "metadata": {},
   "outputs": [],
   "source": [
    "# Multiplying\n",
    "s*3"
   ]
  },
  {
   "cell_type": "code",
   "execution_count": null,
   "id": "92eeba70-3c9d-4725-9d51-b48a2713d051",
   "metadata": {},
   "outputs": [],
   "source": [
    "len(s)"
   ]
  },
  {
   "cell_type": "code",
   "execution_count": null,
   "id": "a0337d85-da64-477a-8d4f-87b40b6764d4",
   "metadata": {},
   "outputs": [],
   "source": [
    "'p' not in s"
   ]
  },
  {
   "cell_type": "code",
   "execution_count": null,
   "id": "ef27ce82-1821-4fe7-8dc9-e734bee1a6d7",
   "metadata": {},
   "outputs": [],
   "source": [
    "s.endswith('python')"
   ]
  },
  {
   "cell_type": "code",
   "execution_count": null,
   "id": "e6ea3285-109a-4144-860d-8dfef299495b",
   "metadata": {},
   "outputs": [],
   "source": [
    "s.isdigit()"
   ]
  },
  {
   "cell_type": "code",
   "execution_count": null,
   "id": "476a3a3b-b908-41f3-a55d-0ed335a63a23",
   "metadata": {},
   "outputs": [],
   "source": [
    "s.upper()"
   ]
  },
  {
   "cell_type": "code",
   "execution_count": null,
   "id": "dcf85c31-7c21-4f33-b03d-968d681e9c53",
   "metadata": {},
   "outputs": [],
   "source": [
    "s.lower()"
   ]
  },
  {
   "cell_type": "code",
   "execution_count": null,
   "id": "4e8179e6-e4e7-4dc4-b5d5-9d5deb844a26",
   "metadata": {},
   "outputs": [],
   "source": [
    "#  Split a string by blank space (this is the default)  \n",
    "s.split()"
   ]
  },
  {
   "cell_type": "code",
   "execution_count": null,
   "id": "73b1bdd4-0648-411b-bbdc-6ec2c0a6a2d6",
   "metadata": {},
   "outputs": [],
   "source": [
    "'Hello World'.split()"
   ]
  },
  {
   "cell_type": "code",
   "execution_count": null,
   "id": "ad3209f3-c7b3-4357-9496-ae9fe96d0b43",
   "metadata": {},
   "outputs": [],
   "source": [
    "s.split('W')"
   ]
  },
  {
   "cell_type": "markdown",
   "id": "778a1b97-829f-4822-9c87-7a2d164b1842",
   "metadata": {},
   "source": [
    "**4-Lists**"
   ]
  },
  {
   "cell_type": "code",
   "execution_count": null,
   "id": "047ad5c7-1bc1-4bca-8f39-991c6b08d16a",
   "metadata": {},
   "outputs": [],
   "source": [
    "fruits = ['apples', 'mango', 'bannanas', 'grapes']"
   ]
  },
  {
   "cell_type": "code",
   "execution_count": null,
   "id": "dca0848d-484b-47df-82fe-4caf6880eec2",
   "metadata": {},
   "outputs": [],
   "source": [
    "# can take different types\n",
    "my_list = ['A string',23,100.232,'o']"
   ]
  },
  {
   "cell_type": "code",
   "execution_count": null,
   "id": "b0f852ea-7b71-405e-afa7-d0cb68969a8e",
   "metadata": {},
   "outputs": [],
   "source": [
    "print(fruits[2])"
   ]
  },
  {
   "cell_type": "code",
   "execution_count": null,
   "id": "9f3cb062-62a9-456f-9cc0-9d0ac362f62f",
   "metadata": {},
   "outputs": [],
   "source": [
    "print(fruits[1][3])"
   ]
  },
  {
   "cell_type": "code",
   "execution_count": null,
   "id": "ac8e8621-a50d-418e-9d30-6b6695ce0ce3",
   "metadata": {},
   "outputs": [],
   "source": [
    "# can change the element using element index\n",
    "fruits[2]=\"coconut\"\n",
    "print (fruits)"
   ]
  },
  {
   "cell_type": "code",
   "execution_count": null,
   "id": "fd2edf1d-cc68-40ba-99ed-c86e7e9eb556",
   "metadata": {},
   "outputs": [],
   "source": [
    "len(fruits)"
   ]
  },
  {
   "cell_type": "code",
   "execution_count": null,
   "id": "391254ac-0b02-4e8c-a369-23de88e46576",
   "metadata": {},
   "outputs": [],
   "source": [
    "'orange' in fruits"
   ]
  },
  {
   "cell_type": "code",
   "execution_count": null,
   "id": "b929d4c3-dc47-4f43-ba01-ce9b3332e965",
   "metadata": {},
   "outputs": [],
   "source": [
    "fruits + ['bannanas']\n"
   ]
  },
  {
   "cell_type": "code",
   "execution_count": null,
   "id": "76485e42-2ed9-475a-9fac-d1fb741eb117",
   "metadata": {},
   "outputs": [],
   "source": [
    "print (fruits) ##??? bannanas"
   ]
  },
  {
   "cell_type": "code",
   "execution_count": null,
   "id": "d66f9c8b-7363-4bec-80d7-d40fb33422cb",
   "metadata": {},
   "outputs": [],
   "source": [
    "fruits.append('oranges')\n",
    "print (fruits)\n",
    "## Reassign\n",
    "## fruits = fruits + ['add new item permanently']"
   ]
  },
  {
   "cell_type": "code",
   "execution_count": null,
   "id": "d20437bc-dc80-4048-9dc4-8df4ee48a28a",
   "metadata": {},
   "outputs": [],
   "source": [
    "fruits.sort()\n",
    "print(fruits)"
   ]
  },
  {
   "cell_type": "code",
   "execution_count": null,
   "id": "6ad128cb-2825-4657-919d-f174d9b7daa3",
   "metadata": {},
   "outputs": [],
   "source": [
    "fruits.reverse()\n",
    "print(fruits)"
   ]
  },
  {
   "cell_type": "code",
   "execution_count": null,
   "id": "6a0c4616-1c77-404d-b3eb-6d452efef13c",
   "metadata": {},
   "outputs": [],
   "source": [
    "fruits.count('kiwi')"
   ]
  },
  {
   "cell_type": "code",
   "execution_count": null,
   "id": "aca1952b-36e7-4789-9c24-3e0c10e3b26b",
   "metadata": {},
   "outputs": [],
   "source": [
    "fruits.index( 'mango')"
   ]
  },
  {
   "cell_type": "code",
   "execution_count": null,
   "id": "1084caf6-4746-4404-88e5-92992ecdc356",
   "metadata": {},
   "outputs": [],
   "source": [
    "fruits.insert(1, \"orange\")\n",
    "fruits"
   ]
  },
  {
   "cell_type": "code",
   "execution_count": null,
   "id": "4dab606f-126d-4687-b143-332d0dc8f5c6",
   "metadata": {},
   "outputs": [],
   "source": [
    "fruits.remove(\"orange\")\n",
    "fruits"
   ]
  },
  {
   "cell_type": "code",
   "execution_count": null,
   "id": "653494b7-7c0e-4985-8090-94425de988fa",
   "metadata": {},
   "outputs": [],
   "source": [
    "numbers = [10, 7, 200, 300]\n",
    "print(max(numbers))\n",
    "print(min(numbers))"
   ]
  },
  {
   "cell_type": "code",
   "execution_count": null,
   "id": "368d780b-a443-4e75-94b2-9c9fbcf1e3c3",
   "metadata": {},
   "outputs": [],
   "source": [
    "fruits * 2"
   ]
  },
  {
   "cell_type": "code",
   "execution_count": null,
   "id": "1743f64c-edea-457a-8cf3-5f8d974df585",
   "metadata": {},
   "outputs": [],
   "source": [
    "del fruits[4]\n",
    "print(fruits)"
   ]
  },
  {
   "cell_type": "code",
   "execution_count": null,
   "id": "b5851b0f-e203-48fe-8ef8-fd00b5ac58e0",
   "metadata": {},
   "outputs": [],
   "source": [
    "# fetch and delete element\n",
    "fruits.pop(0)"
   ]
  },
  {
   "cell_type": "code",
   "execution_count": null,
   "id": "d4a8ea99-7c0e-484e-a701-f8cd94a21b66",
   "metadata": {},
   "outputs": [],
   "source": [
    "fruits"
   ]
  },
  {
   "cell_type": "markdown",
   "id": "202aa82e-c7a6-4d80-81d1-4d998e3e8db2",
   "metadata": {},
   "source": [
    "**-Slicing:** slicing work just like in strings"
   ]
  },
  {
   "cell_type": "code",
   "execution_count": null,
   "id": "915a3ae6-9cfc-4494-a462-478445d7e0c1",
   "metadata": {},
   "outputs": [],
   "source": [
    "fruits[1:]"
   ]
  },
  {
   "cell_type": "code",
   "execution_count": null,
   "id": "aabb7697-5538-4ab4-9b01-c7153597f94b",
   "metadata": {},
   "outputs": [],
   "source": [
    "fruits[:3]"
   ]
  },
  {
   "cell_type": "code",
   "execution_count": null,
   "id": "f232a745-36dc-4042-8d43-d20bccbf4706",
   "metadata": {},
   "outputs": [],
   "source": [
    "fruits.clear()\n",
    "fruits"
   ]
  },
  {
   "cell_type": "markdown",
   "id": "960d782c-5edf-4126-b7b5-8868e85e85f9",
   "metadata": {},
   "source": [
    "**-Nesting Lists**"
   ]
  },
  {
   "cell_type": "code",
   "execution_count": null,
   "id": "08d48ded-9b07-45a1-8503-935918589d42",
   "metadata": {},
   "outputs": [],
   "source": [
    "lst_1=[1,2,3]\n",
    "lst_2=[4,5,6]\n",
    "lst_3=[7,8,9]\n",
    "\n",
    "# Make a list of lists to form a matrix\n",
    "matrix = [lst_1,lst_2,lst_3]"
   ]
  },
  {
   "cell_type": "code",
   "execution_count": null,
   "id": "9c7af6d6-ed6c-4bcb-ac2c-bec3e602b765",
   "metadata": {},
   "outputs": [],
   "source": [
    "matrix"
   ]
  },
  {
   "cell_type": "code",
   "execution_count": null,
   "id": "6d7afc8f-d3e3-4ce2-bfcd-90d8105faaf4",
   "metadata": {},
   "outputs": [],
   "source": [
    "matrix[1]"
   ]
  },
  {
   "cell_type": "code",
   "execution_count": null,
   "id": "7feaec62-caa1-4fb4-bbb3-d7f51a1057b7",
   "metadata": {},
   "outputs": [],
   "source": [
    "matrix[1][1]"
   ]
  },
  {
   "cell_type": "markdown",
   "id": "0b8fea92-8b99-4fea-95a6-bb53a81ffee4",
   "metadata": {},
   "source": [
    "**5-Dictionaries**"
   ]
  },
  {
   "cell_type": "code",
   "execution_count": null,
   "id": "08ab859b-444c-41ec-9d5a-b6bfedb6cac3",
   "metadata": {},
   "outputs": [],
   "source": [
    "store_dic = {\"apples\": 10, \"mango\": 20, \"grapes\": 30}\n",
    "# create empty dictionary\n",
    "my_dic = {}\n",
    "my_dic['key1'] = 'cairo'\n",
    "my_dic['key2'] = 22\n",
    "my_dic"
   ]
  },
  {
   "cell_type": "code",
   "execution_count": null,
   "id": "3cca7896-d388-4e9e-be72-3565adbb00b1",
   "metadata": {},
   "outputs": [],
   "source": [
    "my_dic[66] = 5\n",
    "my_dic"
   ]
  },
  {
   "cell_type": "code",
   "execution_count": null,
   "id": "4acde5f1-67ea-4623-b2c5-7de2bc4a53a4",
   "metadata": {},
   "outputs": [],
   "source": [
    "my_dic[66] =True\n",
    "my_dic"
   ]
  },
  {
   "cell_type": "code",
   "execution_count": null,
   "id": "bdb61def-ea46-4152-be4f-5b21d225ecb7",
   "metadata": {},
   "outputs": [],
   "source": [
    "my_dic.keys()"
   ]
  },
  {
   "cell_type": "code",
   "execution_count": null,
   "id": "b43eb378-99e8-40dd-8fe9-8f3c9e888f11",
   "metadata": {},
   "outputs": [],
   "source": [
    "my_dic.values()"
   ]
  },
  {
   "cell_type": "code",
   "execution_count": null,
   "id": "4ead403b-ec35-46ec-8f34-7759fdc1d24b",
   "metadata": {},
   "outputs": [],
   "source": [
    "my_dic[66]"
   ]
  },
  {
   "cell_type": "code",
   "execution_count": null,
   "id": "bed53eb0-1d71-413d-ae44-a36486b97a15",
   "metadata": {},
   "outputs": [],
   "source": [
    "my_dic.items()"
   ]
  },
  {
   "cell_type": "code",
   "execution_count": null,
   "id": "9ad94af8-5a1c-455c-acab-fe1f9aad150b",
   "metadata": {},
   "outputs": [],
   "source": [
    "# nested dictionery\n",
    "d = {'key1':{'nestkey':{'subnestkey':'value'}}}"
   ]
  },
  {
   "cell_type": "code",
   "execution_count": null,
   "id": "b79bbc80-5270-4ef4-8e7e-802cff52c1d5",
   "metadata": {},
   "outputs": [],
   "source": [
    "# Keep calling the keys\n",
    "d['key1']['nestkey']['subnestkey']"
   ]
  },
  {
   "cell_type": "markdown",
   "id": "068ccd09-6967-43f4-b8c0-afcbb8d4cd07",
   "metadata": {},
   "source": [
    "**6-tuples**\n",
    "\n",
    "tuple is a collection which is ordered and unchangeable. Allows duplicate members."
   ]
  },
  {
   "cell_type": "code",
   "execution_count": null,
   "id": "6da99719-dedd-4f76-a1a6-ccf4152edd1f",
   "metadata": {},
   "outputs": [],
   "source": [
    "t1 = (1,2,3,4,7)"
   ]
  },
  {
   "cell_type": "code",
   "execution_count": null,
   "id": "59702775-99d7-449a-b006-1fd6f673088c",
   "metadata": {},
   "outputs": [],
   "source": [
    "# Can also mix object types\n",
    "t2 = ('one',2)"
   ]
  },
  {
   "cell_type": "code",
   "execution_count": null,
   "id": "746455d8-5ba2-4e0a-bf00-1fcb064994ea",
   "metadata": {},
   "outputs": [],
   "source": [
    "len(t1)"
   ]
  },
  {
   "cell_type": "code",
   "execution_count": null,
   "id": "b2c0de03-80c8-49a4-b809-19882df647d8",
   "metadata": {},
   "outputs": [],
   "source": [
    "t[0]"
   ]
  },
  {
   "cell_type": "code",
   "execution_count": null,
   "id": "d2d18a67-d051-47db-9241-52ed4121e554",
   "metadata": {},
   "outputs": [],
   "source": [
    "t1[-1]"
   ]
  },
  {
   "cell_type": "code",
   "execution_count": null,
   "id": "208219e2-9c16-41d2-86d2-ede42e7213b4",
   "metadata": {},
   "outputs": [],
   "source": [
    "## what's the matter?\n",
    "t1[0]= 9"
   ]
  },
  {
   "cell_type": "code",
   "execution_count": null,
   "id": "4bb75b73-520b-4153-861d-34552492d3f8",
   "metadata": {},
   "outputs": [],
   "source": [
    "# for change \n",
    "y = list(t1)\n",
    "y[1] = 9\n",
    "t1 = tuple(y)\n",
    "print(t1)"
   ]
  },
  {
   "cell_type": "code",
   "execution_count": null,
   "id": "101d6287-655b-45da-bf38-e660d409afdd",
   "metadata": {},
   "outputs": [],
   "source": [
    "# Searches the tuple for a specified value and returns the position of where it was found\n",
    "t1.index(9)"
   ]
  },
  {
   "cell_type": "code",
   "execution_count": null,
   "id": "2d2eafe2-a37a-4aac-af85-d0b90aaee12e",
   "metadata": {},
   "outputs": [],
   "source": [
    "#Returns the number of times a specified value occurs in a tuple\n",
    "t1.count('one')"
   ]
  },
  {
   "cell_type": "markdown",
   "id": "2982b058-c8c5-4228-9059-c697b8438f21",
   "metadata": {},
   "source": [
    "**6-set**"
   ]
  },
  {
   "cell_type": "code",
   "execution_count": null,
   "id": "a4e36c69-8b52-42d2-8ad2-915d48a40617",
   "metadata": {},
   "outputs": [],
   "source": [
    "thisset1 = {\"apple\", \"banana\", \"cherry\"}\n",
    "print(thisset1)"
   ]
  },
  {
   "cell_type": "code",
   "execution_count": null,
   "id": "3f172c29-7101-4292-b348-1cdb86c3a77b",
   "metadata": {},
   "outputs": [],
   "source": [
    "thisset2 = {\"apple\", \"banana\", \"cherry\", \"apple\"}\n",
    "\n",
    "print(thisset2)"
   ]
  },
  {
   "cell_type": "code",
   "execution_count": null,
   "id": "323046ba-8b55-4658-8e96-661de85a8675",
   "metadata": {},
   "outputs": [],
   "source": [
    "thisset3 = {\"apple\", \"banana\", \"cherry\", True, 1, 2}\n",
    "\n",
    "print(thisset3)\n",
    "## where is 1???"
   ]
  },
  {
   "cell_type": "code",
   "execution_count": null,
   "id": "e9d101ec-8656-4228-abd5-d639c769a6c9",
   "metadata": {},
   "outputs": [],
   "source": [
    "thisset = {\"apple\", \"banana\", \"cherry\", False, True, 0}\n",
    "\n",
    "print(thisset)\n",
    "## where is 0???"
   ]
  },
  {
   "cell_type": "markdown",
   "id": "dee86c84-993f-4c8f-84eb-14121fbe85d6",
   "metadata": {},
   "source": [
    "**Note:** \n",
    "- The values True and 1 are considered the same value in sets, and are treated as duplicates\n",
    "- The values False and 0 are considered the same value in sets, and are treated as duplicates"
   ]
  },
  {
   "cell_type": "markdown",
   "id": "f6d84ba5-98fd-44c6-b1f7-f837ac8617c3",
   "metadata": {},
   "source": [
    "### <u>Python Collections </u>\r\n",
    "There are four collection data types in the Python programming language:\r\n",
    "* List is a collection which is ordered and changeable. Allows duplicate members as \\['coconut', 'grapes', 'mango'].\r\n",
    "* Tuple is a collection which is ordered and unchangeable. Allows duplicate members as (1,2,3,4,7).\r\n",
    "* Set is a collection which is unordered, unchangeable, and unindexed. No duplicate members as {\"apple\", \"banana\", \"cherry\"}.\r\n",
    "* Dictionary is a collection which is ordered and changeable. No duplicate members as {'key1': 'cairo','key2': 222}.\r\n",
    "ers."
   ]
  },
  {
   "cell_type": "markdown",
   "id": "02a63604-0262-438e-8b27-0b71b6b4a18c",
   "metadata": {},
   "source": [
    "### <u>type()</u>\n",
    "\n",
    "get the data type of any object"
   ]
  },
  {
   "cell_type": "code",
   "execution_count": null,
   "id": "89cdc836-ac1d-45de-b3d1-cc0500ba305d",
   "metadata": {},
   "outputs": [],
   "source": [
    "type(thisset1)"
   ]
  },
  {
   "cell_type": "code",
   "execution_count": null,
   "id": "0fceaa2b-eaba-45de-a308-6ff00e5ce8b3",
   "metadata": {},
   "outputs": [],
   "source": [
    "type(5)"
   ]
  },
  {
   "cell_type": "code",
   "execution_count": null,
   "id": "26c5cca3-cea1-4893-bc6b-f776bd6748f8",
   "metadata": {},
   "outputs": [],
   "source": [
    "type('test')"
   ]
  },
  {
   "cell_type": "markdown",
   "id": "89758b6f-0ad2-4960-b4d8-8cb6e7e5599b",
   "metadata": {},
   "source": [
    "### <u>Python Casting</u>"
   ]
  },
  {
   "cell_type": "code",
   "execution_count": null,
   "id": "a2d91281-dcc7-4946-b098-12ffac6e2bf8",
   "metadata": {},
   "outputs": [],
   "source": [
    "x = int(1)   # x will be 1\n",
    "y = int(2.8) # y will be 2\n",
    "z = int(\"3\") # z will be 3\n",
    "print(x,\"  \",y,\"  \",z)"
   ]
  },
  {
   "cell_type": "code",
   "execution_count": null,
   "id": "33d6904a-9abb-486d-ae2a-4641e5c22535",
   "metadata": {},
   "outputs": [],
   "source": [
    "type(z)"
   ]
  },
  {
   "cell_type": "code",
   "execution_count": null,
   "id": "8d6629f0-ce40-4cf9-be9d-7f53079283e5",
   "metadata": {},
   "outputs": [],
   "source": [
    "x = float(1)     # x will be 1.0\n",
    "y = float(2.8)   # y will be 2.8\n",
    "z = float(\"3\")   # z will be 3.0\n",
    "w = float(\"4.2\") # w will be 4.2\n",
    "print(x,\"  \",y,\"  \",z,\"  \",w)"
   ]
  },
  {
   "cell_type": "code",
   "execution_count": null,
   "id": "5e057be6-71b3-4490-b584-8959e29b8c30",
   "metadata": {},
   "outputs": [],
   "source": [
    "type(z)"
   ]
  },
  {
   "cell_type": "code",
   "execution_count": null,
   "id": "0b012733-b5a8-4d3b-b69c-f425138a0f8a",
   "metadata": {},
   "outputs": [],
   "source": [
    "x = str(\"s1\") # x will be 's1'\n",
    "y = str(2)    # y will be '2'\n",
    "z = str(3.0)  # z will be '3.0'\n",
    "print(x,\"  \",y,\"  \",z)"
   ]
  },
  {
   "cell_type": "code",
   "execution_count": null,
   "id": "4e3e6a54-dc02-4965-9437-7b28687a2ea3",
   "metadata": {},
   "outputs": [],
   "source": [
    "type(z)"
   ]
  },
  {
   "cell_type": "code",
   "execution_count": null,
   "id": "b06b33ce-fef6-481d-911c-26dc0d544434",
   "metadata": {},
   "outputs": [],
   "source": [
    "a=[1,2,3,4,5]   # List Object\n",
    "b=(1,2,3,4,5)   # Tupple Object\n",
    "c=\"Hello\"       # String Object"
   ]
  },
  {
   "cell_type": "code",
   "execution_count": null,
   "id": "c8df8e43-57a1-422b-b502-4a2bf9547ddc",
   "metadata": {},
   "outputs": [],
   "source": [
    "#to list\n",
    "obj_lst=list(c)\n",
    "obj_lst"
   ]
  },
  {
   "cell_type": "code",
   "execution_count": null,
   "id": "2c5715d6-0b09-4c91-bde9-0d6d0ec163d6",
   "metadata": {},
   "outputs": [],
   "source": [
    "#to tuple\n",
    "obj_tupple=tuple(a)\n",
    "obj_tupple"
   ]
  },
  {
   "cell_type": "code",
   "execution_count": null,
   "id": "d1736ba8-23e8-490b-a35a-bc6128520ce0",
   "metadata": {},
   "outputs": [],
   "source": [
    "obj_set=set(a)\n",
    "obj_set"
   ]
  },
  {
   "cell_type": "code",
   "execution_count": null,
   "id": "2e1996a6-090f-430d-9db5-55ee8c1d2ac4",
   "metadata": {},
   "outputs": [],
   "source": [
    "obj_str=str(a)\n",
    "obj_str"
   ]
  },
  {
   "cell_type": "code",
   "execution_count": null,
   "id": "b7053b08-551b-47e4-b3fd-42afb8b488f1",
   "metadata": {},
   "outputs": [],
   "source": [
    "obj_str[0]"
   ]
  },
  {
   "cell_type": "markdown",
   "id": "83a60343-5501-470e-a8e7-ad747aae76c0",
   "metadata": {},
   "source": [
    "### <u>input </u>"
   ]
  },
  {
   "cell_type": "code",
   "execution_count": null,
   "id": "037a27ee-bacb-454e-af5b-f276384ed054",
   "metadata": {},
   "outputs": [],
   "source": [
    "num1 = input(\"Enter your first number: \")\n",
    "num2 = input(\"Enter your second number: \")\n",
    "\n",
    "result = int(num1) + int(num2)\n",
    "\n",
    "print(\"Num1 is : \" + str(num1))\n",
    "print(\"Num2 is : \" + str(num2))\n",
    "print(\"Result is : \" + str(result))"
   ]
  },
  {
   "cell_type": "markdown",
   "id": "c5d5ca86-9af4-4270-be91-2c5b70ccbb94",
   "metadata": {},
   "source": [
    "**<u>Area of a Circle:</u>**\n",
    "\n",
    "input the raduis from user and calculate the area"
   ]
  },
  {
   "cell_type": "code",
   "execution_count": 2,
   "id": "f1bf8c58-fd86-426c-b186-f7834d163c98",
   "metadata": {},
   "outputs": [
    {
     "name": "stdin",
     "output_type": "stream",
     "text": [
      "Enter raduis:  5\n"
     ]
    },
    {
     "name": "stdout",
     "output_type": "stream",
     "text": [
      "Area of a Circle: : 78.5\n"
     ]
    }
   ],
   "source": [
    "raduis = float(input(\"Enter raduis: \"))\n",
    "circle_area = 3.14*(raduis**2)\n",
    "print(\"Area of a Circle: : \" + str(circle_area))"
   ]
  },
  {
   "cell_type": "code",
   "execution_count": null,
   "id": "7079305a-84c2-4614-88e6-5334feb610e3",
   "metadata": {},
   "outputs": [],
   "source": []
  }
 ],
 "metadata": {
  "kernelspec": {
   "display_name": "Python 3 (ipykernel)",
   "language": "python",
   "name": "python3"
  },
  "language_info": {
   "codemirror_mode": {
    "name": "ipython",
    "version": 3
   },
   "file_extension": ".py",
   "mimetype": "text/x-python",
   "name": "python",
   "nbconvert_exporter": "python",
   "pygments_lexer": "ipython3",
   "version": "3.12.4"
  }
 },
 "nbformat": 4,
 "nbformat_minor": 5
}
