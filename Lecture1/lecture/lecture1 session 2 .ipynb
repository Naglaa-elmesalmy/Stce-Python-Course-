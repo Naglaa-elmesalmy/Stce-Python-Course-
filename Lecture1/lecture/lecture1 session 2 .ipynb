{
 "cells": [
  {
   "cell_type": "markdown",
   "id": "6337c94e-10c3-4094-a599-cbaa9f8c229a",
   "metadata": {},
   "source": [
    "# Python Course"
   ]
  },
  {
   "cell_type": "markdown",
   "id": "a976b8cf-8511-4ddd-84fd-cb0ca7f638a2",
   "metadata": {},
   "source": [
    "## lecture 1: session 2 "
   ]
  },
  {
   "cell_type": "markdown",
   "id": "2cc43530-65cb-4ecc-b765-7bd7408b6197",
   "metadata": {},
   "source": [
    "### <ins>if, elif, else Statements</ins>"
   ]
  },
  {
   "cell_type": "raw",
   "id": "61d9bc8d-b7fb-454f-b268-6c9a0f85e496",
   "metadata": {},
   "source": [
    "if case1:\r\n",
    "        perform action1\r\n",
    "    elif case2:\r\n",
    "        perform action2\r\n",
    "    else: \r\n",
    "        perform action3"
   ]
  },
  {
   "cell_type": "code",
   "execution_count": 19,
   "id": "15244707-c18e-4e63-8952-ac7bb387fdb6",
   "metadata": {},
   "outputs": [
    {
     "name": "stdout",
     "output_type": "stream",
     "text": [
      "I will be printed in any case where x is not true\n"
     ]
    }
   ],
   "source": [
    "x = False\n",
    "\n",
    "if x:\n",
    "    print('x was True!')\n",
    "else:\n",
    "    print('I will be printed in any case where x is not true')"
   ]
  },
  {
   "cell_type": "code",
   "execution_count": 21,
   "id": "a66d3d78-7193-4455-a5fa-d9017de72b87",
   "metadata": {},
   "outputs": [
    {
     "name": "stdout",
     "output_type": "stream",
     "text": [
      "Where are you?\n",
      "finish\n"
     ]
    }
   ],
   "source": [
    "# loc = 'Auto Shop'\n",
    "# loc = 'Bank'\n",
    "# loc = 'Park'\n",
    "# loc = 'Museum'\n",
    "loc = 'School'\n",
    "\n",
    "if loc == 'Auto Shop':\n",
    "    print('Welcome to the Auto Shop!')\n",
    "elif loc == 'Bank':\n",
    "    print('Welcome to the bank!')\n",
    "elif loc == 'Park':\n",
    "    print('Welcome to the Park!')\n",
    "    print('have fun')\n",
    "elif loc == 'Museum':\n",
    "    print('Welcome to the museum!')\n",
    "else:\n",
    "    print('Where are you?')\n",
    "print('finish')"
   ]
  },
  {
   "cell_type": "markdown",
   "id": "4be03ef0-5822-4b43-9074-7bf24dce3bc3",
   "metadata": {},
   "source": [
    "### <ins>for Statement</ins>"
   ]
  },
  {
   "cell_type": "code",
   "execution_count": 37,
   "id": "a24dac8c-b7e3-45b8-afc0-b93267d9f23e",
   "metadata": {},
   "outputs": [
    {
     "name": "stdout",
     "output_type": "stream",
     "text": [
      "apple\n",
      "banana\n",
      "cherry\n"
     ]
    }
   ],
   "source": [
    "fruits = [\"apple\", \"banana\", \"cherry\"]\n",
    "for x in fruits:\n",
    "  print(x)"
   ]
  },
  {
   "cell_type": "code",
   "execution_count": 39,
   "id": "fae37495-6972-40b1-a291-c7d47ff5bce6",
   "metadata": {},
   "outputs": [
    {
     "name": "stdout",
     "output_type": "stream",
     "text": [
      "b\n",
      "a\n",
      "n\n",
      "a\n",
      "n\n",
      "a\n"
     ]
    }
   ],
   "source": [
    "for x in \"banana\":\n",
    "  print(x)"
   ]
  },
  {
   "cell_type": "markdown",
   "id": "30952ed6-3951-4522-8cf7-a024b99e37d9",
   "metadata": {},
   "source": [
    "### <ins>Useful Operators</ins>"
   ]
  },
  {
   "cell_type": "markdown",
   "id": "44857be4-66be-4867-813d-3927712e9c02",
   "metadata": {},
   "source": [
    "**1-range**\n",
    "\n",
    "**<font color='blue'>range(start, stop, step)</font>**"
   ]
  },
  {
   "cell_type": "code",
   "execution_count": 26,
   "id": "3c200962-02e3-4baa-812d-044c65cf7d8d",
   "metadata": {},
   "outputs": [],
   "source": [
    "x = range(3, 6)"
   ]
  },
  {
   "cell_type": "code",
   "execution_count": 28,
   "id": "6220b501-a358-4cf3-8db6-3e24062bf004",
   "metadata": {},
   "outputs": [
    {
     "name": "stdout",
     "output_type": "stream",
     "text": [
      "range(3, 6)\n"
     ]
    }
   ],
   "source": [
    "print(x)"
   ]
  },
  {
   "cell_type": "code",
   "execution_count": 30,
   "id": "42398fca-f716-4fd3-9e8f-56e907158587",
   "metadata": {},
   "outputs": [
    {
     "data": {
      "text/plain": [
       "[3, 4, 5]"
      ]
     },
     "execution_count": 30,
     "metadata": {},
     "output_type": "execute_result"
    }
   ],
   "source": [
    "#Create a sequence of numbers from 3 to 5\n",
    "list(x)"
   ]
  },
  {
   "cell_type": "code",
   "execution_count": 32,
   "id": "d446fb27-ec9a-4a73-8fba-4e844be23709",
   "metadata": {},
   "outputs": [
    {
     "data": {
      "text/plain": [
       "[0, 2, 4, 6, 8, 10]"
      ]
     },
     "execution_count": 32,
     "metadata": {},
     "output_type": "execute_result"
    }
   ],
   "source": [
    "list(range(0,11,2))"
   ]
  },
  {
   "cell_type": "code",
   "execution_count": 41,
   "id": "3955fa9f-6db5-401d-b174-45c089e53506",
   "metadata": {},
   "outputs": [
    {
     "name": "stdout",
     "output_type": "stream",
     "text": [
      "0\n",
      "1\n",
      "2\n",
      "3\n",
      "4\n",
      "5\n"
     ]
    }
   ],
   "source": [
    "for x in range(6):\n",
    "  print(x)"
   ]
  },
  {
   "cell_type": "markdown",
   "id": "64f85006-00b3-4a89-8178-fd7f0994fb75",
   "metadata": {},
   "source": [
    "**2-enumerate***"
   ]
  },
  {
   "cell_type": "code",
   "execution_count": 50,
   "id": "a40f693b-f579-4d87-b1b5-4e5e4e71d8ce",
   "metadata": {
    "scrolled": true
   },
   "outputs": [
    {
     "name": "stdout",
     "output_type": "stream",
     "text": [
      "At index 0 the letter is a\n",
      "At index 1 the letter is b\n",
      "At index 2 the letter is c\n",
      "At index 3 the letter is d\n",
      "At index 4 the letter is e\n"
     ]
    }
   ],
   "source": [
    "#without enumerate\n",
    "index_count = 0\n",
    "for letter in 'abcde':\n",
    "    print(\"At index {} the letter is {}\".format(index_count,letter))\n",
    "    index_count += 1"
   ]
  },
  {
   "cell_type": "code",
   "execution_count": 52,
   "id": "05fe025e-abf7-41c7-a8ea-cdabc5645f59",
   "metadata": {},
   "outputs": [
    {
     "name": "stdout",
     "output_type": "stream",
     "text": [
      "At index 0 the letter is a\n",
      "At index 1 the letter is b\n",
      "At index 2 the letter is c\n",
      "At index 3 the letter is d\n",
      "At index 4 the letter is e\n"
     ]
    }
   ],
   "source": [
    "#with enumerate\n",
    "for i,letter in enumerate('abcde'):\n",
    "    print(\"At index {} the letter is {}\".format(i,letter))"
   ]
  },
  {
   "cell_type": "code",
   "execution_count": null,
   "id": "e68e7fe9-977e-4bc6-8d28-74420e6ceb56",
   "metadata": {},
   "outputs": [],
   "source": []
  }
 ],
 "metadata": {
  "kernelspec": {
   "display_name": "Python 3 (ipykernel)",
   "language": "python",
   "name": "python3"
  },
  "language_info": {
   "codemirror_mode": {
    "name": "ipython",
    "version": 3
   },
   "file_extension": ".py",
   "mimetype": "text/x-python",
   "name": "python",
   "nbconvert_exporter": "python",
   "pygments_lexer": "ipython3",
   "version": "3.12.4"
  }
 },
 "nbformat": 4,
 "nbformat_minor": 5
}
