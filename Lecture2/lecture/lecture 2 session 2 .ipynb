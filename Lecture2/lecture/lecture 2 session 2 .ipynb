{
 "cells": [
  {
   "cell_type": "markdown",
   "id": "5f5e7a87-9a28-45fd-a6fd-6620e5374c19",
   "metadata": {},
   "source": [
    "# Python Course"
   ]
  },
  {
   "cell_type": "markdown",
   "id": "f889c58e-5510-4c42-947a-0b30b12ed8ab",
   "metadata": {},
   "source": [
    "## lecture 2: session 2 "
   ]
  },
  {
   "cell_type": "markdown",
   "id": "88c90975-1581-4b12-bdea-48b2d0c11b86",
   "metadata": {},
   "source": [
    "### <ins>Functions</ins>"
   ]
  },
  {
   "cell_type": "raw",
   "id": "b0a85a73-8996-4212-8e9d-29590e1df894",
   "metadata": {},
   "source": [
    "def name_of_function(arg1,arg2):\n",
    "    '''\n",
    "    This is where the function's Document String (docstring) goes\n",
    "    '''\n",
    "    # Return desired result"
   ]
  },
  {
   "cell_type": "code",
   "execution_count": 8,
   "id": "88fc6383-575a-40aa-8454-80279b4bcfe0",
   "metadata": {},
   "outputs": [],
   "source": [
    "def say_hello():\n",
    "    print('hello')"
   ]
  },
  {
   "cell_type": "code",
   "execution_count": 10,
   "id": "c456ab72-6b94-4ed1-9a23-f21540d405ff",
   "metadata": {},
   "outputs": [
    {
     "name": "stdout",
     "output_type": "stream",
     "text": [
      "hello\n"
     ]
    }
   ],
   "source": [
    "say_hello()"
   ]
  },
  {
   "cell_type": "code",
   "execution_count": 12,
   "id": "fab36eb6-6d7a-4398-bb64-31c8d4b75bcc",
   "metadata": {},
   "outputs": [],
   "source": [
    "def greeting(name):\n",
    "    print('Hello %s' %(name))"
   ]
  },
  {
   "cell_type": "code",
   "execution_count": 14,
   "id": "772e6461-0f80-4cc8-a0ca-b6e7b8ebc642",
   "metadata": {},
   "outputs": [
    {
     "name": "stdout",
     "output_type": "stream",
     "text": [
      "Hello naglaa\n"
     ]
    }
   ],
   "source": [
    "greeting('naglaa')"
   ]
  },
  {
   "cell_type": "code",
   "execution_count": 16,
   "id": "3d35db97-5be3-4b58-b0d6-6823fc9e57fa",
   "metadata": {},
   "outputs": [],
   "source": [
    "def process_num(num1, num2):\n",
    "    return num1 + num2"
   ]
  },
  {
   "cell_type": "code",
   "execution_count": 18,
   "id": "9a3f16e2-f7e2-49ba-97bf-f27fe6fa3567",
   "metadata": {},
   "outputs": [
    {
     "data": {
      "text/plain": [
       "7"
      ]
     },
     "execution_count": 18,
     "metadata": {},
     "output_type": "execute_result"
    }
   ],
   "source": [
    "process_num(2, 5)"
   ]
  },
  {
   "cell_type": "raw",
   "id": "d336c739-b87f-4bde-b4d2-4de4a0c0fdc9",
   "metadata": {},
   "source": [
    "Simple Calculator.\n",
    "    x : first number\n",
    "    y: seconds number\n",
    "    op: operator maybe +,-,*,/\n",
    "    example: calculator(5, 10, '*') ----> 50\n"
   ]
  },
  {
   "cell_type": "code",
   "execution_count": 20,
   "id": "6971460f-04e0-464d-8db6-0d7d73d0bf98",
   "metadata": {},
   "outputs": [],
   "source": [
    "def calculator(x=0, y=1, op='+'):\n",
    "    if op == '+':\n",
    "        print(f\"the sum for {x} + {y} = {x + y}\")\n",
    "    elif op == '-':\n",
    "        print(f\"the subtraction for {x} - {y} = {x - y}\")\n",
    "    elif op == '*':\n",
    "        print(f\"the multpling for {x} * {y} = {x * y}\")\n",
    "    elif op == '/':\n",
    "        if y == 0:\n",
    "            print('cant divide on zero')\n",
    "        else:\n",
    "            print(f\"the division for {x} / {y} = {x / y}\")\n",
    "    else:\n",
    "        print('wrong operation')\n",
    "    "
   ]
  },
  {
   "cell_type": "code",
   "execution_count": 22,
   "id": "2ebbe6a2-80ab-4281-98ab-1e509f2b3b13",
   "metadata": {},
   "outputs": [
    {
     "name": "stdout",
     "output_type": "stream",
     "text": [
      "the sum for 0 + 1 = 1\n"
     ]
    }
   ],
   "source": [
    "calculator()"
   ]
  },
  {
   "cell_type": "code",
   "execution_count": 24,
   "id": "4e9f5527-4ab6-4e58-ac3e-30a2166d5caa",
   "metadata": {},
   "outputs": [
    {
     "name": "stdout",
     "output_type": "stream",
     "text": [
      "the subtraction for 10 - 11 = -1\n"
     ]
    }
   ],
   "source": [
    "calculator(10, 11, '-')"
   ]
  },
  {
   "cell_type": "code",
   "execution_count": 26,
   "id": "ee43c086-2a27-4186-bfb8-8befd7655afd",
   "metadata": {},
   "outputs": [
    {
     "name": "stdout",
     "output_type": "stream",
     "text": [
      "the sum for 10 + 1 = 11\n"
     ]
    }
   ],
   "source": [
    "calculator(10)"
   ]
  },
  {
   "cell_type": "code",
   "execution_count": 28,
   "id": "a245934b-122b-4c4f-b1c9-26381f223214",
   "metadata": {},
   "outputs": [
    {
     "name": "stdout",
     "output_type": "stream",
     "text": [
      "the sum for 10 + 1 = 11\n"
     ]
    }
   ],
   "source": [
    "calculator(10)"
   ]
  },
  {
   "cell_type": "code",
   "execution_count": 30,
   "id": "308a0c08-a409-4866-8c88-9c13c636b24d",
   "metadata": {},
   "outputs": [
    {
     "name": "stdout",
     "output_type": "stream",
     "text": [
      "the multpling for 0 * 1 = 0\n"
     ]
    }
   ],
   "source": [
    "calculator(op='*')"
   ]
  },
  {
   "cell_type": "code",
   "execution_count": 32,
   "id": "a8d93956-1ff2-419d-aa7c-66a39605af4c",
   "metadata": {},
   "outputs": [
    {
     "name": "stdout",
     "output_type": "stream",
     "text": [
      "the division for 30 / 6 = 5.0\n"
     ]
    }
   ],
   "source": [
    "calculator(op='/', y=6, x=30)"
   ]
  },
  {
   "cell_type": "markdown",
   "id": "dac4a212-2f50-4c88-8a7f-d949af8a35f2",
   "metadata": {},
   "source": [
    "### <ins>Local and Global Variables</ins>"
   ]
  },
  {
   "cell_type": "code",
   "execution_count": 35,
   "id": "b4b806f8-ef16-4d77-a700-7a4d2ff6fc07",
   "metadata": {},
   "outputs": [
    {
     "name": "stdout",
     "output_type": "stream",
     "text": [
      "x is 50\n",
      "Changed local x to 2\n",
      "x is still 50\n"
     ]
    }
   ],
   "source": [
    "x = 50\n",
    "\n",
    "def func(x):\n",
    "    print('x is', x)\n",
    "    x = 2\n",
    "    print('Changed local x to', x)\n",
    "\n",
    "func(x)\n",
    "print('x is still', x)"
   ]
  },
  {
   "cell_type": "markdown",
   "id": "faf6796f-9c3d-431f-a5da-cca2d91b1e0a",
   "metadata": {},
   "source": [
    "### <ins>Custom Module</ins>"
   ]
  },
  {
   "cell_type": "markdown",
   "id": "f86cc16a-3d15-4a86-80f6-327bc0a66e96",
   "metadata": {},
   "source": [
    "A module is just a single .py file that contains Python code — functions, classes, variables, etc\n",
    "as mymodule.py is created"
   ]
  },
  {
   "cell_type": "code",
   "execution_count": 2,
   "id": "909672be-1810-4fcf-8d80-c98a81c508d3",
   "metadata": {},
   "outputs": [
    {
     "name": "stdout",
     "output_type": "stream",
     "text": [
      "Hello, Ahmed\n"
     ]
    }
   ],
   "source": [
    "import mymodule\n",
    "\n",
    "mymodule.my_greeting(\"Ahmed\")"
   ]
  },
  {
   "cell_type": "code",
   "execution_count": 4,
   "id": "5cc65fee-ba3e-4f0b-8623-b07ae1932ad4",
   "metadata": {},
   "outputs": [
    {
     "name": "stdout",
     "output_type": "stream",
     "text": [
      "hi, Ahmed\n"
     ]
    }
   ],
   "source": [
    "mymodule.my_welcome(\"Ahmed\")"
   ]
  },
  {
   "cell_type": "code",
   "execution_count": 6,
   "id": "54ca48e7-3b94-4dc4-aba8-2503ba4d0c43",
   "metadata": {},
   "outputs": [
    {
     "name": "stdout",
     "output_type": "stream",
     "text": [
      "Hello, eslam\n"
     ]
    }
   ],
   "source": [
    "from mymodule import my_greeting\n",
    "\n",
    "my_greeting('eslam')"
   ]
  },
  {
   "cell_type": "raw",
   "id": "51fa8ba0-ac76-4ec8-a7f2-516828229bc1",
   "metadata": {},
   "source": [
    "So:\n",
    "📄 One file = One module"
   ]
  },
  {
   "cell_type": "code",
   "execution_count": 9,
   "id": "feefc804-04b8-48ec-956b-66868bd97d7c",
   "metadata": {},
   "outputs": [
    {
     "name": "stdout",
     "output_type": "stream",
     "text": [
      "Hello, Ali\n"
     ]
    }
   ],
   "source": [
    "from mymodule import my_greeting as grt\n",
    "grt('Ali')"
   ]
  },
  {
   "cell_type": "markdown",
   "id": "37f65850-eb0f-4d49-a920-0a0c22315a69",
   "metadata": {},
   "source": [
    "### <ins>Custom Package</ins>"
   ]
  },
  {
   "cell_type": "markdown",
   "id": "8c111229-45e0-42be-b053-525e75266400",
   "metadata": {},
   "source": [
    "A package is a folder (directory) that contains multiple modules and a special __init__.py file (can be empty, or used for initialization). This lets Python know that the folder should be treated as a package."
   ]
  },
  {
   "cell_type": "raw",
   "id": "6ac0f144-d64e-4d0f-a855-0e9d922fddf1",
   "metadata": {},
   "source": [
    "my_package/\n",
    "├── __init__.py\n",
    "├── circle.py\n",
    "└── rectangle.py"
   ]
  },
  {
   "cell_type": "code",
   "execution_count": 17,
   "id": "20eda66a-8f19-42ad-a5b0-fc2933f091b7",
   "metadata": {},
   "outputs": [
    {
     "data": {
      "text/plain": [
       "314.0"
      ]
     },
     "execution_count": 17,
     "metadata": {},
     "output_type": "execute_result"
    }
   ],
   "source": [
    "import my_package.circle as cr\n",
    "cr.area(10)"
   ]
  },
  {
   "cell_type": "code",
   "execution_count": 19,
   "id": "52a52c4f-ff9a-435f-846d-3c6e912e7891",
   "metadata": {},
   "outputs": [
    {
     "data": {
      "text/plain": [
       "200"
      ]
     },
     "execution_count": 19,
     "metadata": {},
     "output_type": "execute_result"
    }
   ],
   "source": [
    "from my_package.rectangle import perimeter as rect_pr, area as rect_area\n",
    "rect_area(10, 20)"
   ]
  },
  {
   "cell_type": "code",
   "execution_count": 21,
   "id": "ca4281cf-1fa7-41da-be5f-22f0fcb3aecf",
   "metadata": {},
   "outputs": [
    {
     "data": {
      "text/plain": [
       "60"
      ]
     },
     "execution_count": 21,
     "metadata": {},
     "output_type": "execute_result"
    }
   ],
   "source": [
    "rect_pr(10, 20)"
   ]
  },
  {
   "cell_type": "markdown",
   "id": "6914c56b-b5d8-4357-8560-37b66673a724",
   "metadata": {},
   "source": [
    "### <ins>try and except</ins>"
   ]
  },
  {
   "cell_type": "raw",
   "id": "b7207194-acf0-4494-a753-7ef40b83d16b",
   "metadata": {},
   "source": [
    "try:\n",
    "   You do your operations here...\n",
    "   ...\n",
    "except ExceptionI:\n",
    "   If there is ExceptionI, then execute this block.\n",
    "except ExceptionII:\n",
    "   If there is ExceptionII, then execute this block.\n",
    "   ...\n",
    "else:\n",
    "   If there is no exception then execute this block. "
   ]
  },
  {
   "cell_type": "code",
   "execution_count": 26,
   "id": "8d141acf-0988-44e5-afd8-5bb12548cc8e",
   "metadata": {},
   "outputs": [
    {
     "name": "stdin",
     "output_type": "stream",
     "text": [
      "Please enter an integer:  o\n"
     ]
    },
    {
     "name": "stdout",
     "output_type": "stream",
     "text": [
      "Looks like you did not enter an integer!\n"
     ]
    },
    {
     "name": "stdin",
     "output_type": "stream",
     "text": [
      "Try again-Please enter an integer:  4\n"
     ]
    },
    {
     "name": "stdout",
     "output_type": "stream",
     "text": [
      "Finally, I executed!\n",
      "4\n"
     ]
    }
   ],
   "source": [
    "val=0\n",
    "try:\n",
    "    val = int(input(\"Please enter an integer: \"))\n",
    "except:\n",
    "    print(\"Looks like you did not enter an integer!\")\n",
    "    val = int(input(\"Try again-Please enter an integer: \"))\n",
    "finally:\n",
    "    print(\"Finally, I executed!\")\n",
    "print(val)"
   ]
  },
  {
   "cell_type": "code",
   "execution_count": 34,
   "id": "8c8d26a6-1e18-4adf-86e3-d443f99471bd",
   "metadata": {},
   "outputs": [
    {
     "name": "stdout",
     "output_type": "stream",
     "text": [
      "start\n",
      "cant divide on zero\n"
     ]
    }
   ],
   "source": [
    "print('start')\n",
    "\n",
    "try:\n",
    "    print(5/0)\n",
    "except ZeroDivisionError:\n",
    "    print('cant divide on zero')\n",
    "else:\n",
    "    #if no error happened\n",
    "    print('end')"
   ]
  },
  {
   "cell_type": "code",
   "execution_count": null,
   "id": "990a7aa8-617e-43b3-8e8d-d7db43d9dde0",
   "metadata": {},
   "outputs": [],
   "source": []
  }
 ],
 "metadata": {
  "kernelspec": {
   "display_name": "Python 3 (ipykernel)",
   "language": "python",
   "name": "python3"
  },
  "language_info": {
   "codemirror_mode": {
    "name": "ipython",
    "version": 3
   },
   "file_extension": ".py",
   "mimetype": "text/x-python",
   "name": "python",
   "nbconvert_exporter": "python",
   "pygments_lexer": "ipython3",
   "version": "3.12.4"
  }
 },
 "nbformat": 4,
 "nbformat_minor": 5
}
