{
 "cells": [
  {
   "cell_type": "markdown",
   "id": "fff46d44-83a4-42ab-95a6-1bb18a7b3568",
   "metadata": {},
   "source": [
    "# Python Course"
   ]
  },
  {
   "cell_type": "markdown",
   "id": "472a506a-ccfd-42a1-82fc-bda52051a623",
   "metadata": {},
   "source": [
    "## lecture 2 :"
   ]
  },
  {
   "cell_type": "markdown",
   "id": "392509e7-ae08-40f4-ba69-42fff812556d",
   "metadata": {},
   "source": [
    "**3-zip**"
   ]
  },
  {
   "cell_type": "code",
   "execution_count": 7,
   "id": "e07bf4dd-7771-4f2c-b839-3d1975cc35de",
   "metadata": {},
   "outputs": [
    {
     "data": {
      "text/plain": [
       "[(10, 100), (20, 200), (30, 300), (40, 400), (50, 500), (60, 600)]"
      ]
     },
     "execution_count": 7,
     "metadata": {},
     "output_type": "execute_result"
    }
   ],
   "source": [
    "mylist1 = [10,20,30,40,50,60]\n",
    "mylist2 = [100,200,300,400,500,600]\n",
    "list(zip(mylist1,mylist2))"
   ]
  },
  {
   "cell_type": "markdown",
   "id": "f1096fe1-3fd0-4f42-83c1-e82a3b0b74b3",
   "metadata": {},
   "source": [
    "To use the generator, we could just use a for loop"
   ]
  },
  {
   "cell_type": "code",
   "execution_count": 10,
   "id": "3f5691d2-90a7-4eda-8d62-a16d87d0e3b6",
   "metadata": {},
   "outputs": [
    {
     "name": "stdout",
     "output_type": "stream",
     "text": [
      "110\n",
      "220\n",
      "330\n",
      "440\n",
      "550\n",
      "660\n"
     ]
    }
   ],
   "source": [
    "for num_1,num_2 in zip(mylist1,mylist2):\n",
    "    print(num_1 + num_2)"
   ]
  },
  {
   "cell_type": "code",
   "execution_count": 12,
   "id": "2c11e4a2-a793-4cf0-8fed-e5e6c924c437",
   "metadata": {},
   "outputs": [
    {
     "data": {
      "text/plain": [
       "[(2, 10), (7, 30), (3, 40)]"
      ]
     },
     "execution_count": 12,
     "metadata": {},
     "output_type": "execute_result"
    }
   ],
   "source": [
    "x = [2, 7, 3, 5]\n",
    "y = [10, 30, 40]\n",
    "list(zip(x, y))"
   ]
  },
  {
   "cell_type": "code",
   "execution_count": 14,
   "id": "f71ce057-efb4-4199-af6a-0b68657ae8af",
   "metadata": {},
   "outputs": [
    {
     "data": {
      "text/plain": [
       "[(10, 'a', 10),\n",
       " (20, 'b', 20),\n",
       " (30, 'c', 30),\n",
       " (40, 'd', 40),\n",
       " (50, 'e', 50),\n",
       " (60, 'f', 60)]"
      ]
     },
     "execution_count": 14,
     "metadata": {},
     "output_type": "execute_result"
    }
   ],
   "source": [
    "mylist1 = [10,20,30,40,50,60]\n",
    "mylist2 = ['a','b','c','d','e','f']\n",
    "mylist3 = [10,20,30,40,50,60]\n",
    "list(zip(mylist1, mylist2, mylist3))"
   ]
  },
  {
   "cell_type": "markdown",
   "id": "a453f2f4-8fde-4e98-9846-33a6003dc1dd",
   "metadata": {},
   "source": [
    "**4-break**"
   ]
  },
  {
   "cell_type": "markdown",
   "id": "52248906-e174-40b5-9eaf-c492035fe848",
   "metadata": {},
   "source": [
    "the **break** statement breaks the loop"
   ]
  },
  {
   "cell_type": "code",
   "execution_count": 26,
   "id": "eb36b163-eaab-4e3c-a9ad-203a7f96bc8e",
   "metadata": {},
   "outputs": [
    {
     "name": "stdout",
     "output_type": "stream",
     "text": [
      "Number is 0\n",
      "Number is 1\n",
      "Number is 2\n",
      "Number is 3\n",
      "Number is 4\n",
      "Out of loop\n"
     ]
    }
   ],
   "source": [
    "number = 0\n",
    "\n",
    "for number in range(10):\n",
    "    if number == 5:\n",
    "        break    # break here\n",
    "\n",
    "    print('Number is ' + str(number))\n",
    "\n",
    "print('Out of loop')"
   ]
  },
  {
   "cell_type": "markdown",
   "id": "bb220595-c2d7-4d8b-8c26-2e15d5053d2c",
   "metadata": {},
   "source": [
    "**5-continue**"
   ]
  },
  {
   "cell_type": "markdown",
   "id": "fd464f52-0d55-4b35-b9fe-e5529fd908d4",
   "metadata": {},
   "source": [
    "the **continue** statement breaks the current iteration of the loop "
   ]
  },
  {
   "cell_type": "code",
   "execution_count": 29,
   "id": "241c754f-4b3d-456d-8905-ab739a18c68e",
   "metadata": {},
   "outputs": [
    {
     "name": "stdout",
     "output_type": "stream",
     "text": [
      "Number is 0\n",
      "Number is 1\n",
      "Number is 2\n",
      "Number is 3\n",
      "Number is 4\n",
      "Number is 6\n",
      "Number is 7\n",
      "Number is 8\n",
      "Number is 9\n",
      "Out of loop\n"
     ]
    }
   ],
   "source": [
    "number = 0\n",
    "\n",
    "for number in range(10):\n",
    "    if number == 5:\n",
    "        continue    # continue here\n",
    "\n",
    "    print('Number is ' + str(number))\n",
    "\n",
    "print('Out of loop')"
   ]
  },
  {
   "cell_type": "markdown",
   "id": "ca641c79-6909-478a-8d27-8a4657182ade",
   "metadata": {},
   "source": [
    "**6-in operator**"
   ]
  },
  {
   "cell_type": "code",
   "execution_count": 37,
   "id": "38561f05-029e-423e-86e3-f863a488fe2e",
   "metadata": {},
   "outputs": [
    {
     "data": {
      "text/plain": [
       "True"
      ]
     },
     "execution_count": 37,
     "metadata": {},
     "output_type": "execute_result"
    }
   ],
   "source": [
    "'x' in ['x','y','z']"
   ]
  },
  {
   "cell_type": "code",
   "execution_count": 39,
   "id": "fa3c1287-e4b2-4306-ab6c-b74ff47f4522",
   "metadata": {},
   "outputs": [
    {
     "data": {
      "text/plain": [
       "False"
      ]
     },
     "execution_count": 39,
     "metadata": {},
     "output_type": "execute_result"
    }
   ],
   "source": [
    "'x' not in ['x','y','z']"
   ]
  },
  {
   "cell_type": "markdown",
   "id": "a11c2374-b531-4426-8850-c854cafbaaca",
   "metadata": {},
   "source": [
    "### <ins>while Loops</ins>"
   ]
  },
  {
   "cell_type": "code",
   "execution_count": 163,
   "id": "e7bc4ae1-415d-4798-81d5-1d127bc69771",
   "metadata": {},
   "outputs": [
    {
     "name": "stdout",
     "output_type": "stream",
     "text": [
      "x is currently:  0\n",
      " x is still less than 10, adding 1 to x\n",
      "x is currently:  1\n",
      " x is still less than 10, adding 1 to x\n",
      "x is currently:  2\n",
      " x is still less than 10, adding 1 to x\n",
      "x is currently:  3\n",
      " x is still less than 10, adding 1 to x\n",
      "x is currently:  4\n",
      " x is still less than 10, adding 1 to x\n",
      "x is currently:  5\n",
      " x is still less than 10, adding 1 to x\n",
      "x is currently:  6\n",
      " x is still less than 10, adding 1 to x\n",
      "x is currently:  7\n",
      " x is still less than 10, adding 1 to x\n",
      "x is currently:  8\n",
      " x is still less than 10, adding 1 to x\n",
      "x is currently:  9\n",
      " x is still less than 10, adding 1 to x\n",
      "All Done!\n"
     ]
    }
   ],
   "source": [
    "x = 0\n",
    "\n",
    "while x < 10:\n",
    "    print('x is currently: ',x)\n",
    "    print(' x is still less than 10, adding 1 to x')\n",
    "    x+=1\n",
    "    \n",
    "else:\n",
    "    print('All Done!')"
   ]
  },
  {
   "cell_type": "markdown",
   "id": "17d1329d-e96b-42e4-90c0-a2ca5b5884b4",
   "metadata": {},
   "source": [
    "### <ins>List Comprehensions</ins>"
   ]
  },
  {
   "cell_type": "code",
   "execution_count": 46,
   "id": "61130fa7-f313-46e1-8a68-be718ce00c44",
   "metadata": {},
   "outputs": [
    {
     "data": {
      "text/plain": [
       "[0, 1, 2, 3, 4, 5, 6, 7, 8, 9, 10]"
      ]
     },
     "execution_count": 46,
     "metadata": {},
     "output_type": "execute_result"
    }
   ],
   "source": [
    "# in other progromming language\n",
    "new_list = []\n",
    "i=0\n",
    "while i < 11:\n",
    "    new_list.append(i )\n",
    "    i+=1\n",
    "    \n",
    "new_list"
   ]
  },
  {
   "cell_type": "code",
   "execution_count": 48,
   "id": "998fbf86-4a0a-43a5-8342-192663b52ec7",
   "metadata": {},
   "outputs": [
    {
     "data": {
      "text/plain": [
       "[0, 1, 2, 3, 4, 5, 6, 7, 8, 9, 10]"
      ]
     },
     "execution_count": 48,
     "metadata": {},
     "output_type": "execute_result"
    }
   ],
   "source": [
    "# in python \n",
    "list(range(11))"
   ]
  },
  {
   "cell_type": "code",
   "execution_count": 50,
   "id": "9aebe6db-b6ef-4931-aa92-e1f0f0bf9c04",
   "metadata": {},
   "outputs": [
    {
     "data": {
      "text/plain": [
       "[0, 1, 4, 9, 16, 25, 36, 49, 64, 81, 100]"
      ]
     },
     "execution_count": 50,
     "metadata": {},
     "output_type": "execute_result"
    }
   ],
   "source": [
    "# in other progromming language\n",
    "new_list = []\n",
    "\n",
    "for i in range(11):\n",
    "    new_list.append(i ** 2)\n",
    "    \n",
    "new_list"
   ]
  },
  {
   "cell_type": "code",
   "execution_count": 52,
   "id": "a8cfc775-8b32-41c8-9320-35afda5f91fa",
   "metadata": {},
   "outputs": [
    {
     "data": {
      "text/plain": [
       "[0, 1, 4, 9, 16, 25, 36, 49, 64, 81, 100]"
      ]
     },
     "execution_count": 52,
     "metadata": {},
     "output_type": "execute_result"
    }
   ],
   "source": [
    "# in python \n",
    "new_list = [i ** 2 for i in range(11)]\n",
    "\n",
    "new_list"
   ]
  },
  {
   "cell_type": "code",
   "execution_count": 54,
   "id": "9a5abc98-aefa-496e-9771-e726d4288749",
   "metadata": {},
   "outputs": [
    {
     "data": {
      "text/plain": [
       "['a', 'b', 'c', 'd']"
      ]
     },
     "execution_count": 54,
     "metadata": {},
     "output_type": "execute_result"
    }
   ],
   "source": [
    "lst = [x for x in 'abcd']\n",
    "lst"
   ]
  },
  {
   "cell_type": "code",
   "execution_count": 56,
   "id": "2679be4d-1eea-4491-a403-a79ea86f3315",
   "metadata": {},
   "outputs": [
    {
     "data": {
      "text/plain": [
       "['aa', 'bb', 'cc', 'dd']"
      ]
     },
     "execution_count": 56,
     "metadata": {},
     "output_type": "execute_result"
    }
   ],
   "source": [
    "lst = [x*2 for x in 'abcd']\n",
    "lst"
   ]
  },
  {
   "cell_type": "code",
   "execution_count": 58,
   "id": "e40d1cc5-8aa9-4fc8-ab5d-fa4ca96e1473",
   "metadata": {},
   "outputs": [
    {
     "data": {
      "text/plain": [
       "[0, 3, 8, 15, 24, 35, 48, 63, 80, 99, 120]"
      ]
     },
     "execution_count": 58,
     "metadata": {},
     "output_type": "execute_result"
    }
   ],
   "source": [
    "lst = [(2*i)+i**2 for i in range(11)]\n",
    "lst"
   ]
  },
  {
   "cell_type": "code",
   "execution_count": 60,
   "id": "f24479c0-cb46-46d4-a7bb-9e03658fa30e",
   "metadata": {},
   "outputs": [
    {
     "data": {
      "text/plain": [
       "[0, 4, 16, 36, 64, 100]"
      ]
     },
     "execution_count": 60,
     "metadata": {},
     "output_type": "execute_result"
    }
   ],
   "source": [
    "# Check for even numbers in a range\n",
    "lst = [i ** 2 for i in range(11) if i % 2 == 0]\n",
    "lst"
   ]
  },
  {
   "cell_type": "code",
   "execution_count": 7,
   "id": "d95715c7-b251-4e53-9fca-55d129183756",
   "metadata": {},
   "outputs": [
    {
     "data": {
      "text/plain": [
       "[0, 1, 4, 3, 16, 5, 36, 7, 64, 9, 100]"
      ]
     },
     "execution_count": 7,
     "metadata": {},
     "output_type": "execute_result"
    }
   ],
   "source": [
    "# Check for even numbers in a range\n",
    "lst = [i ** 2 if i % 2 == 0 else i for i in range(11)]\n",
    "lst"
   ]
  },
  {
   "cell_type": "markdown",
   "id": "721421dd-84ee-4bcc-b4a7-680635005b9d",
   "metadata": {},
   "source": [
    "**Note:** \n",
    "In general,"
   ]
  },
  {
   "cell_type": "raw",
   "id": "3321bfd8-7e0a-4b41-acad-faac832964f5",
   "metadata": {},
   "source": [
    "[f(x) if condition else g(x) for x in sequence]"
   ]
  },
  {
   "cell_type": "markdown",
   "id": "49427ff2-2bb5-46b6-9ffb-45c87ecb4947",
   "metadata": {},
   "source": [
    "And, for list comprehensions with if conditions only,\n"
   ]
  },
  {
   "cell_type": "raw",
   "id": "32d3b784-4497-4af3-8447-6a9a5a10f8b0",
   "metadata": {},
   "source": [
    "[f(x) for x in sequence if condition]"
   ]
  },
  {
   "cell_type": "code",
   "execution_count": 165,
   "id": "591f14cc-a251-428b-a525-00076666b918",
   "metadata": {},
   "outputs": [
    {
     "data": {
      "text/plain": [
       "[0, 1, 16, 81, 256, 625, 1296, 2401, 4096, 6561, 10000]"
      ]
     },
     "execution_count": 165,
     "metadata": {},
     "output_type": "execute_result"
    }
   ],
   "source": [
    "lst = [ x**2 for x in [x**2 for x in range(11)]]\n",
    "lst"
   ]
  },
  {
   "cell_type": "markdown",
   "id": "0b71d110-1f54-4776-8e16-2d39e049d711",
   "metadata": {},
   "source": [
    " ### <ins>Dictionary Comprehensions</ins>"
   ]
  },
  {
   "cell_type": "code",
   "execution_count": 14,
   "id": "d314fa5b-c50b-4f00-b3f6-24a6d67605fd",
   "metadata": {},
   "outputs": [
    {
     "data": {
      "text/plain": [
       "{'ahmed': 22, 'mohammed': 23, 'eman': 24}"
      ]
     },
     "execution_count": 14,
     "metadata": {},
     "output_type": "execute_result"
    }
   ],
   "source": [
    "names = ['ahmed', 'mohammed', 'eman']\n",
    "ages = [22, 23, 24]\n",
    "my_dict = {name: age for name, age in zip(names, ages)}\n",
    "my_dict"
   ]
  },
  {
   "cell_type": "code",
   "execution_count": 16,
   "id": "66b85c83-9161-47c8-959f-6b612ae8f213",
   "metadata": {},
   "outputs": [
    {
     "data": {
      "text/plain": [
       "{'ahmed': 22, 'mohammed': 23, 'eman': 24}"
      ]
     },
     "execution_count": 16,
     "metadata": {},
     "output_type": "execute_result"
    }
   ],
   "source": [
    "dict1 = {'ahmed': 22, 'mohammed': 23, 'eman': 24}\n",
    "dict1"
   ]
  },
  {
   "cell_type": "code",
   "execution_count": 18,
   "id": "d4db492e-4f5a-4420-9d6d-08309e21b047",
   "metadata": {},
   "outputs": [
    {
     "data": {
      "text/plain": [
       "{22: 'ahmed', 23: 'mohammed', 24: 'eman'}"
      ]
     },
     "execution_count": 18,
     "metadata": {},
     "output_type": "execute_result"
    }
   ],
   "source": [
    "dict2 = {value: key for key,value in dict1.items()}\n",
    "dict2"
   ]
  },
  {
   "cell_type": "markdown",
   "id": "f30c1ab2-b9fc-4fdf-af88-c2fd6d0745f3",
   "metadata": {},
   "source": [
    "### <ins>Files</ins>"
   ]
  },
  {
   "cell_type": "markdown",
   "id": "844d4731-7125-4423-947d-318362e2bc60",
   "metadata": {},
   "source": [
    "**Read a File**"
   ]
  },
  {
   "cell_type": "code",
   "execution_count": 6,
   "id": "b4397214-3047-4e57-9ebd-beab0ade31f4",
   "metadata": {},
   "outputs": [
    {
     "name": "stdout",
     "output_type": "stream",
     "text": [
      "This is Python. \n",
      "\n",
      "This is text being appended to test.txt\n",
      "And another line here.\n",
      "Big Data is great\n"
     ]
    }
   ],
   "source": [
    "#in the same location of noteook \n",
    "my_file = open('test.txt')\n",
    "print(my_file.read())\n"
   ]
  },
  {
   "cell_type": "code",
   "execution_count": 4,
   "id": "c3ec73c8-eed7-489f-a0eb-f65f95d93760",
   "metadata": {},
   "outputs": [],
   "source": [
    "# full path\n",
    "#my_file = open(\"C:\\\\Users\\\\YourUserName\\\\Home\\\\Folder\\\\myfile.txt\")"
   ]
  },
  {
   "cell_type": "code",
   "execution_count": 10,
   "id": "98392a54-0d6c-4138-b6f8-633d9400a283",
   "metadata": {},
   "outputs": [
    {
     "name": "stdout",
     "output_type": "stream",
     "text": [
      "\n"
     ]
    }
   ],
   "source": [
    "# return space because the This happens because  \"cursor\" is at the end of the file after having read it.\n",
    "#So there is nothing left to read. We can reset the \"cursor\" like this:\n",
    "print(my_file.read())"
   ]
  },
  {
   "cell_type": "code",
   "execution_count": 16,
   "id": "2d994c7e-e686-42fe-bac5-9b04284f3981",
   "metadata": {},
   "outputs": [
    {
     "data": {
      "text/plain": [
       "0"
      ]
     },
     "execution_count": 16,
     "metadata": {},
     "output_type": "execute_result"
    }
   ],
   "source": [
    "#go the first line in file\n",
    "my_file.seek(0)"
   ]
  },
  {
   "cell_type": "code",
   "execution_count": 18,
   "id": "fa185654-af9b-4863-97b0-dd6acc87d525",
   "metadata": {},
   "outputs": [
    {
     "name": "stdout",
     "output_type": "stream",
     "text": [
      "This is Python. \n",
      "\n",
      "This is text being appended to test.txt\n",
      "And another line here.\n",
      "Big Data is great\n"
     ]
    }
   ],
   "source": [
    "print(my_file.read())"
   ]
  },
  {
   "cell_type": "code",
   "execution_count": 20,
   "id": "9f768c21-0bff-48ac-832b-c2e5a87d611e",
   "metadata": {},
   "outputs": [
    {
     "data": {
      "text/plain": [
       "['This is Python. \\n',\n",
       " '\\n',\n",
       " 'This is text being appended to test.txt\\n',\n",
       " 'And another line here.\\n',\n",
       " 'Big Data is great']"
      ]
     },
     "execution_count": 20,
     "metadata": {},
     "output_type": "execute_result"
    }
   ],
   "source": [
    "# Readlines returns a list of the lines in the file\n",
    "my_file.seek(0)\n",
    "my_file.readlines()"
   ]
  },
  {
   "cell_type": "markdown",
   "id": "bca280fb-bd0b-4f09-810c-50ce4dcbb6b8",
   "metadata": {},
   "source": [
    "**Notes:** Read method reads the whole file as a single string while readlines segregates each of the line in the file and you then can later on call them line by line."
   ]
  },
  {
   "cell_type": "code",
   "execution_count": 24,
   "id": "737ffa89-7c58-46d6-a452-989b456ac38d",
   "metadata": {},
   "outputs": [],
   "source": [
    "my_file.close()"
   ]
  },
  {
   "cell_type": "markdown",
   "id": "22d612d7-4095-4141-8c85-60136c6c9f80",
   "metadata": {},
   "source": [
    "**Writing to a File**"
   ]
  },
  {
   "cell_type": "code",
   "execution_count": 30,
   "id": "e1591685-83dc-4d64-a58b-a44d06a428ee",
   "metadata": {},
   "outputs": [],
   "source": [
    "# Add a second argument to the function, 'w' which stands for write.\n",
    "# Passing 'w+' lets us read and write to the file\n",
    "\n",
    "my_file = open('test.txt','w+')"
   ]
  },
  {
   "cell_type": "code",
   "execution_count": 32,
   "id": "c9bc80c3-7ca8-4481-8d48-aa9dd087e05b",
   "metadata": {},
   "outputs": [
    {
     "data": {
      "text/plain": [
       "18"
      ]
     },
     "execution_count": 32,
     "metadata": {},
     "output_type": "execute_result"
    }
   ],
   "source": [
    "# Write to the file\n",
    "my_file.write('This is a new line')"
   ]
  },
  {
   "cell_type": "code",
   "execution_count": 40,
   "id": "d93124c3-843f-4810-952a-83d3ff9ba524",
   "metadata": {},
   "outputs": [
    {
     "name": "stdout",
     "output_type": "stream",
     "text": [
      "This is a new line\n"
     ]
    }
   ],
   "source": [
    "my_file.seek(0)\n",
    "print(my_file.read()) ## what's the matter?"
   ]
  },
  {
   "cell_type": "markdown",
   "id": "087a5c5b-8895-4024-8117-5112cced4866",
   "metadata": {},
   "source": [
    "**Notes** Opening a file with 'w' or 'w+' truncates the original, meaning that anything that was in the original file is deleted!"
   ]
  },
  {
   "cell_type": "markdown",
   "id": "3752deea-9c9c-4fc4-8137-9e373fd5a0fa",
   "metadata": {},
   "source": [
    "**Appending to a File**"
   ]
  },
  {
   "cell_type": "markdown",
   "id": "a9bef8a1-3a91-43bd-a682-373bbe5c8fa2",
   "metadata": {},
   "source": [
    "Passing the argument 'a' opens the file and puts the pointer at the end, so anything written is appended. Like 'w+', 'a+' lets us read and write to a file. If the file does not exist, one will be created."
   ]
  },
  {
   "cell_type": "code",
   "execution_count": 48,
   "id": "7d04447a-b4ce-46d4-a215-20a92e490283",
   "metadata": {},
   "outputs": [
    {
     "data": {
      "text/plain": [
       "23"
      ]
     },
     "execution_count": 48,
     "metadata": {},
     "output_type": "execute_result"
    }
   ],
   "source": [
    "my_file = open('test.txt','a+')\n",
    "my_file.write('\\nThis is text being appended to test.txt')\n",
    "my_file.write('\\nAnd another line here.')"
   ]
  },
  {
   "cell_type": "code",
   "execution_count": 50,
   "id": "52911bda-57dc-48d1-a584-72258216b8dd",
   "metadata": {},
   "outputs": [
    {
     "name": "stdout",
     "output_type": "stream",
     "text": [
      "This is a new line\n",
      "This is text being appended to test.txt\n",
      "And another line here.\n"
     ]
    }
   ],
   "source": [
    "my_file.seek(0)\n",
    "print(my_file.read())"
   ]
  },
  {
   "cell_type": "code",
   "execution_count": 52,
   "id": "08afcd00-fba7-4325-92fb-9a74063ced2e",
   "metadata": {},
   "outputs": [],
   "source": [
    "my_file.close()"
   ]
  },
  {
   "cell_type": "code",
   "execution_count": 58,
   "id": "df529f6a-5dfe-4d5d-9c72-0edb1e210d7e",
   "metadata": {},
   "outputs": [
    {
     "name": "stdout",
     "output_type": "stream",
     "text": [
      "This is a new line\n",
      "\n",
      "This is text being appended to test.txt\n",
      "\n",
      "And another line here.\n"
     ]
    }
   ],
   "source": [
    "#looping on file lines\n",
    "for line in open('test.txt'):\n",
    "    print(line)\n",
    "my_file.close()"
   ]
  },
  {
   "cell_type": "markdown",
   "id": "809cdb6c-2594-4be5-a2bd-03d5700ff798",
   "metadata": {},
   "source": [
    "### <ins>Built-in Modules</ins>"
   ]
  },
  {
   "cell_type": "markdown",
   "id": "736e53ce-3570-465c-9c52-f46a0a514db2",
   "metadata": {},
   "source": [
    "**1) Import**"
   ]
  },
  {
   "cell_type": "code",
   "execution_count": 56,
   "id": "52e15f77-2749-41e2-ac71-d37149dfb782",
   "metadata": {},
   "outputs": [],
   "source": [
    "import random"
   ]
  },
  {
   "cell_type": "code",
   "execution_count": 27,
   "id": "69cdffe1-787b-4530-a0d3-a1503544ddf7",
   "metadata": {},
   "outputs": [
    {
     "data": {
      "text/plain": [
       "module"
      ]
     },
     "execution_count": 27,
     "metadata": {},
     "output_type": "execute_result"
    }
   ],
   "source": [
    "type(random)"
   ]
  },
  {
   "cell_type": "code",
   "execution_count": 29,
   "id": "70fea0c1-d162-4627-adaf-15a625824a81",
   "metadata": {},
   "outputs": [
    {
     "data": {
      "text/plain": [
       "['BPF',\n",
       " 'LOG4',\n",
       " 'NV_MAGICCONST',\n",
       " 'RECIP_BPF',\n",
       " 'Random',\n",
       " 'SG_MAGICCONST',\n",
       " 'SystemRandom',\n",
       " 'TWOPI',\n",
       " '_ONE',\n",
       " '_Sequence',\n",
       " '__all__',\n",
       " '__builtins__',\n",
       " '__cached__',\n",
       " '__doc__',\n",
       " '__file__',\n",
       " '__loader__',\n",
       " '__name__',\n",
       " '__package__',\n",
       " '__spec__',\n",
       " '_accumulate',\n",
       " '_acos',\n",
       " '_bisect',\n",
       " '_ceil',\n",
       " '_cos',\n",
       " '_e',\n",
       " '_exp',\n",
       " '_fabs',\n",
       " '_floor',\n",
       " '_index',\n",
       " '_inst',\n",
       " '_isfinite',\n",
       " '_lgamma',\n",
       " '_log',\n",
       " '_log2',\n",
       " '_os',\n",
       " '_pi',\n",
       " '_random',\n",
       " '_repeat',\n",
       " '_sha512',\n",
       " '_sin',\n",
       " '_sqrt',\n",
       " '_test',\n",
       " '_test_generator',\n",
       " '_urandom',\n",
       " '_warn',\n",
       " 'betavariate',\n",
       " 'binomialvariate',\n",
       " 'choice',\n",
       " 'choices',\n",
       " 'expovariate',\n",
       " 'gammavariate',\n",
       " 'gauss',\n",
       " 'getrandbits',\n",
       " 'getstate',\n",
       " 'lognormvariate',\n",
       " 'normalvariate',\n",
       " 'paretovariate',\n",
       " 'randbytes',\n",
       " 'randint',\n",
       " 'random',\n",
       " 'randrange',\n",
       " 'sample',\n",
       " 'seed',\n",
       " 'setstate',\n",
       " 'shuffle',\n",
       " 'triangular',\n",
       " 'uniform',\n",
       " 'vonmisesvariate',\n",
       " 'weibullvariate']"
      ]
     },
     "execution_count": 29,
     "metadata": {},
     "output_type": "execute_result"
    }
   ],
   "source": [
    "## get all function in this module\n",
    "dir(random)"
   ]
  },
  {
   "cell_type": "code",
   "execution_count": 60,
   "id": "5a28a686-6ad3-4e52-bc48-cb556fccb285",
   "metadata": {},
   "outputs": [
    {
     "data": {
      "text/plain": [
       "'cherry'"
      ]
     },
     "execution_count": 60,
     "metadata": {},
     "output_type": "execute_result"
    }
   ],
   "source": [
    "#Return a random element from a list\n",
    "mylist = [\"apple\", \"banana\", \"cherry\"]\n",
    "random.choice(mylist)"
   ]
  },
  {
   "cell_type": "markdown",
   "id": "b8709d94-3353-4fd2-850d-2a159ef6f40c",
   "metadata": {},
   "source": [
    "**2) from, import**"
   ]
  },
  {
   "cell_type": "code",
   "execution_count": 35,
   "id": "dbcde6ee-3071-4737-9c0b-7ede511a7e37",
   "metadata": {},
   "outputs": [],
   "source": [
    "from random import shuffle"
   ]
  },
  {
   "cell_type": "code",
   "execution_count": 39,
   "id": "ccb88a5b-27f4-4195-8685-dc9fe0dcf5b6",
   "metadata": {},
   "outputs": [
    {
     "data": {
      "text/plain": [
       "[30, 40, 20, 10, 100]"
      ]
     },
     "execution_count": 39,
     "metadata": {},
     "output_type": "execute_result"
    }
   ],
   "source": [
    "mylist = [40, 10, 100, 30, 20]\n",
    "shuffle(mylist)\n",
    "mylist"
   ]
  },
  {
   "cell_type": "code",
   "execution_count": 41,
   "id": "dd665c30-cd84-480e-bf17-f898ddcc8309",
   "metadata": {},
   "outputs": [
    {
     "data": {
      "text/plain": [
       "[10, 30, 20, 100, 40]"
      ]
     },
     "execution_count": 41,
     "metadata": {},
     "output_type": "execute_result"
    }
   ],
   "source": [
    "shuffle(mylist)\n",
    "mylist"
   ]
  },
  {
   "cell_type": "code",
   "execution_count": 43,
   "id": "1cc3b1ea-1b31-40b8-b360-c24b9c253985",
   "metadata": {},
   "outputs": [],
   "source": [
    "#you can import many functions from a module using ,\n",
    "from random import shuffle, randint"
   ]
  },
  {
   "cell_type": "code",
   "execution_count": 45,
   "id": "43110ba2-51b4-4782-8f05-d3ce282fda30",
   "metadata": {},
   "outputs": [
    {
     "data": {
      "text/plain": [
       "12"
      ]
     },
     "execution_count": 45,
     "metadata": {},
     "output_type": "execute_result"
    }
   ],
   "source": [
    "randint(10, 20)"
   ]
  },
  {
   "cell_type": "code",
   "execution_count": 66,
   "id": "04680af2-cec6-4f97-916c-a26d46dbd396",
   "metadata": {},
   "outputs": [],
   "source": [
    "#or you can import all function from module as import random but without write module name\n",
    "\n",
    "from random import *"
   ]
  },
  {
   "cell_type": "code",
   "execution_count": 68,
   "id": "0e035c0a-ef4d-40e7-85ce-e9baef2ab9a8",
   "metadata": {},
   "outputs": [
    {
     "data": {
      "text/plain": [
       "0.9723700443603847"
      ]
     },
     "execution_count": 68,
     "metadata": {},
     "output_type": "execute_result"
    }
   ],
   "source": [
    "#Return random number between 0.0 and 1.0:\n",
    "random()"
   ]
  },
  {
   "cell_type": "markdown",
   "id": "f33ca9e4-eeea-45c7-8110-72bb9f51be6d",
   "metadata": {},
   "source": [
    "**3) as**"
   ]
  },
  {
   "cell_type": "code",
   "execution_count": 50,
   "id": "77bff234-f801-4448-bd6e-76f14a366b5f",
   "metadata": {},
   "outputs": [],
   "source": [
    "#give alis for Module \n",
    "import pandas as pd"
   ]
  },
  {
   "cell_type": "code",
   "execution_count": 52,
   "id": "a8cbf942-cfca-4045-bc93-c67f9fcbc891",
   "metadata": {},
   "outputs": [
    {
     "data": {
      "text/plain": [
       "['ArrowDtype',\n",
       " 'BooleanDtype',\n",
       " 'Categorical',\n",
       " 'CategoricalDtype',\n",
       " 'CategoricalIndex',\n",
       " 'DataFrame',\n",
       " 'DateOffset',\n",
       " 'DatetimeIndex',\n",
       " 'DatetimeTZDtype',\n",
       " 'ExcelFile',\n",
       " 'ExcelWriter',\n",
       " 'Flags',\n",
       " 'Float32Dtype',\n",
       " 'Float64Dtype',\n",
       " 'Grouper',\n",
       " 'HDFStore',\n",
       " 'Index',\n",
       " 'IndexSlice',\n",
       " 'Int16Dtype',\n",
       " 'Int32Dtype',\n",
       " 'Int64Dtype',\n",
       " 'Int8Dtype',\n",
       " 'Interval',\n",
       " 'IntervalDtype',\n",
       " 'IntervalIndex',\n",
       " 'MultiIndex',\n",
       " 'NA',\n",
       " 'NaT',\n",
       " 'NamedAgg',\n",
       " 'Period',\n",
       " 'PeriodDtype',\n",
       " 'PeriodIndex',\n",
       " 'RangeIndex',\n",
       " 'Series',\n",
       " 'SparseDtype',\n",
       " 'StringDtype',\n",
       " 'Timedelta',\n",
       " 'TimedeltaIndex',\n",
       " 'Timestamp',\n",
       " 'UInt16Dtype',\n",
       " 'UInt32Dtype',\n",
       " 'UInt64Dtype',\n",
       " 'UInt8Dtype',\n",
       " '__all__',\n",
       " '__builtins__',\n",
       " '__cached__',\n",
       " '__doc__',\n",
       " '__docformat__',\n",
       " '__file__',\n",
       " '__git_version__',\n",
       " '__loader__',\n",
       " '__name__',\n",
       " '__package__',\n",
       " '__path__',\n",
       " '__spec__',\n",
       " '__version__',\n",
       " '_built_with_meson',\n",
       " '_config',\n",
       " '_is_numpy_dev',\n",
       " '_libs',\n",
       " '_pandas_datetime_CAPI',\n",
       " '_pandas_parser_CAPI',\n",
       " '_testing',\n",
       " '_typing',\n",
       " '_version_meson',\n",
       " 'annotations',\n",
       " 'api',\n",
       " 'array',\n",
       " 'arrays',\n",
       " 'bdate_range',\n",
       " 'compat',\n",
       " 'concat',\n",
       " 'core',\n",
       " 'crosstab',\n",
       " 'cut',\n",
       " 'date_range',\n",
       " 'describe_option',\n",
       " 'errors',\n",
       " 'eval',\n",
       " 'factorize',\n",
       " 'from_dummies',\n",
       " 'get_dummies',\n",
       " 'get_option',\n",
       " 'infer_freq',\n",
       " 'interval_range',\n",
       " 'io',\n",
       " 'isna',\n",
       " 'isnull',\n",
       " 'json_normalize',\n",
       " 'lreshape',\n",
       " 'melt',\n",
       " 'merge',\n",
       " 'merge_asof',\n",
       " 'merge_ordered',\n",
       " 'notna',\n",
       " 'notnull',\n",
       " 'offsets',\n",
       " 'option_context',\n",
       " 'options',\n",
       " 'pandas',\n",
       " 'period_range',\n",
       " 'pivot',\n",
       " 'pivot_table',\n",
       " 'plotting',\n",
       " 'qcut',\n",
       " 'read_clipboard',\n",
       " 'read_csv',\n",
       " 'read_excel',\n",
       " 'read_feather',\n",
       " 'read_fwf',\n",
       " 'read_gbq',\n",
       " 'read_hdf',\n",
       " 'read_html',\n",
       " 'read_json',\n",
       " 'read_orc',\n",
       " 'read_parquet',\n",
       " 'read_pickle',\n",
       " 'read_sas',\n",
       " 'read_spss',\n",
       " 'read_sql',\n",
       " 'read_sql_query',\n",
       " 'read_sql_table',\n",
       " 'read_stata',\n",
       " 'read_table',\n",
       " 'read_xml',\n",
       " 'reset_option',\n",
       " 'set_eng_float_format',\n",
       " 'set_option',\n",
       " 'show_versions',\n",
       " 'test',\n",
       " 'testing',\n",
       " 'timedelta_range',\n",
       " 'to_datetime',\n",
       " 'to_numeric',\n",
       " 'to_pickle',\n",
       " 'to_timedelta',\n",
       " 'tseries',\n",
       " 'unique',\n",
       " 'util',\n",
       " 'value_counts',\n",
       " 'wide_to_long']"
      ]
     },
     "execution_count": 52,
     "metadata": {},
     "output_type": "execute_result"
    }
   ],
   "source": [
    "dir(pd)"
   ]
  },
  {
   "cell_type": "markdown",
   "id": "91150d2b-741e-486a-a641-30c5a681ba62",
   "metadata": {},
   "source": [
    " **OS Module**"
   ]
  },
  {
   "cell_type": "markdown",
   "id": "7ff88c87-a6cd-4bed-9744-2fa3fc82fd8a",
   "metadata": {},
   "source": [
    "Python comes with a built in os module to have some functions to deal with the operating system. \n",
    "[https://www.tutorialspoint.com/python/os_file_methods.htm](https://www.tutorialspoint.com/python/os_file_methods.htm)"
   ]
  },
  {
   "cell_type": "code",
   "execution_count": 77,
   "id": "c12ba310-4107-4dea-bf5c-83c9a70d5cfd",
   "metadata": {},
   "outputs": [],
   "source": [
    "import os"
   ]
  },
  {
   "cell_type": "code",
   "execution_count": 81,
   "id": "c747cbd8-9f69-42fb-b52b-d729a46c461c",
   "metadata": {},
   "outputs": [
    {
     "data": {
      "text/plain": [
       "['.ipynb_checkpoints',\n",
       " '01- Numpy Exercise - Solutions.ipynb',\n",
       " '01- Numpy Exercise.ipynb',\n",
       " 'Exercise1.ipynb',\n",
       " 'Interactive Python Functions and Methods.ipynb',\n",
       " 'Interactive_Python_Data_Structures (1).ipynb',\n",
       " 'lecture1 session 1.ipynb',\n",
       " 'lecture1 session 2 .ipynb',\n",
       " 'lecture2.ipynb']"
      ]
     },
     "execution_count": 81,
     "metadata": {},
     "output_type": "execute_result"
    }
   ],
   "source": [
    "#get the content of the directoryof this notbook\n",
    "os.listdir('.')"
   ]
  },
  {
   "cell_type": "code",
   "execution_count": 83,
   "id": "bcc7bd1e-f7e6-4572-93dc-c7e467caf90f",
   "metadata": {},
   "outputs": [
    {
     "data": {
      "text/plain": [
       "['All Users',\n",
       " 'CallQueue',\n",
       " 'Default',\n",
       " 'Default User',\n",
       " 'desktop.ini',\n",
       " 'naglaa',\n",
       " 'Public']"
      ]
     },
     "execution_count": 83,
     "metadata": {},
     "output_type": "execute_result"
    }
   ],
   "source": [
    "# up to 2 levels and get all the directories \n",
    "os.listdir('../..')"
   ]
  },
  {
   "cell_type": "code",
   "execution_count": 87,
   "id": "09c0246b-a614-4ac7-a13f-c90d4c8a45d2",
   "metadata": {},
   "outputs": [
    {
     "data": {
      "text/plain": [
       "'C:\\\\Users\\\\naglaa\\\\lectures'"
      ]
     },
     "execution_count": 87,
     "metadata": {},
     "output_type": "execute_result"
    }
   ],
   "source": [
    "os.getcwd()"
   ]
  },
  {
   "cell_type": "code",
   "execution_count": 89,
   "id": "a7833daa-5c5b-4027-8531-b47590fa1f8e",
   "metadata": {},
   "outputs": [
    {
     "name": "stdout",
     "output_type": "stream",
     "text": [
      "True\n"
     ]
    }
   ],
   "source": [
    "print(os.path.exists(os.getcwd()))"
   ]
  },
  {
   "cell_type": "code",
   "execution_count": 91,
   "id": "6920cc3a-8fdb-4916-9d7e-d90a9ff2900b",
   "metadata": {},
   "outputs": [
    {
     "name": "stdout",
     "output_type": "stream",
     "text": [
      "False\n"
     ]
    }
   ],
   "source": [
    "print(os.path.isfile(os.getcwd()))"
   ]
  },
  {
   "cell_type": "code",
   "execution_count": 93,
   "id": "8c0e7ca5-457a-47f4-acf8-ea049c7506ef",
   "metadata": {},
   "outputs": [
    {
     "name": "stdout",
     "output_type": "stream",
     "text": [
      "True\n"
     ]
    }
   ],
   "source": [
    "print(os.path.isdir(os.getcwd()))"
   ]
  },
  {
   "cell_type": "code",
   "execution_count": 95,
   "id": "b1b705b7-5f58-4cf2-891d-e91b28d85acd",
   "metadata": {},
   "outputs": [
    {
     "data": {
      "text/plain": [
       "['.anaconda',\n",
       " '.android',\n",
       " '.azuredatastudio',\n",
       " '.cache',\n",
       " '.conda',\n",
       " '.condarc',\n",
       " '.continuum',\n",
       " '.dotnet',\n",
       " '.emulator_console_auth_token',\n",
       " '.gitconfig',\n",
       " '.ipynb_checkpoints',\n",
       " '.ipython',\n",
       " '.jupyter',\n",
       " '.librarymanager',\n",
       " '.matplotlib',\n",
       " '.nuget',\n",
       " '.openjfx',\n",
       " '.soapuios',\n",
       " '.templateengine',\n",
       " '.VirtualBox',\n",
       " '.vscode',\n",
       " '.wdm',\n",
       " '311304a_page-0002.jpg',\n",
       " 'Adv OOP.ipynb',\n",
       " 'anaconda3',\n",
       " 'app.py',\n",
       " 'AppData',\n",
       " 'Application Data',\n",
       " 'autoCrop_bad_output.ipynb',\n",
       " 'build',\n",
       " 'cleaned_document.pdf',\n",
       " 'Contacts',\n",
       " 'Cookies',\n",
       " 'corp tries.ipynb',\n",
       " 'default-soapui-workspace.xml',\n",
       " 'Desktop',\n",
       " 'dist',\n",
       " 'Documents',\n",
       " 'Downloads',\n",
       " 'edb_npgsql.exe',\n",
       " 'edb_pgjdbc.exe',\n",
       " 'edb_psqlodbc.exe',\n",
       " 'edb_psqlodbc.exe-20240307164830',\n",
       " 'edb_psqlodbc.exe-20240307164852',\n",
       " 'edb_psqlodbc.exe-20240307164904',\n",
       " 'Exercise2.ipynb',\n",
       " 'facebook scrapping_edit.ipynb',\n",
       " 'Favorites',\n",
       " 'get_contacts.ipynb',\n",
       " 'get_contacts.py',\n",
       " 'get_contacts_v1.ipynb',\n",
       " 'image_2.tif',\n",
       " 'IntelGraphicsProfiles',\n",
       " 'lecture1.ipynb',\n",
       " 'lectures',\n",
       " 'Links',\n",
       " 'Local Settings',\n",
       " 'Music',\n",
       " 'My Documents',\n",
       " 'NetHood',\n",
       " 'newversion',\n",
       " 'NID front.jpeg',\n",
       " 'NTUSER.DAT',\n",
       " 'ntuser.dat.LOG1',\n",
       " 'ntuser.dat.LOG2',\n",
       " 'NTUSER.DAT{9d39d860-bbdd-11ee-8cef-fcf8aea62caa}.TM.blf',\n",
       " 'NTUSER.DAT{9d39d860-bbdd-11ee-8cef-fcf8aea62caa}.TMContainer00000000000000000001.regtrans-ms',\n",
       " 'NTUSER.DAT{9d39d860-bbdd-11ee-8cef-fcf8aea62caa}.TMContainer00000000000000000002.regtrans-ms',\n",
       " 'ntuser.ini',\n",
       " 'ocr Arabic.ipynb',\n",
       " 'OneDrive',\n",
       " 'output.pdf',\n",
       " 'output_file1.pdf',\n",
       " 'output_image1.jpg',\n",
       " 'output_perant.jpg',\n",
       " 'Pictures',\n",
       " 'postgis_3_4_pg16.exe',\n",
       " 'Postman',\n",
       " 'PrintHood',\n",
       " 'python files',\n",
       " 'Quality.ipynb',\n",
       " 'Qulity_v2.ipynb',\n",
       " 'Recent',\n",
       " 'remove_blacks.ipynb',\n",
       " 'rotate page pdf.ipynb',\n",
       " 'rotate.ipynb',\n",
       " 'Saved Games',\n",
       " 'Searches',\n",
       " 'SendTo',\n",
       " 'soapui-settings.xml',\n",
       " 'source',\n",
       " 'Start Menu',\n",
       " 'stealth-example.png',\n",
       " 'Templates',\n",
       " 'test2.spec',\n",
       " 'TicTacToe.ipynb',\n",
       " 'total_Contacts.xlsx',\n",
       " 'Untitled.ipynb',\n",
       " 'Untitled1.ipynb',\n",
       " 'Untitled2.ipynb',\n",
       " 'Untitled3.ipynb',\n",
       " 'Untitled4.ipynb',\n",
       " 'Untitled5.ipynb',\n",
       " 'Untitled6.ipynb',\n",
       " 'Untitled7.ipynb',\n",
       " 'Untitled9.ipynb',\n",
       " 'urls.xlsx',\n",
       " 'Videos',\n",
       " 'whitepage scrping v1.ipynb',\n",
       " 'whitepage scrping v2.ipynb',\n",
       " 'yallow page scrapping.ipynb',\n",
       " 'YallowPages.spec',\n",
       " 'YallowPages5.spec']"
      ]
     },
     "execution_count": 95,
     "metadata": {},
     "output_type": "execute_result"
    }
   ],
   "source": [
    "os.listdir('C:\\\\Users\\\\naglaa')"
   ]
  },
  {
   "cell_type": "code",
   "execution_count": 97,
   "id": "3c97e2ed-95d9-45c3-af5a-a61a3531d963",
   "metadata": {},
   "outputs": [],
   "source": [
    "os.makedirs('my_folder2')"
   ]
  },
  {
   "cell_type": "code",
   "execution_count": 99,
   "id": "e416c731-bae2-4750-87aa-8d232cafb32b",
   "metadata": {},
   "outputs": [
    {
     "data": {
      "text/plain": [
       "['.ipynb_checkpoints',\n",
       " '01- Numpy Exercise - Solutions.ipynb',\n",
       " '01- Numpy Exercise.ipynb',\n",
       " 'Exercise1.ipynb',\n",
       " 'Interactive Python Functions and Methods.ipynb',\n",
       " 'Interactive_Python_Data_Structures (1).ipynb',\n",
       " 'lecture1 session 1.ipynb',\n",
       " 'lecture1 session 2 .ipynb',\n",
       " 'lecture2.ipynb',\n",
       " 'my_folder2']"
      ]
     },
     "execution_count": 99,
     "metadata": {},
     "output_type": "execute_result"
    }
   ],
   "source": [
    "os.listdir('.')"
   ]
  },
  {
   "cell_type": "code",
   "execution_count": 101,
   "id": "54deb258-92cb-4caa-a581-2a82f9741833",
   "metadata": {},
   "outputs": [],
   "source": [
    "os.removedirs('my_folder2')"
   ]
  },
  {
   "cell_type": "code",
   "execution_count": 103,
   "id": "b569711d-1b47-492e-b5e9-5d457e19e6e4",
   "metadata": {},
   "outputs": [
    {
     "data": {
      "text/plain": [
       "['.ipynb_checkpoints',\n",
       " '01- Numpy Exercise - Solutions.ipynb',\n",
       " '01- Numpy Exercise.ipynb',\n",
       " 'Exercise1.ipynb',\n",
       " 'Interactive Python Functions and Methods.ipynb',\n",
       " 'Interactive_Python_Data_Structures (1).ipynb',\n",
       " 'lecture1 session 1.ipynb',\n",
       " 'lecture1 session 2 .ipynb',\n",
       " 'lecture2.ipynb']"
      ]
     },
     "execution_count": 103,
     "metadata": {},
     "output_type": "execute_result"
    }
   ],
   "source": [
    "os.listdir('.')"
   ]
  },
  {
   "cell_type": "markdown",
   "id": "19569e2b-ad13-437e-bf57-dd39d7392427",
   "metadata": {},
   "source": [
    "**Datetime Module**"
   ]
  },
  {
   "cell_type": "code",
   "execution_count": 106,
   "id": "ab8ce4ec-98b9-430d-beb3-7451d97b1d0c",
   "metadata": {},
   "outputs": [],
   "source": [
    "from datetime import datetime, timedelta"
   ]
  },
  {
   "cell_type": "code",
   "execution_count": 108,
   "id": "e4093d0f-e108-4280-b862-c3aa86674918",
   "metadata": {},
   "outputs": [
    {
     "name": "stdout",
     "output_type": "stream",
     "text": [
      "2025-04-12 15:29:46.625326\n"
     ]
    }
   ],
   "source": [
    "my_date = datetime.now()\n",
    "print(my_date)"
   ]
  },
  {
   "cell_type": "code",
   "execution_count": 110,
   "id": "36d36d89-b77b-49b7-bc64-28fa96cb9fdb",
   "metadata": {},
   "outputs": [
    {
     "data": {
      "text/plain": [
       "12"
      ]
     },
     "execution_count": 110,
     "metadata": {},
     "output_type": "execute_result"
    }
   ],
   "source": [
    "my_date.day"
   ]
  },
  {
   "cell_type": "code",
   "execution_count": 112,
   "id": "1966748e-2abb-4a44-aec0-b833f2b1435f",
   "metadata": {},
   "outputs": [
    {
     "data": {
      "text/plain": [
       "15"
      ]
     },
     "execution_count": 112,
     "metadata": {},
     "output_type": "execute_result"
    }
   ],
   "source": [
    "my_date.hour"
   ]
  },
  {
   "cell_type": "code",
   "execution_count": 114,
   "id": "c98459b0-1193-4596-84d5-b3476ec6e306",
   "metadata": {},
   "outputs": [
    {
     "data": {
      "text/plain": [
       "4"
      ]
     },
     "execution_count": 114,
     "metadata": {},
     "output_type": "execute_result"
    }
   ],
   "source": [
    "my_date.month"
   ]
  },
  {
   "cell_type": "code",
   "execution_count": 118,
   "id": "f256b789-f64f-4bf4-8c19-8f9ac072bccb",
   "metadata": {},
   "outputs": [
    {
     "data": {
      "text/plain": [
       "5"
      ]
     },
     "execution_count": 118,
     "metadata": {},
     "output_type": "execute_result"
    }
   ],
   "source": [
    "#Use the date.weekday() method. Digits 0-6 represent the consecutive days of the week, starting from Monday.\n",
    "my_date.weekday()"
   ]
  },
  {
   "cell_type": "code",
   "execution_count": 122,
   "id": "8d110562-e315-4b69-97b8-f9503c0c9cb7",
   "metadata": {},
   "outputs": [
    {
     "data": {
      "text/plain": [
       "datetime.datetime(2020, 5, 17, 22, 36, 21)"
      ]
     },
     "execution_count": 122,
     "metadata": {},
     "output_type": "execute_result"
    }
   ],
   "source": [
    "my_date2 = datetime(2020, 5, 17, 22, 36, 21)\n",
    "my_date2"
   ]
  },
  {
   "cell_type": "code",
   "execution_count": 126,
   "id": "d59f3828-0c71-4aba-91bf-d5fccb1c07ff",
   "metadata": {},
   "outputs": [
    {
     "name": "stdout",
     "output_type": "stream",
     "text": [
      "1790 days, 16:53:25.625326\n"
     ]
    }
   ],
   "source": [
    "print(my_date - my_date2)"
   ]
  },
  {
   "cell_type": "code",
   "execution_count": 142,
   "id": "e1cea237-ab1e-43d3-898e-063b9ee41b82",
   "metadata": {},
   "outputs": [
    {
     "name": "stdout",
     "output_type": "stream",
     "text": [
      "270 days, 9:18:00\n"
     ]
    }
   ],
   "source": [
    "#The datetime.timedelta() method returns an object representing a duration\n",
    "#timedelta(days=0, seconds=0, microseconds=0, milliseconds=0, minutes=0, hours=0, weeks=0)\n",
    "time_delt1 = timedelta(days= 270, hours = 9, minutes = 18)\n",
    "print(time_delt1)"
   ]
  },
  {
   "cell_type": "code",
   "execution_count": 144,
   "id": "094ae841-ab87-4023-b806-26197961c4f6",
   "metadata": {},
   "outputs": [
    {
     "name": "stdout",
     "output_type": "stream",
     "text": [
      "0:01:00\n"
     ]
    }
   ],
   "source": [
    "print(timedelta(minutes=1))"
   ]
  },
  {
   "cell_type": "code",
   "execution_count": 146,
   "id": "9d096aba-08b8-4861-a1b8-eaa2851f69fa",
   "metadata": {},
   "outputs": [
    {
     "name": "stdout",
     "output_type": "stream",
     "text": [
      "0:00:00.000100\n"
     ]
    }
   ],
   "source": [
    "print(timedelta(microseconds=100))"
   ]
  },
  {
   "cell_type": "code",
   "execution_count": 150,
   "id": "338d66fd-45dc-4f07-b3fd-0636cfe1a2cf",
   "metadata": {},
   "outputs": [
    {
     "data": {
      "text/plain": [
       "'Saturday --- 12/April/2025 03:29:46 PM'"
      ]
     },
     "execution_count": 150,
     "metadata": {},
     "output_type": "execute_result"
    }
   ],
   "source": [
    "#for more Details: https://www.w3schools.com/python/python_datetime.asp\n",
    "my_date.strftime(\"%A --- %d/%B/%Y %I:%M:%S %p\")"
   ]
  },
  {
   "cell_type": "markdown",
   "id": "67bbc523-b8e8-4fd9-a532-fb59022b0458",
   "metadata": {},
   "source": [
    "**Time Module**"
   ]
  },
  {
   "cell_type": "code",
   "execution_count": 156,
   "id": "c6dff882-ca19-4b9a-8a65-8b30e0ed4c43",
   "metadata": {},
   "outputs": [],
   "source": [
    "import time"
   ]
  },
  {
   "cell_type": "code",
   "execution_count": 158,
   "id": "9b7cc2fc-94eb-4037-9bfc-b55089eb4e5c",
   "metadata": {},
   "outputs": [
    {
     "data": {
      "text/plain": [
       "1744467124.7629204"
      ]
     },
     "execution_count": 158,
     "metadata": {},
     "output_type": "execute_result"
    }
   ],
   "source": [
    "# number of seconds from 1/1/1970\n",
    "time.time()"
   ]
  },
  {
   "cell_type": "markdown",
   "id": "99cb3f0c-39fa-4e97-9200-37a43812b555",
   "metadata": {},
   "source": [
    "**Delay with sleep**"
   ]
  },
  {
   "cell_type": "code",
   "execution_count": 160,
   "id": "dda508b6-0afd-40ff-bae9-6f986c4812c9",
   "metadata": {},
   "outputs": [
    {
     "name": "stdout",
     "output_type": "stream",
     "text": [
      "0\n",
      "1\n",
      "2\n",
      "3\n",
      "4\n",
      "5\n",
      "6\n",
      "7\n",
      "8\n",
      "9\n",
      "10\n",
      "code took 22.00786018371582 seconds\n"
     ]
    }
   ],
   "source": [
    "start_time = time.time()\n",
    "\n",
    "x = 10\n",
    "for i in range(11):\n",
    "    print(i)\n",
    "    time.sleep(2)\n",
    "\n",
    "finish_time = time.time()\n",
    "\n",
    "print(f\"code took {finish_time - start_time} seconds\") "
   ]
  },
  {
   "cell_type": "code",
   "execution_count": null,
   "id": "ef40582f-ca4c-4b6d-aae6-573d6f45d529",
   "metadata": {},
   "outputs": [],
   "source": []
  }
 ],
 "metadata": {
  "kernelspec": {
   "display_name": "Python 3 (ipykernel)",
   "language": "python",
   "name": "python3"
  },
  "language_info": {
   "codemirror_mode": {
    "name": "ipython",
    "version": 3
   },
   "file_extension": ".py",
   "mimetype": "text/x-python",
   "name": "python",
   "nbconvert_exporter": "python",
   "pygments_lexer": "ipython3",
   "version": "3.12.4"
  }
 },
 "nbformat": 4,
 "nbformat_minor": 5
}
