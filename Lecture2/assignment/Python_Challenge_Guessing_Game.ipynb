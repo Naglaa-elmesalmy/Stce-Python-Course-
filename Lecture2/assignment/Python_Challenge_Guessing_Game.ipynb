{
 "cells": [
  {
   "cell_type": "markdown",
   "metadata": {
    "id": "NQuOyznPahpH"
   },
   "source": [
    "# Guessing Game Challenge\n",
    "\n",
    "Let's use `while` loops to create a guessing game.\n",
    "\n",
    "The Challenge:\n",
    "\n",
    "Write a program that picks a random integer from 1 to 100, and has players guess the number. The rules are:\n",
    "\n",
    "1. If a player's guess is less than 1 or greater than 100, say \"OUT OF BOUNDS\"\n",
    "\n",
    "2. On all turns, if a guess is\n",
    " * closer to the number than the previous guess return \"Closer!\"\n",
    " * farther from the number than the previous guess, return \"Farther!\"\n",
    " * if a player want to end, he\\she  presses \"E\" key, return \"End Good bye!\"\n",
    "3. When the player's guess equals the number, tell them they've guessed correctly *and* how many guesses it took!\n",
    "4. print the rules of game in the start.\n",
    "\n"
   ]
  },
  {
   "cell_type": "markdown",
   "metadata": {
    "id": "HlHfgyZ9ahpc"
   },
   "source": [
    "### Good Job!"
   ]
  }
 ],
 "metadata": {
  "colab": {
   "provenance": []
  },
  "kernelspec": {
   "display_name": "Python 3 (ipykernel)",
   "language": "python",
   "name": "python3"
  },
  "language_info": {
   "codemirror_mode": {
    "name": "ipython",
    "version": 3
   },
   "file_extension": ".py",
   "mimetype": "text/x-python",
   "name": "python",
   "nbconvert_exporter": "python",
   "pygments_lexer": "ipython3",
   "version": "3.12.4"
  }
 },
 "nbformat": 4,
 "nbformat_minor": 4
}
