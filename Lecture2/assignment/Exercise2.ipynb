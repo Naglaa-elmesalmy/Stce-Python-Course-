{
 "cells": [
  {
   "cell_type": "markdown",
   "id": "5e4c0be6-02ec-4e19-be30-f98eb81a5445",
   "metadata": {},
   "source": [
    "## Exercise No.2"
   ]
  },
  {
   "cell_type": "markdown",
   "id": "f89c27d6-d15c-482d-8913-b679e4b6c3fb",
   "metadata": {},
   "source": [
    "**1-. Write a program to check whether a person is eligibl (age over 18 year)e for voting or not. (accept age from user**)"
   ]
  },
  {
   "cell_type": "code",
   "execution_count": null,
   "id": "08e34c11-8255-4438-99cb-969dafae65cc",
   "metadata": {},
   "outputs": [],
   "source": []
  },
  {
   "cell_type": "markdown",
   "id": "88198e9a-4bb2-435e-9f1a-f0f4b651e017",
   "metadata": {},
   "source": [
    "**2-Use range() to print all the even numbers from 0 to 10.**"
   ]
  },
  {
   "cell_type": "code",
   "execution_count": null,
   "id": "05a8096f-f7bd-4f62-b905-649994127436",
   "metadata": {},
   "outputs": [],
   "source": []
  },
  {
   "cell_type": "markdown",
   "id": "7e2dd7b5-a4fe-422a-a0eb-39342b8eae16",
   "metadata": {},
   "source": [
    "**4-Use for, .split(), and if to create a Statement that will print out words that start with 's':**"
   ]
  },
  {
   "cell_type": "code",
   "execution_count": 10,
   "id": "d808396d-585c-41d0-b14a-1063513f8a2c",
   "metadata": {},
   "outputs": [],
   "source": [
    "st = 'Print only the words that start with s in this sentence'"
   ]
  },
  {
   "cell_type": "code",
   "execution_count": null,
   "id": "0f441ee6-17b9-48e3-bfc3-26c08043294d",
   "metadata": {},
   "outputs": [],
   "source": []
  },
  {
   "cell_type": "code",
   "execution_count": null,
   "id": "caa4d5fe-dc44-43a3-8680-fb5cdd514fa7",
   "metadata": {},
   "outputs": [],
   "source": []
  },
  {
   "cell_type": "markdown",
   "id": "88195511-f717-424c-9333-c65e4505b9af",
   "metadata": {},
   "source": [
    "**5-Write a Python program that accepts a word from the user and reverses it**."
   ]
  },
  {
   "cell_type": "raw",
   "id": "a803e607-99f6-4e12-a08f-fc9cfaa8c2f0",
   "metadata": {},
   "source": [
    "example:\n",
    "input : Input a word to reverse:  hello world\n",
    "output: dlrow olleh"
   ]
  },
  {
   "cell_type": "code",
   "execution_count": null,
   "id": "ae77efcf-439d-4843-9340-0b50c7f6714e",
   "metadata": {},
   "outputs": [],
   "source": [
    "\n"
   ]
  },
  {
   "cell_type": "markdown",
   "id": "038fe8b9-b2fc-4a3a-bc24-7b3c56968389",
   "metadata": {},
   "source": [
    "**6-Write a Python program to count the number of even and odd numbers in a series of numbers** ers : 4"
   ]
  },
  {
   "cell_type": "raw",
   "id": "57b80153-3fee-4b1a-a715-03f82e5ab05f",
   "metadata": {},
   "source": [
    "\n",
    "Sample numbers : numbers = (1, 2, 3, 4, 5, 6, 7, 8, ) \n",
    "\n",
    "Expected Output :\n",
    "\n",
    "Number of even numbers : 5\n",
    "Number of odd numbers : 4"
   ]
  },
  {
   "cell_type": "code",
   "execution_count": null,
   "id": "fc3f5240-5801-41db-add1-967456795551",
   "metadata": {},
   "outputs": [],
   "source": [
    "\n"
   ]
  },
  {
   "cell_type": "markdown",
   "id": "04493004-08ed-41ed-90aa-edc6f2172337",
   "metadata": {},
   "source": [
    "**7-Write a Python program that iterates the integers from 1 to 50. For multiples of three print \"Fizz\" instead of the number and for multiples of five print \"Buzz\". For numbers that are multiples of three and five, print \"FizzBuzz\".**"
   ]
  },
  {
   "cell_type": "raw",
   "id": "568ae5c6-a16f-4d8f-8f65-44f006033b2f",
   "metadata": {},
   "source": [
    "Sample Output :\n",
    "\n",
    "fizzbuzz\n",
    "1\n",
    "2\n",
    "fizz\n",
    "4\n",
    "buzz"
   ]
  },
  {
   "cell_type": "code",
   "execution_count": null,
   "id": "cd431394-1146-48ca-aec1-133ed7573cfa",
   "metadata": {},
   "outputs": [],
   "source": []
  },
  {
   "cell_type": "markdown",
   "id": "04f47be7-57ea-4ded-8465-acd37978d577",
   "metadata": {},
   "source": [
    "**8. Write a program to calculate the electricity bill (accept number of unit from user) according to the following criteria :**"
   ]
  },
  {
   "cell_type": "raw",
   "id": "2fea2ccc-2846-4a65-acd4-293242847901",
   "metadata": {},
   "source": [
    "             Unit                                                     Price  \n",
    "First 100 units                                               no charge\n",
    "Next 100 units                                              Rs 5 per unit\n",
    "After 200 units                                             Rs 10 per unit\n",
    "(For example if input unit is 350 than total bill amount is Rs2000)"
   ]
  },
  {
   "cell_type": "code",
   "execution_count": null,
   "id": "3fa95086-bca7-4805-8456-2bd0ca08934a",
   "metadata": {},
   "outputs": [],
   "source": []
  },
  {
   "cell_type": "markdown",
   "id": "db79fd91-2592-40d8-8174-73a8924128be",
   "metadata": {},
   "source": [
    "**9-Handle the exception thrown by the code below by using try and except blocks.**"
   ]
  },
  {
   "cell_type": "code",
   "execution_count": 43,
   "id": "d86458cc-ca03-4891-87c4-de388318aaa0",
   "metadata": {},
   "outputs": [
    {
     "ename": "TypeError",
     "evalue": "unsupported operand type(s) for ** or pow(): 'str' and 'int'",
     "output_type": "error",
     "traceback": [
      "\u001b[1;31m---------------------------------------------------------------------------\u001b[0m",
      "\u001b[1;31mTypeError\u001b[0m                                 Traceback (most recent call last)",
      "Cell \u001b[1;32mIn[43], line 2\u001b[0m\n\u001b[0;32m      1\u001b[0m \u001b[38;5;28;01mfor\u001b[39;00m i \u001b[38;5;129;01min\u001b[39;00m [\u001b[38;5;124m'\u001b[39m\u001b[38;5;124ma\u001b[39m\u001b[38;5;124m'\u001b[39m,\u001b[38;5;124m'\u001b[39m\u001b[38;5;124mb\u001b[39m\u001b[38;5;124m'\u001b[39m,\u001b[38;5;124m'\u001b[39m\u001b[38;5;124mc\u001b[39m\u001b[38;5;124m'\u001b[39m]:\n\u001b[1;32m----> 2\u001b[0m     \u001b[38;5;28mprint\u001b[39m(i\u001b[38;5;241m*\u001b[39m\u001b[38;5;241m*\u001b[39m\u001b[38;5;241m2\u001b[39m)\n",
      "\u001b[1;31mTypeError\u001b[0m: unsupported operand type(s) for ** or pow(): 'str' and 'int'"
     ]
    }
   ],
   "source": [
    "for i in ['a','b','c']:\n",
    "    print(i**2)"
   ]
  },
  {
   "cell_type": "markdown",
   "id": "ad723da5-8966-4637-889a-59d1256610a3",
   "metadata": {},
   "source": [
    "**10-create your module \"MyTemp\" which contain two function :**\n",
    "\n",
    "1.fahrenheit_to_celsius : its equation (Temperature in degrees Fahrenheit (°F) = (Temperature in degrees Celsius (°C) * 9/5) + 32)\n",
    "\n",
    "2.celsius_to_fahrenheit: its equation (Temperature in degrees Celsius (°C) = (Temperature in degrees Fahrenheit (°F) - 32) * 5/9)\n"
   ]
  },
  {
   "cell_type": "code",
   "execution_count": null,
   "id": "2b3682aa-bccd-47e4-967b-889854521686",
   "metadata": {},
   "outputs": [],
   "source": []
  }
 ],
 "metadata": {
  "kernelspec": {
   "display_name": "Python 3 (ipykernel)",
   "language": "python",
   "name": "python3"
  },
  "language_info": {
   "codemirror_mode": {
    "name": "ipython",
    "version": 3
   },
   "file_extension": ".py",
   "mimetype": "text/x-python",
   "name": "python",
   "nbconvert_exporter": "python",
   "pygments_lexer": "ipython3",
   "version": "3.12.4"
  }
 },
 "nbformat": 4,
 "nbformat_minor": 5
}
