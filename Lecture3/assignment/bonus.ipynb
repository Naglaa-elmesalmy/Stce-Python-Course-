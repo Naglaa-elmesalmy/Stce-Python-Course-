{
 "cells": [
  {
   "cell_type": "markdown",
   "id": "bcc8e3e4-d1b4-47b8-8383-e4d17a5b64ee",
   "metadata": {},
   "source": [
    "# Bonus"
   ]
  },
  {
   "cell_type": "markdown",
   "id": "25ba5816-ebe5-4fc2-b235-12ac55b0e8df",
   "metadata": {},
   "source": [
    "**1- Create a Student class.**\n",
    "Attributes: name, roll_number, and marks\n",
    "\n",
    "Method:\n",
    "\n",
    "display() – prints all the student details"
   ]
  },
  {
   "cell_type": "markdown",
   "id": "e3d1ac67-9a06-4c0b-937a-b002f33ca3da",
   "metadata": {},
   "source": [
    "**2- Create a class called BankAccount.**\n",
    "Attributes: account_holder, balance (initialize with zero)\n",
    "\n",
    "Methods:\n",
    "\n",
    "deposit(amount)\n",
    "\n",
    "withdraw(amount)\n",
    "\n",
    "get_balance()"
   ]
  },
  {
   "cell_type": "markdown",
   "id": "864c7b0c-1eec-4001-b2c2-43d63284ae56",
   "metadata": {},
   "source": [
    "**3-Create two classes: Author and Book (composition).**\n",
    "The Book class should contain an instance of Author\n",
    "\n",
    "Attributes for Book: title, author (object), and price\n",
    "\n",
    "Method:\n",
    "\n",
    "display() – prints book details including author's name"
   ]
  },
  {
   "cell_type": "markdown",
   "id": "ee854051-d189-4621-bddc-4b17565b5ac6",
   "metadata": {},
   "source": [
    "**4-Write a class TemperatureConverter.**\n",
    "Use static methods for:\n",
    "\n",
    "celsius_to_fahrenheit(c)\n",
    "\n",
    "fahrenheit_to_celsius(f)"
   ]
  },
  {
   "cell_type": "markdown",
   "id": "6dadee05-38d3-4350-b293-732b47fa7d34",
   "metadata": {},
   "source": [
    "**5-Create a base class Vehicle and derived class Bike.**\n",
    "\n",
    "Vehicle should have a method info()\n",
    "\n",
    "Bike should inherit from Vehicle and override info() method"
   ]
  },
  {
   "cell_type": "markdown",
   "id": "87d3bfda-646e-4aa8-8ee5-50eedc814591",
   "metadata": {},
   "source": [
    "**6- Demonstrate multiple inheritance with Father and Mother classes.**\n",
    "\n",
    "Each class should have a skills() method\n",
    "\n",
    "Child class inherits from both and combines their skills"
   ]
  },
  {
   "cell_type": "markdown",
   "id": "ad5767b0-aaac-4185-8b96-cfc4cf963d7a",
   "metadata": {},
   "source": [
    "**7-Replace all odd numbers in a NumPy array with -1**"
   ]
  },
  {
   "cell_type": "code",
   "execution_count": null,
   "id": "9fff6c11-8d62-48aa-b537-00a309f92c73",
   "metadata": {},
   "outputs": [],
   "source": []
  }
 ],
 "metadata": {
  "kernelspec": {
   "display_name": "Python 3 (ipykernel)",
   "language": "python",
   "name": "python3"
  },
  "language_info": {
   "codemirror_mode": {
    "name": "ipython",
    "version": 3
   },
   "file_extension": ".py",
   "mimetype": "text/x-python",
   "name": "python",
   "nbconvert_exporter": "python",
   "pygments_lexer": "ipython3",
   "version": "3.12.4"
  }
 },
 "nbformat": 4,
 "nbformat_minor": 5
}
