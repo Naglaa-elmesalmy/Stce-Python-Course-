{
 "cells": [
  {
   "cell_type": "markdown",
   "id": "43d8ea16-6dda-4632-89c0-da7cb96b8605",
   "metadata": {},
   "source": [
    "# Python Course"
   ]
  },
  {
   "cell_type": "markdown",
   "id": "c1469bfa-461f-4d6b-bc52-8ff5a53b1a18",
   "metadata": {},
   "source": [
    "## lecture 3 :session 2"
   ]
  },
  {
   "cell_type": "markdown",
   "id": "dac9b348-4026-4715-b16a-82145f8be71e",
   "metadata": {},
   "source": [
    "### <ins>Python Math</ins>"
   ]
  },
  {
   "cell_type": "markdown",
   "id": "d3face12-acba-4478-8cdb-f8e53d9cf291",
   "metadata": {},
   "source": [
    "### Built-in Math Functions"
   ]
  },
  {
   "cell_type": "code",
   "execution_count": 15,
   "id": "5fedf99e-1d67-4f96-82db-78c92661f21e",
   "metadata": {},
   "outputs": [
    {
     "name": "stdout",
     "output_type": "stream",
     "text": [
      "5\n",
      "25\n"
     ]
    }
   ],
   "source": [
    "#The min() and max() functions can be used to find the lowest or highest value in an iterable:\n",
    "x = min(5, 10, 25)\n",
    "y = max(5, 10, 25)\n",
    "\n",
    "print(x)\n",
    "print(y)"
   ]
  },
  {
   "cell_type": "code",
   "execution_count": 17,
   "id": "f8e5e399-40f0-4605-8f95-8f0897fd4970",
   "metadata": {},
   "outputs": [
    {
     "name": "stdout",
     "output_type": "stream",
     "text": [
      "7.25\n"
     ]
    }
   ],
   "source": [
    "#The abs() function returns the absolute (positive) value of the specified number:\n",
    "x = abs(-7.25)\n",
    "\n",
    "print(x)"
   ]
  },
  {
   "cell_type": "code",
   "execution_count": 21,
   "id": "4ffc023f-9ac2-438b-bdfa-353e284b726f",
   "metadata": {},
   "outputs": [
    {
     "name": "stdout",
     "output_type": "stream",
     "text": [
      "64\n"
     ]
    }
   ],
   "source": [
    "# The pow(x, y) function returns the value of x to the power of y \n",
    "x = pow(4, 3)\n",
    "\n",
    "print(x)"
   ]
  },
  {
   "cell_type": "markdown",
   "id": "f159cea0-0c87-4819-84f7-3eb22470f711",
   "metadata": {},
   "source": [
    "### <u>The Math Module</u>"
   ]
  },
  {
   "cell_type": "markdown",
   "id": "bf41d88e-5b41-43e7-8221-3ffc15b35fbf",
   "metadata": {},
   "source": [
    "Python has also a built-in module called math, which extends the list of mathematical functions.\r\n",
    "\r\n",
    "To use it, you must import the math module"
   ]
  },
  {
   "cell_type": "code",
   "execution_count": 25,
   "id": "ba1ea09e-fb1f-4b2d-a534-6a07f76375d1",
   "metadata": {},
   "outputs": [],
   "source": [
    "import math"
   ]
  },
  {
   "cell_type": "code",
   "execution_count": 27,
   "id": "b3a4813b-1b97-47a2-8040-18b4999dd56f",
   "metadata": {},
   "outputs": [
    {
     "name": "stdout",
     "output_type": "stream",
     "text": [
      "8.0\n"
     ]
    }
   ],
   "source": [
    "# The math.sqrt() method for example, returns the square root of a number:\n",
    "x = math.sqrt(64)\n",
    "\n",
    "print(x)"
   ]
  },
  {
   "cell_type": "code",
   "execution_count": 31,
   "id": "607ae13b-a595-4560-b22c-cee6bfeac5cb",
   "metadata": {},
   "outputs": [
    {
     "name": "stdout",
     "output_type": "stream",
     "text": [
      "2\n",
      "1\n"
     ]
    }
   ],
   "source": [
    "#The math.ceil() method rounds a number upwards to its nearest integer, \n",
    "x = math.ceil(1.4)\n",
    "#the math.floor() method rounds a number downwards to its nearest integer\n",
    "y = math.floor(1.4)\n",
    "print(x)\n",
    "print(y)"
   ]
  },
  {
   "cell_type": "code",
   "execution_count": 33,
   "id": "8d00a6fd-15b6-4eb6-bc93-8a8ef3641b31",
   "metadata": {},
   "outputs": [
    {
     "name": "stdout",
     "output_type": "stream",
     "text": [
      "3.141592653589793\n"
     ]
    }
   ],
   "source": [
    "#The math.pi constant, returns the value of PI (3.14...):\n",
    "x = math.pi\n",
    "\n",
    "print(x)"
   ]
  },
  {
   "cell_type": "markdown",
   "id": "a2de33de-9698-4564-91f2-0126d1193b4f",
   "metadata": {},
   "source": [
    "### <u>The NumPy Module</u>"
   ]
  },
  {
   "cell_type": "markdown",
   "id": "7384821c-b00c-4622-a771-ea4d88ff83e2",
   "metadata": {},
   "source": [
    "NumPy is a Python library used for working with arrays. It also has functions for working in domain of linear algebra, fourier transform, and matrices. NumPy stands for Numerical Python.\n",
    "\n",
    "In Python we have lists that serve the purpose of arrays, but they are slow to process. NumPy aims to provide an array object that is up to 50x faster than traditional Python lists. The array object in NumPy is called **ndarray** , it provides a lot of supporting functions that make working with ndarray very easy."
   ]
  },
  {
   "cell_type": "code",
   "execution_count": 5,
   "id": "5264b0cb-eff6-4b78-bfd4-c3fee1e644c3",
   "metadata": {},
   "outputs": [],
   "source": [
    "#import \n",
    "import numpy as np"
   ]
  },
  {
   "cell_type": "markdown",
   "id": "df78f331-3f1d-4645-846c-f0d63dd30bd6",
   "metadata": {},
   "source": [
    "#### 1) Creating NumPy Arrays"
   ]
  },
  {
   "cell_type": "code",
   "execution_count": 44,
   "id": "6c2a5aee-c9b5-4268-8890-6abf76774983",
   "metadata": {},
   "outputs": [
    {
     "data": {
      "text/plain": [
       "[1, 2, 3]"
      ]
     },
     "execution_count": 44,
     "metadata": {},
     "output_type": "execute_result"
    }
   ],
   "source": [
    "my_list = [1,2,3]\n",
    "my_list"
   ]
  },
  {
   "cell_type": "code",
   "execution_count": 46,
   "id": "c966efeb-3bf9-487b-8442-8a4a45e1e94f",
   "metadata": {},
   "outputs": [
    {
     "data": {
      "text/plain": [
       "array([1, 2, 3])"
      ]
     },
     "execution_count": 46,
     "metadata": {},
     "output_type": "execute_result"
    }
   ],
   "source": [
    "np.array(my_list)"
   ]
  },
  {
   "cell_type": "code",
   "execution_count": 48,
   "id": "569f4039-fba0-4597-aa83-46f7436d48b4",
   "metadata": {},
   "outputs": [
    {
     "data": {
      "text/plain": [
       "[[1, 2, 3], [4, 5, 6], [7, 8, 9]]"
      ]
     },
     "execution_count": 48,
     "metadata": {},
     "output_type": "execute_result"
    }
   ],
   "source": [
    "my_matrix = [[1,2,3],[4,5,6],[7,8,9]]\n",
    "my_matrix"
   ]
  },
  {
   "cell_type": "code",
   "execution_count": 50,
   "id": "56fcdad2-cd61-4356-afd2-2003ea80f884",
   "metadata": {},
   "outputs": [
    {
     "data": {
      "text/plain": [
       "array([[1, 2, 3],\n",
       "       [4, 5, 6],\n",
       "       [7, 8, 9]])"
      ]
     },
     "execution_count": 50,
     "metadata": {},
     "output_type": "execute_result"
    }
   ],
   "source": [
    "np.array(my_matrix)"
   ]
  },
  {
   "cell_type": "markdown",
   "id": "1fa8a6ae-395b-4e42-a3ad-11dfc057f0c9",
   "metadata": {},
   "source": [
    " ### 2) arange"
   ]
  },
  {
   "cell_type": "code",
   "execution_count": 7,
   "id": "de205c26-08c6-4041-840c-32de2ff22b04",
   "metadata": {},
   "outputs": [
    {
     "data": {
      "text/plain": [
       "array([ 0,  1,  2,  3,  4,  5,  6,  7,  8,  9, 10])"
      ]
     },
     "execution_count": 7,
     "metadata": {},
     "output_type": "execute_result"
    }
   ],
   "source": [
    "np.arange(0, 11)"
   ]
  },
  {
   "cell_type": "code",
   "execution_count": 9,
   "id": "0ff8ff7a-50d6-4bde-ae92-4bec42abfc77",
   "metadata": {},
   "outputs": [
    {
     "data": {
      "text/plain": [
       "array([ 0,  2,  4,  6,  8, 10])"
      ]
     },
     "execution_count": 9,
     "metadata": {},
     "output_type": "execute_result"
    }
   ],
   "source": [
    "np.arange(0, 11, 2)"
   ]
  },
  {
   "cell_type": "markdown",
   "id": "68031464-aec8-49aa-9ec1-9f93522e27fc",
   "metadata": {},
   "source": [
    "### 3) zeros"
   ]
  },
  {
   "cell_type": "code",
   "execution_count": 12,
   "id": "bc686b7c-e5b0-46bf-a1b9-621b1a99f943",
   "metadata": {},
   "outputs": [
    {
     "data": {
      "text/plain": [
       "array([0., 0., 0.])"
      ]
     },
     "execution_count": 12,
     "metadata": {},
     "output_type": "execute_result"
    }
   ],
   "source": [
    "np.zeros(3)"
   ]
  },
  {
   "cell_type": "code",
   "execution_count": 14,
   "id": "5a1e9bf8-eb5e-465c-9269-de160b627d10",
   "metadata": {},
   "outputs": [
    {
     "data": {
      "text/plain": [
       "array([[0., 0., 0., 0., 0.],\n",
       "       [0., 0., 0., 0., 0.],\n",
       "       [0., 0., 0., 0., 0.],\n",
       "       [0., 0., 0., 0., 0.],\n",
       "       [0., 0., 0., 0., 0.]])"
      ]
     },
     "execution_count": 14,
     "metadata": {},
     "output_type": "execute_result"
    }
   ],
   "source": [
    "np.zeros((5, 5))"
   ]
  },
  {
   "cell_type": "markdown",
   "id": "5e5fd81b-479a-4b2b-95c4-dbcbd55d4896",
   "metadata": {},
   "source": [
    "### 4) ones"
   ]
  },
  {
   "cell_type": "code",
   "execution_count": 17,
   "id": "f604af39-172d-4d9b-af86-dfe31fb786b6",
   "metadata": {},
   "outputs": [
    {
     "data": {
      "text/plain": [
       "array([1., 1., 1.])"
      ]
     },
     "execution_count": 17,
     "metadata": {},
     "output_type": "execute_result"
    }
   ],
   "source": [
    "np.ones(3)"
   ]
  },
  {
   "cell_type": "code",
   "execution_count": 19,
   "id": "59efdbcc-6c90-4d02-927f-903d860e748e",
   "metadata": {},
   "outputs": [
    {
     "data": {
      "text/plain": [
       "array([[1., 0., 0., 0., 0.],\n",
       "       [0., 1., 0., 0., 0.],\n",
       "       [0., 0., 1., 0., 0.],\n",
       "       [0., 0., 0., 1., 0.],\n",
       "       [0., 0., 0., 0., 1.]])"
      ]
     },
     "execution_count": 19,
     "metadata": {},
     "output_type": "execute_result"
    }
   ],
   "source": [
    "np.eye(5)"
   ]
  },
  {
   "cell_type": "markdown",
   "id": "ef1c5248-eb2d-4f69-8f8a-cd7e51294a65",
   "metadata": {},
   "source": [
    "### 5) linspace"
   ]
  },
  {
   "cell_type": "code",
   "execution_count": 22,
   "id": "5f4c9d32-533c-41a3-815f-d8af481a37fc",
   "metadata": {},
   "outputs": [
    {
     "data": {
      "text/plain": [
       "array([  0.,  20.,  40.,  60.,  80., 100.])"
      ]
     },
     "execution_count": 22,
     "metadata": {},
     "output_type": "execute_result"
    }
   ],
   "source": [
    "np.linspace(0, 100, 6)"
   ]
  },
  {
   "cell_type": "code",
   "execution_count": 24,
   "id": "815c8dfc-964b-4a36-a365-7d743c78ce05",
   "metadata": {},
   "outputs": [
    {
     "data": {
      "text/plain": [
       "array([  0.,  25.,  50.,  75., 100.])"
      ]
     },
     "execution_count": 24,
     "metadata": {},
     "output_type": "execute_result"
    }
   ],
   "source": [
    "np.linspace(0, 100, 5)"
   ]
  },
  {
   "cell_type": "code",
   "execution_count": 26,
   "id": "1651fa54-fa0c-44ba-ac36-38a5d42322fa",
   "metadata": {},
   "outputs": [
    {
     "data": {
      "text/plain": [
       "array([ 0.        ,  0.20408163,  0.40816327,  0.6122449 ,  0.81632653,\n",
       "        1.02040816,  1.2244898 ,  1.42857143,  1.63265306,  1.83673469,\n",
       "        2.04081633,  2.24489796,  2.44897959,  2.65306122,  2.85714286,\n",
       "        3.06122449,  3.26530612,  3.46938776,  3.67346939,  3.87755102,\n",
       "        4.08163265,  4.28571429,  4.48979592,  4.69387755,  4.89795918,\n",
       "        5.10204082,  5.30612245,  5.51020408,  5.71428571,  5.91836735,\n",
       "        6.12244898,  6.32653061,  6.53061224,  6.73469388,  6.93877551,\n",
       "        7.14285714,  7.34693878,  7.55102041,  7.75510204,  7.95918367,\n",
       "        8.16326531,  8.36734694,  8.57142857,  8.7755102 ,  8.97959184,\n",
       "        9.18367347,  9.3877551 ,  9.59183673,  9.79591837, 10.        ])"
      ]
     },
     "execution_count": 26,
     "metadata": {},
     "output_type": "execute_result"
    }
   ],
   "source": [
    "np.linspace(0, 10, 50)"
   ]
  },
  {
   "cell_type": "markdown",
   "id": "882172db-45d1-4393-9711-3ed3417a4a09",
   "metadata": {},
   "source": [
    "#### note: \n",
    " difference between arange and linspace : arange allow you to define the size of the step.linspace allow you to define the number of steps"
   ]
  },
  {
   "cell_type": "markdown",
   "id": "6fc89917-8b39-4109-8c00-62627264bef7",
   "metadata": {},
   "source": [
    "### 6) rand\n",
    "Create an array of the given shape and populate it with random samples from a uniform distribution over [0, 1]."
   ]
  },
  {
   "cell_type": "code",
   "execution_count": 32,
   "id": "8b62b453-6770-4276-8722-4cebdb5d51ca",
   "metadata": {},
   "outputs": [
    {
     "data": {
      "text/plain": [
       "array([0.76598436, 0.91262334, 0.76254705])"
      ]
     },
     "execution_count": 32,
     "metadata": {},
     "output_type": "execute_result"
    }
   ],
   "source": [
    "np.random.rand(3)"
   ]
  },
  {
   "cell_type": "code",
   "execution_count": 34,
   "id": "979665dd-b695-4460-9cbe-a8ec76c7f8b9",
   "metadata": {},
   "outputs": [
    {
     "data": {
      "text/plain": [
       "array([[0.72085312, 0.18368247, 0.10457645, 0.19830778, 0.19147121],\n",
       "       [0.52145347, 0.60447286, 0.05534472, 0.76641258, 0.4271814 ],\n",
       "       [0.66982202, 0.74796656, 0.44345063, 0.37882735, 0.66989452],\n",
       "       [0.86794666, 0.84069639, 0.22557281, 0.24950165, 0.10413338],\n",
       "       [0.96456103, 0.43294452, 0.31832076, 0.84662566, 0.20876507]])"
      ]
     },
     "execution_count": 34,
     "metadata": {},
     "output_type": "execute_result"
    }
   ],
   "source": [
    "np.random.rand(5, 5)"
   ]
  },
  {
   "cell_type": "markdown",
   "id": "3991511a-764b-43ff-8f48-81565983731b",
   "metadata": {},
   "source": [
    "### 7) randint\n",
    "Return random integers from low (inclusive) to high (exclusive)."
   ]
  },
  {
   "cell_type": "code",
   "execution_count": 38,
   "id": "127cf83d-26c6-424a-b27a-9a723b6e247d",
   "metadata": {},
   "outputs": [
    {
     "data": {
      "text/plain": [
       "55"
      ]
     },
     "execution_count": 38,
     "metadata": {},
     "output_type": "execute_result"
    }
   ],
   "source": [
    "np.random.randint(1, 100)"
   ]
  },
  {
   "cell_type": "code",
   "execution_count": 42,
   "id": "187e5ffa-9037-4248-9d98-4a4e6c629597",
   "metadata": {},
   "outputs": [
    {
     "data": {
      "text/plain": [
       "array([50, 43,  7, 59, 66, 42, 10, 34, 17, 44])"
      ]
     },
     "execution_count": 42,
     "metadata": {},
     "output_type": "execute_result"
    }
   ],
   "source": [
    "ranarr=np.random.randint(1, 100, 10)\n",
    "ranarr"
   ]
  },
  {
   "cell_type": "markdown",
   "id": "8674281e-5c6a-4fd4-a666-d3cecf6dd118",
   "metadata": {},
   "source": [
    "### 8) max"
   ]
  },
  {
   "cell_type": "code",
   "execution_count": 45,
   "id": "82f17199-3200-48ec-9adf-12ca549119d3",
   "metadata": {},
   "outputs": [
    {
     "data": {
      "text/plain": [
       "66"
      ]
     },
     "execution_count": 45,
     "metadata": {},
     "output_type": "execute_result"
    }
   ],
   "source": [
    "ranarr.max()"
   ]
  },
  {
   "cell_type": "markdown",
   "id": "16b6caee-36c5-4789-9788-3b6c0999060e",
   "metadata": {},
   "source": [
    "### 10) argmax\n",
    "return the index of max value"
   ]
  },
  {
   "cell_type": "code",
   "execution_count": 48,
   "id": "d6541d0e-6ea7-4033-9d3f-d6cb4d92e060",
   "metadata": {},
   "outputs": [
    {
     "data": {
      "text/plain": [
       "4"
      ]
     },
     "execution_count": 48,
     "metadata": {},
     "output_type": "execute_result"
    }
   ],
   "source": [
    "ranarr.argmax()"
   ]
  },
  {
   "cell_type": "markdown",
   "id": "17c0d98b-56a3-461e-b56e-38fc16d82cc2",
   "metadata": {},
   "source": [
    "### 11) min"
   ]
  },
  {
   "cell_type": "code",
   "execution_count": 53,
   "id": "550c8f10-47a9-4d76-9c22-fcb63935c841",
   "metadata": {},
   "outputs": [
    {
     "data": {
      "text/plain": [
       "7"
      ]
     },
     "execution_count": 53,
     "metadata": {},
     "output_type": "execute_result"
    }
   ],
   "source": [
    "ranarr.min()"
   ]
  },
  {
   "cell_type": "markdown",
   "id": "af44863c-9dd3-4cfb-b26c-4ca6aa86fe9c",
   "metadata": {},
   "source": [
    "### 12) argmin\n",
    "return the index of min"
   ]
  },
  {
   "cell_type": "code",
   "execution_count": 60,
   "id": "dfc0447c-7faa-408b-a620-4f984ec4b1b5",
   "metadata": {},
   "outputs": [
    {
     "data": {
      "text/plain": [
       "2"
      ]
     },
     "execution_count": 60,
     "metadata": {},
     "output_type": "execute_result"
    }
   ],
   "source": [
    "ranarr.argmin()"
   ]
  },
  {
   "cell_type": "markdown",
   "id": "e5cfa302-4dda-47a0-a29e-c56e7e7fa80f",
   "metadata": {},
   "source": [
    "### 13) shape "
   ]
  },
  {
   "cell_type": "code",
   "execution_count": 67,
   "id": "a775aedc-786b-47c0-b5e3-6186981398d5",
   "metadata": {},
   "outputs": [
    {
     "data": {
      "text/plain": [
       "(10,)"
      ]
     },
     "execution_count": 67,
     "metadata": {},
     "output_type": "execute_result"
    }
   ],
   "source": [
    "ranarr.shape"
   ]
  },
  {
   "cell_type": "markdown",
   "id": "7d8b77c6-a4ac-49d4-b8f6-a29f26931114",
   "metadata": {},
   "source": [
    "### 14) Reshape\r\n",
    "Returns an array containing the same data with a new shape."
   ]
  },
  {
   "cell_type": "code",
   "execution_count": 71,
   "id": "4195c246-74d6-4bef-9f11-fce40f569bda",
   "metadata": {},
   "outputs": [],
   "source": [
    "arr = np.arange(25)"
   ]
  },
  {
   "cell_type": "code",
   "execution_count": 73,
   "id": "2b0cd7f2-648c-41b4-b580-4c94d102514e",
   "metadata": {},
   "outputs": [
    {
     "data": {
      "text/plain": [
       "array([ 0,  1,  2,  3,  4,  5,  6,  7,  8,  9, 10, 11, 12, 13, 14, 15, 16,\n",
       "       17, 18, 19, 20, 21, 22, 23, 24])"
      ]
     },
     "execution_count": 73,
     "metadata": {},
     "output_type": "execute_result"
    }
   ],
   "source": [
    "arr"
   ]
  },
  {
   "cell_type": "code",
   "execution_count": 75,
   "id": "a40ac7d9-8ac5-4643-9590-3f4ab4726729",
   "metadata": {},
   "outputs": [
    {
     "data": {
      "text/plain": [
       "(25,)"
      ]
     },
     "execution_count": 75,
     "metadata": {},
     "output_type": "execute_result"
    }
   ],
   "source": [
    "arr.shape"
   ]
  },
  {
   "cell_type": "code",
   "execution_count": 77,
   "id": "bbc94a05-487c-4c47-9434-a67a8a482a53",
   "metadata": {},
   "outputs": [
    {
     "data": {
      "text/plain": [
       "array([[ 0,  1,  2,  3,  4],\n",
       "       [ 5,  6,  7,  8,  9],\n",
       "       [10, 11, 12, 13, 14],\n",
       "       [15, 16, 17, 18, 19],\n",
       "       [20, 21, 22, 23, 24]])"
      ]
     },
     "execution_count": 77,
     "metadata": {},
     "output_type": "execute_result"
    }
   ],
   "source": [
    "reshaped = arr.reshape(5, 5)\n",
    "reshaped"
   ]
  },
  {
   "cell_type": "code",
   "execution_count": 79,
   "id": "2bb0ce26-2609-467f-9828-ff24a203bcc1",
   "metadata": {},
   "outputs": [
    {
     "data": {
      "text/plain": [
       "(5, 5)"
      ]
     },
     "execution_count": 79,
     "metadata": {},
     "output_type": "execute_result"
    }
   ],
   "source": [
    "reshaped.shape"
   ]
  },
  {
   "cell_type": "code",
   "execution_count": 81,
   "id": "49b4465d-1974-4d4a-8527-edab00d28648",
   "metadata": {},
   "outputs": [
    {
     "data": {
      "text/plain": [
       "array([ 0,  1,  2,  3,  4,  5,  6,  7,  8,  9, 10, 11, 12, 13, 14, 15, 16,\n",
       "       17, 18, 19, 20, 21, 22, 23, 24])"
      ]
     },
     "execution_count": 81,
     "metadata": {},
     "output_type": "execute_result"
    }
   ],
   "source": [
    "reshaped.reshape(25)"
   ]
  },
  {
   "cell_type": "code",
   "execution_count": 85,
   "id": "04cdcea1-bb72-4723-a33b-5eb6ce9deb12",
   "metadata": {},
   "outputs": [
    {
     "data": {
      "text/plain": [
       "(25,)"
      ]
     },
     "execution_count": 85,
     "metadata": {},
     "output_type": "execute_result"
    }
   ],
   "source": [
    "reshaped.reshape(25).shape"
   ]
  },
  {
   "cell_type": "code",
   "execution_count": 87,
   "id": "3bd46446-7cab-4c79-ba87-17ad70165b80",
   "metadata": {},
   "outputs": [
    {
     "data": {
      "text/plain": [
       "array([ 0,  1,  2,  3,  4,  5,  6,  7,  8,  9, 10, 11, 12, 13, 14, 15, 16,\n",
       "       17, 18, 19, 20, 21, 22, 23, 24])"
      ]
     },
     "execution_count": 87,
     "metadata": {},
     "output_type": "execute_result"
    }
   ],
   "source": [
    "arr"
   ]
  },
  {
   "cell_type": "code",
   "execution_count": 89,
   "id": "9eb08591-c1bb-4c2c-8689-f5a662567da4",
   "metadata": {},
   "outputs": [
    {
     "data": {
      "text/plain": [
       "array([[ 0,  1,  2,  3,  4,  5,  6,  7,  8,  9, 10, 11, 12, 13, 14, 15,\n",
       "        16, 17, 18, 19, 20, 21, 22, 23, 24]])"
      ]
     },
     "execution_count": 89,
     "metadata": {},
     "output_type": "execute_result"
    }
   ],
   "source": [
    "arr.reshape(1, 25)"
   ]
  },
  {
   "cell_type": "code",
   "execution_count": 91,
   "id": "699b123f-75af-4a51-80a5-fb9b9c64f377",
   "metadata": {},
   "outputs": [
    {
     "data": {
      "text/plain": [
       "(1, 25)"
      ]
     },
     "execution_count": 91,
     "metadata": {},
     "output_type": "execute_result"
    }
   ],
   "source": [
    "arr.reshape(1, 25).shape"
   ]
  },
  {
   "cell_type": "code",
   "execution_count": 93,
   "id": "49103433-df9b-4bce-8f08-0353efd3c0f6",
   "metadata": {},
   "outputs": [
    {
     "data": {
      "text/plain": [
       "array([[ 0],\n",
       "       [ 1],\n",
       "       [ 2],\n",
       "       [ 3],\n",
       "       [ 4],\n",
       "       [ 5],\n",
       "       [ 6],\n",
       "       [ 7],\n",
       "       [ 8],\n",
       "       [ 9],\n",
       "       [10],\n",
       "       [11],\n",
       "       [12],\n",
       "       [13],\n",
       "       [14],\n",
       "       [15],\n",
       "       [16],\n",
       "       [17],\n",
       "       [18],\n",
       "       [19],\n",
       "       [20],\n",
       "       [21],\n",
       "       [22],\n",
       "       [23],\n",
       "       [24]])"
      ]
     },
     "execution_count": 93,
     "metadata": {},
     "output_type": "execute_result"
    }
   ],
   "source": [
    "arr.reshape(25, 1)"
   ]
  },
  {
   "cell_type": "code",
   "execution_count": 95,
   "id": "e6519c55-195f-49cf-8283-0499beccf430",
   "metadata": {},
   "outputs": [
    {
     "data": {
      "text/plain": [
       "(25, 1)"
      ]
     },
     "execution_count": 95,
     "metadata": {},
     "output_type": "execute_result"
    }
   ],
   "source": [
    "arr.reshape(25, 1).shape"
   ]
  },
  {
   "cell_type": "markdown",
   "id": "d787349c-000f-45f3-93b8-2a144d4a3528",
   "metadata": {},
   "source": [
    "### 15) mean"
   ]
  },
  {
   "cell_type": "code",
   "execution_count": 117,
   "id": "45dbab2c-2d46-4dc1-a97b-d1b49f734477",
   "metadata": {},
   "outputs": [
    {
     "data": {
      "text/plain": [
       "12.0"
      ]
     },
     "execution_count": 117,
     "metadata": {},
     "output_type": "execute_result"
    }
   ],
   "source": [
    "arr.mean()"
   ]
  },
  {
   "cell_type": "markdown",
   "id": "40cff463-4102-440d-b46a-2cd29fe44b7f",
   "metadata": {},
   "source": [
    "### 16) flatten() \n",
    "function is used to convert a multi-dimensional NumPy array into a one-dimensional array. It creates a new copy of the data so that original array stays unchanged. "
   ]
  },
  {
   "cell_type": "code",
   "execution_count": 121,
   "id": "1977bc69-7ca1-4db0-b190-48677ecb9ee6",
   "metadata": {},
   "outputs": [
    {
     "name": "stdout",
     "output_type": "stream",
     "text": [
      "[5 6 7 8]\n"
     ]
    }
   ],
   "source": [
    "a = np.array([[5, 6], [7, 8]])\n",
    "res = a.flatten()\n",
    "print(res)"
   ]
  },
  {
   "cell_type": "code",
   "execution_count": 125,
   "id": "c0619e48-8423-4188-9dac-ee5e799489fb",
   "metadata": {},
   "outputs": [
    {
     "data": {
      "text/plain": [
       "array([[67, 67],\n",
       "       [67, 67]])"
      ]
     },
     "execution_count": 125,
     "metadata": {},
     "output_type": "execute_result"
    }
   ],
   "source": [
    "a = np.full([2, 2], 67, dtype = int) \n",
    "a"
   ]
  },
  {
   "cell_type": "markdown",
   "id": "1541e7f5-30c5-4bb0-b4c6-f42ff6eeaf3b",
   "metadata": {},
   "source": [
    "### <u>NumPy Indexing and Selection</u>"
   ]
  },
  {
   "cell_type": "markdown",
   "id": "8cca41c9-ee4a-45c9-a52f-909b5ac15fd7",
   "metadata": {},
   "source": [
    "**1) Indexing a 1D array (Vectors)**"
   ]
  },
  {
   "cell_type": "code",
   "execution_count": 102,
   "id": "096959cb-219b-4d08-b771-2da68dd3ffed",
   "metadata": {},
   "outputs": [
    {
     "data": {
      "text/plain": [
       "8"
      ]
     },
     "execution_count": 102,
     "metadata": {},
     "output_type": "execute_result"
    }
   ],
   "source": [
    "#Get a value at an index\n",
    "arr[8]"
   ]
  },
  {
   "cell_type": "code",
   "execution_count": 104,
   "id": "ca3de5a3-9c63-4864-8229-9cce7f737112",
   "metadata": {},
   "outputs": [
    {
     "data": {
      "text/plain": [
       "array([1, 2, 3, 4])"
      ]
     },
     "execution_count": 104,
     "metadata": {},
     "output_type": "execute_result"
    }
   ],
   "source": [
    "#Get values in a range\n",
    "arr[1:5]"
   ]
  },
  {
   "cell_type": "code",
   "execution_count": 106,
   "id": "bd51349c-b543-4181-b93d-e5112f97e4d4",
   "metadata": {},
   "outputs": [
    {
     "data": {
      "text/plain": [
       "array([0, 1, 2, 3, 4])"
      ]
     },
     "execution_count": 106,
     "metadata": {},
     "output_type": "execute_result"
    }
   ],
   "source": [
    "#Get values in a range\n",
    "arr[0:5]"
   ]
  },
  {
   "cell_type": "code",
   "execution_count": 108,
   "id": "cff79a4d-379b-4090-a0d2-3756783dcaac",
   "metadata": {},
   "outputs": [
    {
     "data": {
      "text/plain": [
       "array([0, 1, 2, 3, 4])"
      ]
     },
     "execution_count": 108,
     "metadata": {},
     "output_type": "execute_result"
    }
   ],
   "source": [
    "arr[:5]"
   ]
  },
  {
   "cell_type": "code",
   "execution_count": 110,
   "id": "26a8c20a-6809-43c2-87d2-5229729d4889",
   "metadata": {},
   "outputs": [
    {
     "data": {
      "text/plain": [
       "array([ 3,  4,  5,  6,  7,  8,  9, 10, 11, 12, 13, 14, 15, 16, 17, 18, 19,\n",
       "       20, 21, 22, 23, 24])"
      ]
     },
     "execution_count": 110,
     "metadata": {},
     "output_type": "execute_result"
    }
   ],
   "source": [
    "arr[3:]"
   ]
  },
  {
   "cell_type": "code",
   "execution_count": 112,
   "id": "5fdca28f-4abd-4da0-9d41-693f5f0bf626",
   "metadata": {},
   "outputs": [
    {
     "data": {
      "text/plain": [
       "array([3, 4, 5, 6])"
      ]
     },
     "execution_count": 112,
     "metadata": {},
     "output_type": "execute_result"
    }
   ],
   "source": [
    "arr[3:7]"
   ]
  },
  {
   "cell_type": "code",
   "execution_count": 114,
   "id": "40d35097-ec2a-4ae7-94dc-fcedc84ff24e",
   "metadata": {},
   "outputs": [
    {
     "data": {
      "text/plain": [
       "array([3, 5])"
      ]
     },
     "execution_count": 114,
     "metadata": {},
     "output_type": "execute_result"
    }
   ],
   "source": [
    "arr[3:7:2]"
   ]
  },
  {
   "cell_type": "code",
   "execution_count": null,
   "id": "c6b421d4-8c52-47e6-a9df-8a76a41334ff",
   "metadata": {},
   "outputs": [],
   "source": []
  }
 ],
 "metadata": {
  "kernelspec": {
   "display_name": "Python 3 (ipykernel)",
   "language": "python",
   "name": "python3"
  },
  "language_info": {
   "codemirror_mode": {
    "name": "ipython",
    "version": 3
   },
   "file_extension": ".py",
   "mimetype": "text/x-python",
   "name": "python",
   "nbconvert_exporter": "python",
   "pygments_lexer": "ipython3",
   "version": "3.12.4"
  }
 },
 "nbformat": 4,
 "nbformat_minor": 5
}
