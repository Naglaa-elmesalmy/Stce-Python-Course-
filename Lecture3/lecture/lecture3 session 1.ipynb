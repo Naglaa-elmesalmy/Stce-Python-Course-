{
 "cells": [
  {
   "cell_type": "markdown",
   "id": "5e985551-547e-45e6-9cda-fb51cf0aa12e",
   "metadata": {},
   "source": [
    "# Python Course"
   ]
  },
  {
   "cell_type": "markdown",
   "id": "4b31a621-0eb5-4b94-9792-d5e5cd47a723",
   "metadata": {},
   "source": [
    "## lecture 3 :session 1"
   ]
  },
  {
   "cell_type": "markdown",
   "id": "01ba0f49-d1fc-493d-be80-5c4b32eb511c",
   "metadata": {},
   "source": [
    "### <ins>Object Oriented Programming</ins>\n",
    "OOP is a programming style that organizes code using objects and classes instead of writing scattered instructions. It makes the code more modular, reusable, and easier to maintain—especially for large projects."
   ]
  },
  {
   "cell_type": "markdown",
   "id": "7ab925c0-b9af-40a2-b676-e25673440dfe",
   "metadata": {},
   "source": [
    "### <ins>Class</ins>"
   ]
  },
  {
   "cell_type": "markdown",
   "id": "188f43b1-c938-4454-963f-06774b40b5c1",
   "metadata": {},
   "source": [
    "A blueprint or template that defines the structure and behavior of objects (includes attributes and methods)"
   ]
  },
  {
   "cell_type": "code",
   "execution_count": 23,
   "id": "fcbd8d17-01ce-436e-ac38-58f38d0cef57",
   "metadata": {},
   "outputs": [
    {
     "name": "stdout",
     "output_type": "stream",
     "text": [
      "<class '__main__.Sample'>\n"
     ]
    }
   ],
   "source": [
    "# Create a new object type called Sample\n",
    "class Sample:\n",
    "    # put in the pass statement to create the class empty and avoid getting an error.\n",
    "    pass\n",
    "\n",
    "# Instance of Sample\n",
    "x = Sample()\n",
    "\n",
    "print(type(x))"
   ]
  },
  {
   "cell_type": "markdown",
   "id": "d199bfcc-16f8-4c05-8729-affbbc4c25cc",
   "metadata": {},
   "source": [
    "### <ins>Object</ins>"
   ]
  },
  {
   "cell_type": "markdown",
   "id": "b1fd3959-001e-46ba-a8ef-ccd2c0713877",
   "metadata": {},
   "source": [
    "An instance of a class used in the program. every type in python is object"
   ]
  },
  {
   "cell_type": "code",
   "execution_count": 19,
   "id": "2882f07b-babc-4d07-a18c-d9f625f66763",
   "metadata": {},
   "outputs": [
    {
     "name": "stdout",
     "output_type": "stream",
     "text": [
      "<class 'int'>\n",
      "<class 'list'>\n",
      "<class 'tuple'>\n",
      "<class 'dict'>\n"
     ]
    }
   ],
   "source": [
    "print(type(1))\n",
    "print(type([]))\n",
    "print(type(()))\n",
    "print(type({}))"
   ]
  },
  {
   "cell_type": "markdown",
   "id": "fe1203ce-b1aa-45cf-8f98-a0403f60188e",
   "metadata": {},
   "source": [
    "### <ins>The __init__() Function & Self</ins>"
   ]
  },
  {
   "cell_type": "raw",
   "id": "87bd44b6-7d2a-4775-9e84-b65fa4cfda90",
   "metadata": {},
   "source": [
    "__init__: is the special built-in method that runs when an object is created (used for initializing data)"
   ]
  },
  {
   "cell_type": "raw",
   "id": "558686c5-4ee9-4d0c-a81f-3b9ce75bfbad",
   "metadata": {},
   "source": [
    "self:Refers to the current instance of the class"
   ]
  },
  {
   "cell_type": "code",
   "execution_count": 28,
   "id": "fa31dc57-a42c-4326-8cef-35ca3213140c",
   "metadata": {},
   "outputs": [
    {
     "name": "stdout",
     "output_type": "stream",
     "text": [
      "John\n",
      "36\n"
     ]
    }
   ],
   "source": [
    "class Person:\n",
    "  def __init__(self, name, age):\n",
    "    self.name = name\n",
    "    self.age = age\n",
    "\n",
    "p1 = Person(\"John\", 36)\n",
    "\n",
    "print(p1.name)\n",
    "print(p1.age)"
   ]
  },
  {
   "cell_type": "code",
   "execution_count": 36,
   "id": "aa702f57-9789-453c-8ebc-b525188f9ead",
   "metadata": {},
   "outputs": [],
   "source": [
    "class Dog:\n",
    "    \"\"\"\n",
    "    This class used for making dogs\n",
    "    \"\"\"\n",
    "    \n",
    "    def __init__(self, breed='bulldog', color='white'):\n",
    "        self.breed = breed\n",
    "        self.color = color\n",
    "        print(f'Dog breed is {self.breed} and its color is {self.color}')"
   ]
  },
  {
   "cell_type": "code",
   "execution_count": 38,
   "id": "a5daa9a6-95e6-4f1b-8a3c-6d8212de98f2",
   "metadata": {},
   "outputs": [
    {
     "name": "stdout",
     "output_type": "stream",
     "text": [
      "Dog breed is bulldog and its color is white\n"
     ]
    }
   ],
   "source": [
    "rex = Dog()"
   ]
  },
  {
   "cell_type": "code",
   "execution_count": 40,
   "id": "71c26617-30cb-4ff7-810b-f9ec33f92ed5",
   "metadata": {},
   "outputs": [
    {
     "name": "stdout",
     "output_type": "stream",
     "text": [
      "Dog breed is haski and its color is gray\n"
     ]
    }
   ],
   "source": [
    "sam = Dog('haski', 'gray')"
   ]
  },
  {
   "cell_type": "code",
   "execution_count": 70,
   "id": "278ca241-41f1-40be-ae1e-51bb8635b708",
   "metadata": {},
   "outputs": [],
   "source": [
    "#delete object\n",
    "del dog2"
   ]
  },
  {
   "cell_type": "code",
   "execution_count": 75,
   "id": "aa7653c6-a4d2-49cc-8815-48a7068777ed",
   "metadata": {},
   "outputs": [
    {
     "ename": "NameError",
     "evalue": "name 'dog2' is not defined",
     "output_type": "error",
     "traceback": [
      "\u001b[1;31m---------------------------------------------------------------------------\u001b[0m",
      "\u001b[1;31mNameError\u001b[0m                                 Traceback (most recent call last)",
      "Cell \u001b[1;32mIn[75], line 1\u001b[0m\n\u001b[1;32m----> 1\u001b[0m dog2\u001b[38;5;241m.\u001b[39mcolor\n",
      "\u001b[1;31mNameError\u001b[0m: name 'dog2' is not defined"
     ]
    }
   ],
   "source": [
    "dog2.color"
   ]
  },
  {
   "cell_type": "markdown",
   "id": "77076380-3b8f-4f24-857c-d46df0b7f2eb",
   "metadata": {},
   "source": [
    "but self does not have to be named self, you can call it whatever you like, but it has to be the first parameter of any function in the class:"
   ]
  },
  {
   "cell_type": "code",
   "execution_count": 34,
   "id": "d108227f-8723-4e3f-aa10-72ce9a35b63f",
   "metadata": {},
   "outputs": [
    {
     "name": "stdout",
     "output_type": "stream",
     "text": [
      "Hello my name is John\n"
     ]
    }
   ],
   "source": [
    "class Person:\n",
    "  def __init__(mysillyobject, name, age):\n",
    "    mysillyobject.name = name\n",
    "    mysillyobject.age = age\n",
    "\n",
    "  def myfunc(abc):\n",
    "    print(\"Hello my name is \" + abc.name)\n",
    "\n",
    "p1 = Person(\"John\", 36)\n",
    "p1.myfunc()"
   ]
  },
  {
   "cell_type": "markdown",
   "id": "f29983bd-9d7e-43d6-b0ef-6c88021ad984",
   "metadata": {},
   "source": [
    "### <ins>Attributes</ins>"
   ]
  },
  {
   "cell_type": "markdown",
   "id": "9a33f3bc-f35d-4f43-acc5-98917f92e695",
   "metadata": {},
   "source": [
    "An attribute: a characteristic of an object. "
   ]
  },
  {
   "cell_type": "raw",
   "id": "4a128712-c701-4944-9251-9958e8e1da98",
   "metadata": {},
   "source": [
    "The syntax for creating an attribute is:\n",
    "\n",
    "self.attribute = something"
   ]
  },
  {
   "cell_type": "code",
   "execution_count": 42,
   "id": "e1b3f6d3-d95f-4e54-97ec-0d6bacea197d",
   "metadata": {},
   "outputs": [],
   "source": [
    "class Dog:\n",
    "    \n",
    "    # Class Object Attribute or Static Attribute\n",
    "    age = 2\n",
    "    name = None\n",
    "    \n",
    "    def __init__(self,breed,color):\n",
    "        self.breed = breed\n",
    "        self.color = color"
   ]
  },
  {
   "cell_type": "code",
   "execution_count": 44,
   "id": "2a0a93ba-6a40-43df-9143-7cb4cad8b7fa",
   "metadata": {},
   "outputs": [],
   "source": [
    "dog1=Dog('bulldog','black')"
   ]
  },
  {
   "cell_type": "code",
   "execution_count": 46,
   "id": "e705c925-32db-4ebe-bc4d-521f799e5d04",
   "metadata": {},
   "outputs": [
    {
     "data": {
      "text/plain": [
       "2"
      ]
     },
     "execution_count": 46,
     "metadata": {},
     "output_type": "execute_result"
    }
   ],
   "source": [
    "dog1.age"
   ]
  },
  {
   "cell_type": "code",
   "execution_count": 52,
   "id": "413390d0-333d-4e2f-8f97-371ecf5213c1",
   "metadata": {},
   "outputs": [
    {
     "data": {
      "text/plain": [
       "3"
      ]
     },
     "execution_count": 52,
     "metadata": {},
     "output_type": "execute_result"
    }
   ],
   "source": [
    "dog1.age=3\n",
    "dog1.age"
   ]
  },
  {
   "cell_type": "code",
   "execution_count": 54,
   "id": "6ebf9fc2-5771-4cc4-a801-a50aebb1733c",
   "metadata": {},
   "outputs": [],
   "source": [
    "dog1.name"
   ]
  },
  {
   "cell_type": "code",
   "execution_count": 56,
   "id": "bf354e52-a517-4ab5-8295-35b0a5c8708a",
   "metadata": {},
   "outputs": [
    {
     "data": {
      "text/plain": [
       "'rex'"
      ]
     },
     "execution_count": 56,
     "metadata": {},
     "output_type": "execute_result"
    }
   ],
   "source": [
    "dog1.name='rex'\n",
    "dog1.name"
   ]
  },
  {
   "cell_type": "code",
   "execution_count": 64,
   "id": "888ec96f-31fe-4e4d-a65d-1b1d4ecb3474",
   "metadata": {},
   "outputs": [
    {
     "data": {
      "text/plain": [
       "2"
      ]
     },
     "execution_count": 64,
     "metadata": {},
     "output_type": "execute_result"
    }
   ],
   "source": [
    "dog2=Dog('bulldog','gray')\n",
    "dog2.age"
   ]
  },
  {
   "cell_type": "markdown",
   "id": "c3270a2e-60c1-4654-955f-353c68150834",
   "metadata": {},
   "source": [
    "### <ins>Method</ins>"
   ]
  },
  {
   "cell_type": "code",
   "execution_count": null,
   "id": "c77f5b8d-5c29-44e6-9fb0-3c2c72f9e3bd",
   "metadata": {},
   "outputs": [],
   "source": [
    "A method : an operation we can perform with the object."
   ]
  },
  {
   "cell_type": "code",
   "execution_count": 59,
   "id": "228707a3-d2f2-4a75-9ecb-bcf5ccb4373f",
   "metadata": {},
   "outputs": [
    {
     "name": "stdout",
     "output_type": "stream",
     "text": [
      "Hello my name is John\n"
     ]
    }
   ],
   "source": [
    "class Person:\n",
    "  def __init__(self, name, age):\n",
    "    self.name = name\n",
    "    self.age = age\n",
    "\n",
    "  def print_name(self):\n",
    "    print(\"Hello my name is \" + self.name)\n",
    "\n",
    "p1 = Person(\"John\", 36)\n",
    "p1.print_name()"
   ]
  },
  {
   "cell_type": "markdown",
   "id": "2c642bfb-cc36-44f8-b82c-8f0672db906e",
   "metadata": {},
   "source": [
    "### <ins>Inheritance</ins>\n",
    "Inheritance allows us to define a class that inherits all the methods and properties from another class.\n",
    "\n",
    "* Parent class is the class being inherited from, also called base class.\r\n",
    "* \r\n",
    "Child class is the class that inherits from another class, also called derived class."
   ]
  },
  {
   "cell_type": "code",
   "execution_count": 102,
   "id": "34e31d5d-ee04-49b6-b716-594b78bbdbbe",
   "metadata": {},
   "outputs": [
    {
     "name": "stdout",
     "output_type": "stream",
     "text": [
      "John Doe\n"
     ]
    }
   ],
   "source": [
    "# A Parent Class\n",
    "class Person:\n",
    "  def __init__(self, fname, lname):\n",
    "    self.firstname = fname\n",
    "    self.lastname = lname\n",
    "\n",
    "  def printname(self):\n",
    "    print(self.firstname, self.lastname)\n",
    "\n",
    "#Use the Person class to create an object, and then execute the printname method:\n",
    "\n",
    "x = Person(\"John\", \"Doe\")\n",
    "x.printname()"
   ]
  },
  {
   "cell_type": "code",
   "execution_count": 106,
   "id": "04038691-e21d-46d7-94b8-beed876baed4",
   "metadata": {},
   "outputs": [
    {
     "name": "stdout",
     "output_type": "stream",
     "text": [
      "Mike Olsen\n"
     ]
    }
   ],
   "source": [
    "# A Child Class\n",
    "class Student(Person):\n",
    "  pass\n",
    "\n",
    "x = Student(\"Mike\", \"Olsen\")\n",
    "x.printname()"
   ]
  },
  {
   "cell_type": "markdown",
   "id": "8b4c9cfe-984b-4a2d-88cb-d7225de1dd7e",
   "metadata": {},
   "source": [
    "**Method Overriding**"
   ]
  },
  {
   "cell_type": "code",
   "execution_count": 126,
   "id": "8959db8c-1f06-470d-aa81-1e751e5f3836",
   "metadata": {},
   "outputs": [
    {
     "name": "stdout",
     "output_type": "stream",
     "text": [
      "print from Engineer class Sara John\n"
     ]
    }
   ],
   "source": [
    "class Engineer(Person):\n",
    "    age=None\n",
    "    def printname(self):\n",
    "        print(\"print from Engineer class\",self.firstname, self.lastname)\n",
    "      \n",
    "    def printsalary(self,salary):\n",
    "        print(\"the Engineer salary :\",salary)\n",
    "\n",
    "y = Engineer(\"Sara\", \"John\")\n",
    "y.printname()"
   ]
  },
  {
   "cell_type": "code",
   "execution_count": 128,
   "id": "0243e5d3-2e38-4ffa-96bd-db8b8755aa5d",
   "metadata": {},
   "outputs": [
    {
     "name": "stdout",
     "output_type": "stream",
     "text": [
      "the Engineer salary : 7000\n"
     ]
    }
   ],
   "source": [
    "# can the child have its methods as printsalary\n",
    "y.printsalary(7000)"
   ]
  },
  {
   "cell_type": "code",
   "execution_count": 130,
   "id": "13ec1831-e921-494e-96fa-d178502774c8",
   "metadata": {},
   "outputs": [
    {
     "data": {
      "text/plain": [
       "30"
      ]
     },
     "execution_count": 130,
     "metadata": {},
     "output_type": "execute_result"
    }
   ],
   "source": [
    "# can the child have its properties as age\n",
    "y.age=30\n",
    "y.age"
   ]
  },
  {
   "cell_type": "markdown",
   "id": "a14be461-ade5-442b-bb9d-1c6b6bd20007",
   "metadata": {},
   "source": [
    "**Multilevel Inheritance**"
   ]
  },
  {
   "attachments": {
    "d8f77418-e024-4b0f-9c50-1d989f2a7468.png": {
     "image/png": "[encoded data removed]"
    }
   },
   "cell_type": "markdown",
   "id": "0a92e8ed-9ce0-41e1-afbf-907443c897dd",
   "metadata": {},
   "source": [
    "Here, the Derived1 class is derived from the Base class, and the Derived2 class is derived from the Derived1 class.\n",
    "\n",
    "![image.png](attachment:d8f77418-e024-4b0f-9c50-1d989f2a7468.png)"
   ]
  },
  {
   "cell_type": "code",
   "execution_count": 145,
   "id": "9c48a42c-bc19-4add-9af5-a34ded37f2be",
   "metadata": {},
   "outputs": [],
   "source": [
    "class Base:\n",
    "    pass\n",
    "\n",
    "class Derived1(Base):\n",
    "    pass\n",
    "\n",
    "class Derived2(Derived1):\n",
    "    pass"
   ]
  },
  {
   "cell_type": "markdown",
   "id": "2466237b-fac2-4a2d-b370-42b6ed8c3a94",
   "metadata": {},
   "source": [
    "**Multiple Inheritance**"
   ]
  },
  {
   "attachments": {
    "4cbb3e8e-6d45-4e89-825f-21eae4091720.png": {
     "image/png": "[encoded data removed]"
    }
   },
   "cell_type": "markdown",
   "id": "56258884-7cfa-4f77-bc39-8aefa870ce0d",
   "metadata": {},
   "source": [
    "The MultiDerived class inherits from both Base1 and Base2 classes.\n",
    "\n",
    "![image.png](attachment:4cbb3e8e-6d45-4e89-825f-21eae4091720.png)"
   ]
  },
  {
   "cell_type": "code",
   "execution_count": 152,
   "id": "06fcd5ec-bad0-478d-a339-e4b5d719d490",
   "metadata": {},
   "outputs": [],
   "source": [
    "class Base1:\n",
    "    pass\n",
    "\n",
    "class Base2:\n",
    "    pass\n",
    "\n",
    "class MultiDerived(Base1, Base2):\n",
    "    pass"
   ]
  },
  {
   "cell_type": "markdown",
   "id": "3bea3278-da7d-4f15-845b-6ddb6533ea4e",
   "metadata": {},
   "source": [
    "### <ins>Polymorphism</ins>"
   ]
  },
  {
   "cell_type": "markdown",
   "id": "02766774-1c22-49ac-9279-1fa23a914554",
   "metadata": {},
   "source": [
    "Polymorphism refers to the way in which different object classes can share the same method name, and those methods can be called from the same place even though a variety of different objects might be passed in"
   ]
  },
  {
   "cell_type": "code",
   "execution_count": 137,
   "id": "3b0c6d15-100d-4f30-a30d-01fd5d7c13a7",
   "metadata": {},
   "outputs": [
    {
     "name": "stdout",
     "output_type": "stream",
     "text": [
      "Drive!\n",
      "Sail!\n",
      "Fly!\n"
     ]
    }
   ],
   "source": [
    "class Car:\n",
    "  def __init__(self, brand, model):\n",
    "    self.brand = brand\n",
    "    self.model = model\n",
    "\n",
    "  def move(self):\n",
    "    print(\"Drive!\")\n",
    "\n",
    "class Boat:\n",
    "  def __init__(self, brand, model):\n",
    "    self.brand = brand\n",
    "    self.model = model\n",
    "\n",
    "  def move(self):\n",
    "    print(\"Sail!\")\n",
    "\n",
    "class Plane:\n",
    "  def __init__(self, brand, model):\n",
    "    self.brand = brand\n",
    "    self.model = model\n",
    "\n",
    "  def move(self):\n",
    "    print(\"Fly!\")\n",
    "\n",
    "car1 = Car(\"Ford\", \"Mustang\")       #Create a Car object\n",
    "boat1 = Boat(\"Ibiza\", \"Touring 20\") #Create a Boat object\n",
    "plane1 = Plane(\"Boeing\", \"747\")     #Create a Plane object\n",
    "\n",
    "for x in (car1, boat1, plane1):\n",
    "  x.move()"
   ]
  },
  {
   "cell_type": "code",
   "execution_count": 139,
   "id": "b2466e2c-d953-436e-9b67-1a04dad6e3f4",
   "metadata": {},
   "outputs": [
    {
     "name": "stdout",
     "output_type": "stream",
     "text": [
      "Ford\n",
      "Mustang\n",
      "Move!\n",
      "Ibiza\n",
      "Touring 20\n",
      "Sail!\n",
      "Boeing\n",
      "747\n",
      "Fly!\n"
     ]
    }
   ],
   "source": [
    "# Inheritance Class Polymorphism\n",
    "class Vehicle:\n",
    "  def __init__(self, brand, model):\n",
    "    self.brand = brand\n",
    "    self.model = model\n",
    "\n",
    "  def move(self):\n",
    "    print(\"Move!\")\n",
    "\n",
    "class Car(Vehicle):\n",
    "  pass\n",
    "\n",
    "class Boat(Vehicle):\n",
    "  def move(self):\n",
    "    print(\"Sail!\")\n",
    "\n",
    "class Plane(Vehicle):\n",
    "  def move(self):\n",
    "    print(\"Fly!\")\n",
    "\n",
    "car1 = Car(\"Ford\", \"Mustang\")       #Create a Car object\n",
    "boat1 = Boat(\"Ibiza\", \"Touring 20\") #Create a Boat object\n",
    "plane1 = Plane(\"Boeing\", \"747\")     #Create a Plane object\n",
    "\n",
    "for x in (car1, boat1, plane1):\n",
    "  print(x.brand)\n",
    "  print(x.model)\n",
    "  x.move()"
   ]
  },
  {
   "cell_type": "markdown",
   "id": "384df8f8-13b6-43d6-8ba2-bc57014edde9",
   "metadata": {},
   "source": [
    "### <ins>Encapsulation</ins>"
   ]
  },
  {
   "attachments": {
    "0003ef63-fa9e-4da8-978b-33f2659b8618.png": {
     "image/png": "[encoded data removed]"
    }
   },
   "cell_type": "markdown",
   "id": "5c95722b-c9b7-4af1-9e13-faa1860e1df6",
   "metadata": {},
   "source": [
    "Encapsulation refers to the bundling of data (attributes) and methods (functions) that operate on the data into a single unit, typically a class. It also restricts direct access to some components, which helps protect the integrity of the data and ensures proper usage.\n",
    "Python achieves encapsulation through public, protected and private attributes.\n",
    "![image.png](attachment:0003ef63-fa9e-4da8-978b-33f2659b8618.png)"
   ]
  },
  {
   "cell_type": "markdown",
   "id": "3356665f-f627-457c-874e-2f2cb5d21296",
   "metadata": {},
   "source": [
    "**How Encapsulation Works:**\n",
    "* Data Hiding\n",
    "* Access through Methods\n",
    "* Control and Security"
   ]
  },
  {
   "cell_type": "markdown",
   "id": "301b0ed7-0d0c-420c-a39f-50eca0a731f0",
   "metadata": {},
   "source": [
    "**Public Members**\n",
    " are accessible from anywhere, both inside and outside the class. These are the default members in Python."
   ]
  },
  {
   "cell_type": "code",
   "execution_count": 86,
   "id": "c4eb0f06-c650-44ae-b510-1aef55b32878",
   "metadata": {},
   "outputs": [
    {
     "name": "stdout",
     "output_type": "stream",
     "text": [
      "John\n",
      "John\n"
     ]
    }
   ],
   "source": [
    "class Public:\n",
    "    def __init__(self):\n",
    "        self.name = \"John\"  # Public attribute\n",
    "\n",
    "    def display_name(self):\n",
    "        print(self.name)  # Public method\n",
    "\n",
    "obj = Public()\n",
    "obj.display_name()  # Accessible\n",
    "print(obj.name)  # Accessible"
   ]
  },
  {
   "cell_type": "markdown",
   "id": "0a13b3a2-16e5-4cf8-ad53-71996a2f6c36",
   "metadata": {},
   "source": [
    "**Protected members** are identified with a single underscore (_). They are meant to be accessed only within the class or its subclasses."
   ]
  },
  {
   "cell_type": "code",
   "execution_count": 89,
   "id": "eae2aa08-80fb-4d5a-95f1-44b7bcf37cb7",
   "metadata": {},
   "outputs": [
    {
     "name": "stdout",
     "output_type": "stream",
     "text": [
      "30\n"
     ]
    }
   ],
   "source": [
    "class Protected:\n",
    "    def __init__(self):\n",
    "        self._age = 30  # Protected attribute\n",
    "\n",
    "class Subclass(Protected):\n",
    "    def display_age(self):\n",
    "        print(self._age)  # Accessible in subclass\n",
    "\n",
    "obj = Subclass()\n",
    "obj.display_age()"
   ]
  },
  {
   "cell_type": "markdown",
   "id": "74893b6d-118a-4404-bad4-eb48182c5c29",
   "metadata": {},
   "source": [
    "**Private members** are identified with a double underscore (__) and cannot be accessed directly from outside the class."
   ]
  },
  {
   "cell_type": "code",
   "execution_count": 94,
   "id": "20c4e048-8946-4d5f-9443-7a276e1d1ffa",
   "metadata": {},
   "outputs": [
    {
     "name": "stdout",
     "output_type": "stream",
     "text": [
      "50000\n"
     ]
    }
   ],
   "source": [
    "class Private:\n",
    "    def __init__(self):\n",
    "        self.__salary = 50000  # Private attribute\n",
    "\n",
    "    def salary(self):\n",
    "        return self.__salary  # Access through public method\n",
    "\n",
    "obj = Private()\n",
    "print(obj.salary())  # Works\n",
    "#print(obj.__salary)  # Raises AttributeError"
   ]
  },
  {
   "cell_type": "code",
   "execution_count": 98,
   "id": "8f599860-9c43-438a-9551-8a3da14b98dd",
   "metadata": {},
   "outputs": [
    {
     "name": "stdout",
     "output_type": "stream",
     "text": [
      "I am private\n"
     ]
    }
   ],
   "source": [
    "#Triggers name mangling, where Python internally changes the name to _ClassName__member, making it harder (but not impossible) to access.\n",
    "\n",
    "class MyClass:\n",
    "    def __init__(self):\n",
    "        self.__private = \"I am private\"\n",
    "\n",
    "obj = MyClass()\n",
    "\n",
    "# Direct access fails:\n",
    "# print(obj.__private)  # AttributeError\n",
    "\n",
    "# But you can still access it using the mangled name:\n",
    "print(obj._MyClass__private)  # Works\n"
   ]
  },
  {
   "cell_type": "code",
   "execution_count": null,
   "id": "7094bcc7-51fa-4617-b9c7-ae7b024e996e",
   "metadata": {},
   "outputs": [],
   "source": []
  },
  {
   "cell_type": "code",
   "execution_count": 160,
   "id": "b0ad51c9-9c36-4143-811a-c5ac0878b867",
   "metadata": {},
   "outputs": [
    {
     "data": {
      "text/plain": [
       "['__class__',\n",
       " '__delattr__',\n",
       " '__dict__',\n",
       " '__dir__',\n",
       " '__doc__',\n",
       " '__eq__',\n",
       " '__format__',\n",
       " '__ge__',\n",
       " '__getattribute__',\n",
       " '__getstate__',\n",
       " '__gt__',\n",
       " '__hash__',\n",
       " '__init__',\n",
       " '__init_subclass__',\n",
       " '__le__',\n",
       " '__lt__',\n",
       " '__module__',\n",
       " '__ne__',\n",
       " '__new__',\n",
       " '__reduce__',\n",
       " '__reduce_ex__',\n",
       " '__repr__',\n",
       " '__setattr__',\n",
       " '__sizeof__',\n",
       " '__str__',\n",
       " '__subclasshook__',\n",
       " '__weakref__',\n",
       " 'move']"
      ]
     },
     "execution_count": 160,
     "metadata": {},
     "output_type": "execute_result"
    }
   ],
   "source": [
    "dir(Vehicle)"
   ]
  },
  {
   "cell_type": "markdown",
   "id": "525a5802-557a-4063-92f8-13a64b82e5b1",
   "metadata": {},
   "source": [
    "### <ins>Special Methods</ins>\n",
    "\n",
    "special methods are a core aspect that allows your classes to interact with built-in Python operations. These methods, often referred to as magic methods or dunder methods (due to their double underscore prefix and suffix, e.g., __init__), enable your objects to implement, and therefore respond to, operations such as addition, iteration, length checks, string representation, and many more"
   ]
  },
  {
   "cell_type": "markdown",
   "id": "7a5ede2f-4337-4edf-8f94-9c1a13f9382a",
   "metadata": {},
   "source": [
    "**``` Understanding __str__() and __repr__() ```**"
   ]
  },
  {
   "cell_type": "raw",
   "id": "280c91b1-3a80-4a60-bbf6-24cf1e9a89b5",
   "metadata": {},
   "source": [
    "__str__() Method: This method is called by the print() function and the str() built-in function.\n",
    "__repr__() Method: On the other hand, __repr__() is called by the repr() built-in function, when you print the object in the console without explicitly calling print()"
   ]
  },
  {
   "cell_type": "code",
   "execution_count": 166,
   "id": "fd50542f-4be6-4153-9066-50c9f8af3d08",
   "metadata": {},
   "outputs": [
    {
     "name": "stdout",
     "output_type": "stream",
     "text": [
      "Product(name=Coffee, price=5.99) - User Friendly\n",
      "Product('Coffee', 5.99)\n"
     ]
    }
   ],
   "source": [
    "class Product:\n",
    "    def __init__(self, name, price):\n",
    "        self.name = name\n",
    "        self.price = price\n",
    "\n",
    "    def __str__(self):\n",
    "        return f\"Product(name={self.name}, price={self.price}) - User Friendly\"\n",
    "\n",
    "    def __repr__(self):\n",
    "        return f\"Product('{self.name}', {self.price})\"\n",
    "\n",
    "# Creating an instance of Product\n",
    "product = Product('Coffee', 5.99)\n",
    "\n",
    "# Using print() or str() calls __str__()\n",
    "print(product)  # Output: Product(name=Coffee, price=5.99) - User Friendly\n",
    "\n",
    "# Using repr() or printing in the console calls __repr__()\n",
    "print(repr(product))  # Output: Product('Coffee', 5.99)"
   ]
  },
  {
   "cell_type": "code",
   "execution_count": 168,
   "id": "16a39051-e487-4540-a7b0-221e00811d43",
   "metadata": {},
   "outputs": [
    {
     "data": {
      "text/plain": [
       "Product('Coffee', 5.99)"
      ]
     },
     "execution_count": 168,
     "metadata": {},
     "output_type": "execute_result"
    }
   ],
   "source": [
    "product"
   ]
  },
  {
   "cell_type": "markdown",
   "id": "bc070a5e-1d77-40f3-a91e-b9120c8f8c6f",
   "metadata": {},
   "source": [
    "**Comparison Operators in Python OOP**\n",
    "\n",
    "In Python’s object-oriented programming, comparison operators are special methods that allow you to define custom comparison behavior for your objects. This is particularly useful when you want your objects to be sorted, filtered, or compared directly using comparison operators (==, !=, <, <=, >, >=)."
   ]
  },
  {
   "cell_type": "markdown",
   "id": "c3d717dc-faae-417b-9597-e1191e7db261",
   "metadata": {},
   "source": [
    "**```\n",
    "Default __eq__ Behavior\n",
    "```**"
   ]
  },
  {
   "cell_type": "markdown",
   "id": "477336a8-86fc-4eed-ae24-ebf9b669942f",
   "metadata": {},
   "source": [
    "By default, the __eq__ method for new class instances compares the memory addresses of the objects."
   ]
  },
  {
   "cell_type": "code",
   "execution_count": 188,
   "id": "8c7a2172-4e34-4c5d-b459-ba8132d901a6",
   "metadata": {},
   "outputs": [
    {
     "name": "stdout",
     "output_type": "stream",
     "text": [
      "False\n",
      "True\n"
     ]
    }
   ],
   "source": [
    "class Item:\n",
    "    def __init__(self, name):\n",
    "        self.name = name\n",
    "\n",
    "item1 = Item('Apple')\n",
    "item2 = Item('Apple')\n",
    "item3 = item1\n",
    "\n",
    "print(item1 == item2)  # Output: False, because they are different instances\n",
    "print(item1 == item3)  # Output: True, because they are the same instance"
   ]
  },
  {
   "cell_type": "markdown",
   "id": "7f626ce0-6633-4535-8ec3-4cab1e584ab1",
   "metadata": {},
   "source": [
    "**```\n",
    "Overriding __eq__ for Class Comparison\n",
    "```**"
   ]
  },
  {
   "cell_type": "markdown",
   "id": "55060bf7-c220-4870-9ebd-48e737e76aef",
   "metadata": {},
   "source": [
    "To enable meaningful comparison of objects based on their content or attributes rather than their memory addresses, you can override the __eq__ method. This allows you to define exactly what it means for two instances of your class to be equal."
   ]
  },
  {
   "cell_type": "code",
   "execution_count": 194,
   "id": "e57ae617-794d-4dd1-a604-6741f16254ca",
   "metadata": {},
   "outputs": [
    {
     "name": "stdout",
     "output_type": "stream",
     "text": [
      "True\n",
      "False\n"
     ]
    }
   ],
   "source": [
    "class Item:\n",
    "    def __init__(self, name):\n",
    "        self.name = name\n",
    "\n",
    "    def __eq__(self, other):\n",
    "        if not isinstance(other, Item):\n",
    "            # Don't attempt to compare against unrelated types\n",
    "            return NotImplemented\n",
    "        return self.name == other.name\n",
    "\n",
    "item1 = Item('Apple')\n",
    "item2 = Item('Apple')\n",
    "item3 = Item('Banana')\n",
    "\n",
    "print(item1 == item2)  # Output: True, because their names are the same\n",
    "print(item1 == item3)  # Output: False, because their names are different"
   ]
  },
  {
   "cell_type": "markdown",
   "id": "318b9d7d-051d-4a47-ba0f-7d3cbb6322c9",
   "metadata": {},
   "source": [
    "**Note :**\n",
    "* isinstance(other, Item) checks whether other is an instance of the Item class (or a subclass of it).\n",
    "\n",
    "* not isinstance(...) means if other is not an Item, then we do something else.\n",
    "\n",
    "* return NotImplemented is a special Python value that tells Python: \"I don’t know how to compare myself with that.\""
   ]
  },
  {
   "cell_type": "markdown",
   "id": "46d308ae-29f8-48a1-92fb-3232743aa962",
   "metadata": {},
   "source": [
    "**All The Comparison Special Methods**\n",
    "```\n",
    "__eq__(self, other): Stands for equal (==). This method is called when the equality operator is used. It should return True if the objects are considered equal, False otherwise.\n",
    "__ne__(self, other): Represents not equal (!=). It is invoked when the inequality operator is used. Should return True if the objects are not equal, False otherwise.\n",
    "__lt__(self, other): Stands for less than (<). This method is called to check if an object is less than another object.\n",
    "__le__(self, other): Represents less than or equal to (<=). It is used to verify if an object is less than or equal to another object.\n",
    "__gt__(self, other): Stands for greater than (>). This method is invoked to determine if an object is greater than another.\n",
    "__ge__(self, other): Represents greater than or equal to (>=). It checks if an object is greater than or equal to another object.\n",
    "\n",
    "```"
   ]
  },
  {
   "cell_type": "code",
   "execution_count": 205,
   "id": "208b4932-18a5-4a67-9155-b661ea5fdf64",
   "metadata": {},
   "outputs": [
    {
     "name": "stdout",
     "output_type": "stream",
     "text": [
      "False\n",
      "True\n",
      "True\n",
      "True\n",
      "False\n",
      "False\n"
     ]
    }
   ],
   "source": [
    "class Item:\n",
    "    def __init__(self, name, value):\n",
    "        self.name = name\n",
    "        self.value = value\n",
    "\n",
    "    def __eq__(self, other):\n",
    "        return self.value == other.value\n",
    "\n",
    "    def __ne__(self, other):\n",
    "        return self.value != other.value\n",
    "\n",
    "    def __lt__(self, other):\n",
    "        return self.value < other.value\n",
    "\n",
    "    def __le__(self, other):\n",
    "        return self.value <= other.value\n",
    "\n",
    "    def __gt__(self, other):\n",
    "        return self.value > other.value\n",
    "\n",
    "    def __ge__(self, other):\n",
    "        return self.value >= other.value\n",
    "\n",
    "# Creating instances of Item\n",
    "item1 = Item('Apple', 10)\n",
    "item2 = Item('Banana', 20)\n",
    "\n",
    "# Comparing the items\n",
    "print(item1 == item2)  # Output: False\n",
    "print(item1 != item2)  # Output: True\n",
    "print(item1 < item2)   # Output: True\n",
    "print(item1 <= item2)  # Output: True\n",
    "print(item1 > item2)   # Output: False\n",
    "print(item1 >= item2)  # Output: False"
   ]
  },
  {
   "cell_type": "markdown",
   "id": "8464c141-91b3-4b5e-ab58-8046f609ec67",
   "metadata": {},
   "source": [
    "### <u>Composition (Has-A Relation)</u>"
   ]
  },
  {
   "cell_type": "markdown",
   "id": "203c5f58-0df3-4a21-9ebf-3486b49c102f",
   "metadata": {},
   "source": [
    "In this concept, we will describe a class that references to one or more objects of other classes as an Instance variable."
   ]
  },
  {
   "cell_type": "raw",
   "id": "254a5d7a-2627-46f6-a51d-b6c0718b1986",
   "metadata": {},
   "source": [
    "class A :\n",
    "\n",
    "      # variables of class A\n",
    "      # methods of class A\n",
    "      ...\n",
    "      ...\n",
    "\n",
    "class B : \n",
    "      # by using \"obj\" we can access member's of class A.\n",
    "      obj = A()\n",
    "\n",
    "      # variables of class B\n",
    "      # methods of class B\n",
    "      "
   ]
  },
  {
   "cell_type": "code",
   "execution_count": 4,
   "id": "87f42cae-837d-4529-9004-b273ab290bab",
   "metadata": {},
   "outputs": [],
   "source": [
    "class Teacher:\n",
    "    def __init__(self, name, subject):\n",
    "        self.name = name\n",
    "        self.subject = subject\n",
    "    \n",
    "    def get_details(self):\n",
    "        return f\"{self.name} teaches {self.subject}.\""
   ]
  },
  {
   "cell_type": "code",
   "execution_count": 6,
   "id": "29b36b17-3993-4494-9b12-ca03632e2672",
   "metadata": {},
   "outputs": [],
   "source": [
    "class Department:\n",
    "    def __init__(self, name):\n",
    "        self.name = name\n",
    "        self.teachers = []  # Composition happens here\n",
    "\n",
    "    def add_teacher(self, teacher):\n",
    "        self.teachers.append(teacher)\n",
    "    \n",
    "    def get_department_details(self):\n",
    "        details = f\"Department: {self.name}\\n\"\n",
    "        details += \"Teachers:\\n\"\n",
    "        for teacher in self.teachers:\n",
    "            details += f\"- {teacher.get_details()}\\n\"\n",
    "        return details"
   ]
  },
  {
   "cell_type": "code",
   "execution_count": 8,
   "id": "4097fb25-bf45-4351-a843-33da145ab8db",
   "metadata": {},
   "outputs": [
    {
     "name": "stdout",
     "output_type": "stream",
     "text": [
      "Department: Math & Science\n",
      "Teachers:\n",
      "- Alice Smith teaches Mathematics.\n",
      "- Bob Johnson teaches Science.\n",
      "\n"
     ]
    }
   ],
   "source": [
    "# Creating teacher instances\n",
    "teacher1 = Teacher(\"Alice Smith\", \"Mathematics\")\n",
    "teacher2 = Teacher(\"Bob Johnson\", \"Science\")\n",
    "\n",
    "# Creating a department and adding teachers to it\n",
    "math_science_department = Department(\"Math & Science\")\n",
    "math_science_department.add_teacher(teacher1)\n",
    "math_science_department.add_teacher(teacher2)\n",
    "\n",
    "# Displaying department details\n",
    "print(math_science_department.get_department_details())"
   ]
  },
  {
   "cell_type": "code",
   "execution_count": null,
   "id": "66393f1e-5f84-4cfe-8137-dffd0fd2ce64",
   "metadata": {},
   "outputs": [],
   "source": []
  }
 ],
 "metadata": {
  "kernelspec": {
   "display_name": "Python 3 (ipykernel)",
   "language": "python",
   "name": "python3"
  },
  "language_info": {
   "codemirror_mode": {
    "name": "ipython",
    "version": 3
   },
   "file_extension": ".py",
   "mimetype": "text/x-python",
   "name": "python",
   "nbconvert_exporter": "python",
   "pygments_lexer": "ipython3",
   "version": "3.12.4"
  }
 },
 "nbformat": 4,
 "nbformat_minor": 5
}
